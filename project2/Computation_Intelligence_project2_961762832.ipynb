{
  "nbformat": 4,
  "nbformat_minor": 0,
  "metadata": {
    "colab": {
      "name": "Computation-Intelligence-project2-961762832.ipynb",
      "provenance": [],
      "collapsed_sections": [],
      "toc_visible": true
    },
    "kernelspec": {
      "name": "python3",
      "display_name": "Python 3"
    },
    "language_info": {
      "name": "python"
    }
  },
  "cells": [
    {
      "cell_type": "code",
      "metadata": {
        "colab": {
          "base_uri": "https://localhost:8080/"
        },
        "id": "1VZJN9x0tHX1",
        "outputId": "56d18011-e452-4d38-9608-bc60a12f2e0a"
      },
      "source": [
        "from google.colab import drive\n",
        "drive.mount('/content/drive')"
      ],
      "execution_count": 1,
      "outputs": [
        {
          "output_type": "stream",
          "text": [
            "Drive already mounted at /content/drive; to attempt to forcibly remount, call drive.mount(\"/content/drive\", force_remount=True).\n"
          ],
          "name": "stdout"
        }
      ]
    },
    {
      "cell_type": "code",
      "metadata": {
        "id": "xJRwxQn7vCHR"
      },
      "source": [
        "import numpy as np\n",
        "import pandas as pd\n",
        "import seaborn as sns\n",
        "import matplotlib.pyplot as plt\n",
        "import sklearn.preprocessing\n",
        "from sklearn.preprocessing import MultiLabelBinarizer\n",
        "from sklearn.linear_model import LogisticRegression\n",
        "from sklearn.datasets import make_multilabel_classification\n",
        "from sklearn.model_selection import train_test_split\n",
        "from sklearn.multiclass import OneVsRestClassifier\n",
        "from sklearn.metrics import f1_score\n",
        "from sklearn.feature_extraction.text import TfidfVectorizer\n",
        "import gensim\n",
        "import chardet\n",
        "import ast\n",
        "import re\n",
        "from gensim.parsing.preprocessing import remove_stopwords\n",
        "import collections \n",
        "import itertools\n",
        "import nltk\n",
        "from nltk.corpus import stopwords\n",
        "import tensorflow as tf\n",
        "from tensorflow import keras\n",
        "from tensorflow.keras import layers\n",
        "from keras.models import Sequential\n",
        "from keras.layers import Activation, Dense\n",
        "from scipy.sparse import csr_matrix\n"
      ],
      "execution_count": 2,
      "outputs": []
    },
    {
      "cell_type": "code",
      "metadata": {
        "id": "2_p2vsfEvFtU"
      },
      "source": [
        "reviews_train =  pd.read_csv(r\"./drive/MyDrive/datasets/Computation-Intelligence/project2/train.csv\")\n",
        "reviews_test =  pd.read_csv(r\"./drive/MyDrive/datasets/Computation-Intelligence/project2/test.csv\")"
      ],
      "execution_count": 3,
      "outputs": []
    },
    {
      "cell_type": "code",
      "metadata": {
        "id": "Db1HuMHlT3A8"
      },
      "source": [
        "np.set_printoptions(suppress=True)"
      ],
      "execution_count": 4,
      "outputs": []
    },
    {
      "cell_type": "markdown",
      "metadata": {
        "id": "A1GqD_3-oURe"
      },
      "source": [
        "# **PART 0 -- PREPROCESSING**"
      ]
    },
    {
      "cell_type": "code",
      "metadata": {
        "id": "pmcDZz79gbfk"
      },
      "source": [
        "\n",
        "reviews_train = reviews_train.drop('Unnamed: 3', 1)\n",
        "reviews_test = reviews_test.drop('Unnamed: 3', 1)\n",
        "reviews_test = reviews_test.drop('Unnamed: 4', 1)\n",
        "\n",
        "reviews = reviews_train.append(reviews_test) #appending both the datasets at \n",
        "reviews = reviews.reset_index(drop=True) \n",
        "\n",
        "'''removing rows with na values'''\n",
        "reviews = reviews.dropna() #843 978 1755 1961 have values for \"Unnamed: 3\" \n",
        "\n",
        "'''removing rows with no text for overview'''\n",
        "reviews = reviews[reviews['overview'].str.contains('[A-Za-z]')]"
      ],
      "execution_count": 5,
      "outputs": []
    },
    {
      "cell_type": "code",
      "metadata": {
        "colab": {
          "base_uri": "https://localhost:8080/"
        },
        "id": "qKQ5AhMLAOf0",
        "outputId": "25dafb00-7ebe-4e67-e273-5d0422d27da1"
      },
      "source": [
        "reviews.shape"
      ],
      "execution_count": 6,
      "outputs": [
        {
          "output_type": "execute_result",
          "data": {
            "text/plain": [
              "(2990, 3)"
            ]
          },
          "metadata": {
            "tags": []
          },
          "execution_count": 6
        }
      ]
    },
    {
      "cell_type": "code",
      "metadata": {
        "colab": {
          "base_uri": "https://localhost:8080/",
          "height": 204
        },
        "id": "tcqRhQp1AidM",
        "outputId": "b3b6a932-139f-4d89-a0a1-515039d7e9a4"
      },
      "source": [
        "reviews.tail()"
      ],
      "execution_count": 7,
      "outputs": [
        {
          "output_type": "execute_result",
          "data": {
            "text/html": [
              "<div>\n",
              "<style scoped>\n",
              "    .dataframe tbody tr th:only-of-type {\n",
              "        vertical-align: middle;\n",
              "    }\n",
              "\n",
              "    .dataframe tbody tr th {\n",
              "        vertical-align: top;\n",
              "    }\n",
              "\n",
              "    .dataframe thead th {\n",
              "        text-align: right;\n",
              "    }\n",
              "</style>\n",
              "<table border=\"1\" class=\"dataframe\">\n",
              "  <thead>\n",
              "    <tr style=\"text-align: right;\">\n",
              "      <th></th>\n",
              "      <th>id</th>\n",
              "      <th>genres</th>\n",
              "      <th>overview</th>\n",
              "    </tr>\n",
              "  </thead>\n",
              "  <tbody>\n",
              "    <tr>\n",
              "      <th>2995</th>\n",
              "      <td>2996</td>\n",
              "      <td>[{'id': 35, 'name': 'Comedy'}, {'id': 10749, '...</td>\n",
              "      <td>Military men Rock Reilly and Eddie Devane are ...</td>\n",
              "    </tr>\n",
              "    <tr>\n",
              "      <th>2996</th>\n",
              "      <td>2997</td>\n",
              "      <td>[{'id': 18, 'name': 'Drama'}, {'id': 10402, 'n...</td>\n",
              "      <td>Three girls in 1980s Stockholm decide to form ...</td>\n",
              "    </tr>\n",
              "    <tr>\n",
              "      <th>2997</th>\n",
              "      <td>2998</td>\n",
              "      <td>[{'id': 80, 'name': 'Crime'}, {'id': 28, 'name...</td>\n",
              "      <td>Samantha Caine, suburban homemaker, is the ide...</td>\n",
              "    </tr>\n",
              "    <tr>\n",
              "      <th>2998</th>\n",
              "      <td>2999</td>\n",
              "      <td>[{'id': 35, 'name': 'Comedy'}, {'id': 10749, '...</td>\n",
              "      <td>Reuben Feffer is a guy who's spent his entire ...</td>\n",
              "    </tr>\n",
              "    <tr>\n",
              "      <th>2999</th>\n",
              "      <td>3000</td>\n",
              "      <td>[{'id': 53, 'name': 'Thriller'}, {'id': 28, 'n...</td>\n",
              "      <td>A young man sets out to uncover the truth abou...</td>\n",
              "    </tr>\n",
              "  </tbody>\n",
              "</table>\n",
              "</div>"
            ],
            "text/plain": [
              "        id  ...                                           overview\n",
              "2995  2996  ...  Military men Rock Reilly and Eddie Devane are ...\n",
              "2996  2997  ...  Three girls in 1980s Stockholm decide to form ...\n",
              "2997  2998  ...  Samantha Caine, suburban homemaker, is the ide...\n",
              "2998  2999  ...  Reuben Feffer is a guy who's spent his entire ...\n",
              "2999  3000  ...  A young man sets out to uncover the truth abou...\n",
              "\n",
              "[5 rows x 3 columns]"
            ]
          },
          "metadata": {
            "tags": []
          },
          "execution_count": 7
        }
      ]
    },
    {
      "cell_type": "code",
      "metadata": {
        "id": "YmC1Wu1mTd8U"
      },
      "source": [
        "'''MODIFYING GENRES FOR REVIEWS'''\n",
        "\n",
        "for index, row in reviews.iterrows():\n",
        "  genres = ast.literal_eval(row['genres'])\n",
        "  st = '' \n",
        "  for genre in genres:\n",
        "    st += f\"{genre['name']},\"\n",
        "  st = st[0:-1] \n",
        "  reviews.loc[index,'genres'] = st\n"
      ],
      "execution_count": 8,
      "outputs": []
    },
    {
      "cell_type": "code",
      "metadata": {
        "colab": {
          "base_uri": "https://localhost:8080/",
          "height": 204
        },
        "id": "v0jH-8UrYKPj",
        "outputId": "d3d00f5b-80f2-4d56-f94f-8fee75ddc1b6"
      },
      "source": [
        "reviews.head()"
      ],
      "execution_count": 9,
      "outputs": [
        {
          "output_type": "execute_result",
          "data": {
            "text/html": [
              "<div>\n",
              "<style scoped>\n",
              "    .dataframe tbody tr th:only-of-type {\n",
              "        vertical-align: middle;\n",
              "    }\n",
              "\n",
              "    .dataframe tbody tr th {\n",
              "        vertical-align: top;\n",
              "    }\n",
              "\n",
              "    .dataframe thead th {\n",
              "        text-align: right;\n",
              "    }\n",
              "</style>\n",
              "<table border=\"1\" class=\"dataframe\">\n",
              "  <thead>\n",
              "    <tr style=\"text-align: right;\">\n",
              "      <th></th>\n",
              "      <th>id</th>\n",
              "      <th>genres</th>\n",
              "      <th>overview</th>\n",
              "    </tr>\n",
              "  </thead>\n",
              "  <tbody>\n",
              "    <tr>\n",
              "      <th>0</th>\n",
              "      <td>1</td>\n",
              "      <td>Comedy</td>\n",
              "      <td>When Lou, who has become the \"father of the In...</td>\n",
              "    </tr>\n",
              "    <tr>\n",
              "      <th>1</th>\n",
              "      <td>2</td>\n",
              "      <td>Comedy,Drama,Family,Romance</td>\n",
              "      <td>Mia Thermopolis is now a college graduate and ...</td>\n",
              "    </tr>\n",
              "    <tr>\n",
              "      <th>2</th>\n",
              "      <td>3</td>\n",
              "      <td>Drama</td>\n",
              "      <td>Under the direction of a ruthless instructor, ...</td>\n",
              "    </tr>\n",
              "    <tr>\n",
              "      <th>3</th>\n",
              "      <td>4</td>\n",
              "      <td>Thriller,Drama</td>\n",
              "      <td>Vidya Bagchi (Vidya Balan) arrives in Kolkata ...</td>\n",
              "    </tr>\n",
              "    <tr>\n",
              "      <th>4</th>\n",
              "      <td>5</td>\n",
              "      <td>Action,Thriller</td>\n",
              "      <td>Marine Boy is the story of a former national s...</td>\n",
              "    </tr>\n",
              "  </tbody>\n",
              "</table>\n",
              "</div>"
            ],
            "text/plain": [
              "   id  ...                                           overview\n",
              "0   1  ...  When Lou, who has become the \"father of the In...\n",
              "1   2  ...  Mia Thermopolis is now a college graduate and ...\n",
              "2   3  ...  Under the direction of a ruthless instructor, ...\n",
              "3   4  ...  Vidya Bagchi (Vidya Balan) arrives in Kolkata ...\n",
              "4   5  ...  Marine Boy is the story of a former national s...\n",
              "\n",
              "[5 rows x 3 columns]"
            ]
          },
          "metadata": {
            "tags": []
          },
          "execution_count": 9
        }
      ]
    },
    {
      "cell_type": "markdown",
      "metadata": {
        "id": "kkSwHUJkhJMq"
      },
      "source": [
        "**Finding movie by genre popularity in dataset**"
      ]
    },
    {
      "cell_type": "code",
      "metadata": {
        "id": "33OxTu3-gLX9"
      },
      "source": [
        "genre_count = collections.Counter(itertools.chain.from_iterable(v.split(',') for v in reviews.genres))\n",
        "\n",
        "genre_count_df = pd.DataFrame({'Genre': list(genre_count.keys()), \n",
        "                              'Count': list(genre_count.values())})"
      ],
      "execution_count": 10,
      "outputs": []
    },
    {
      "cell_type": "code",
      "metadata": {
        "colab": {
          "base_uri": "https://localhost:8080/",
          "height": 877
        },
        "id": "sFWKvFQcgm4G",
        "outputId": "2a298b07-6489-48f7-b2bb-00cbb581e1e8"
      },
      "source": [
        "g = genre_count_df.nlargest(columns=\"Count\", n = 50) \n",
        "plt.figure(figsize=(12,15)) \n",
        "ax = sns.barplot(data=g, x= \"Count\", y = \"Genre\") \n",
        "ax.set(ylabel = 'Count') \n",
        "plt.show()"
      ],
      "execution_count": 11,
      "outputs": [
        {
          "output_type": "display_data",
          "data": {
            "image/png": "[encoded data removed]",
            "text/plain": [
              "<Figure size 864x1080 with 1 Axes>"
            ]
          },
          "metadata": {
            "tags": [],
            "needs_background": "light"
          }
        }
      ]
    },
    {
      "cell_type": "code",
      "metadata": {
        "colab": {
          "base_uri": "https://localhost:8080/",
          "height": 221
        },
        "id": "h4s-neUBVXMw",
        "outputId": "d70d689c-5394-4f46-8e6e-b0b97e159332"
      },
      "source": [
        "y_dummy = reviews['genres'].str.get_dummies(sep=',')\n",
        "\n",
        "y_dummy.head()"
      ],
      "execution_count": 13,
      "outputs": [
        {
          "output_type": "execute_result",
          "data": {
            "text/html": [
              "<div>\n",
              "<style scoped>\n",
              "    .dataframe tbody tr th:only-of-type {\n",
              "        vertical-align: middle;\n",
              "    }\n",
              "\n",
              "    .dataframe tbody tr th {\n",
              "        vertical-align: top;\n",
              "    }\n",
              "\n",
              "    .dataframe thead th {\n",
              "        text-align: right;\n",
              "    }\n",
              "</style>\n",
              "<table border=\"1\" class=\"dataframe\">\n",
              "  <thead>\n",
              "    <tr style=\"text-align: right;\">\n",
              "      <th></th>\n",
              "      <th>Action</th>\n",
              "      <th>Adventure</th>\n",
              "      <th>Animation</th>\n",
              "      <th>Comedy</th>\n",
              "      <th>Crime</th>\n",
              "      <th>Documentary</th>\n",
              "      <th>Drama</th>\n",
              "      <th>Family</th>\n",
              "      <th>Fantasy</th>\n",
              "      <th>Foreign</th>\n",
              "      <th>History</th>\n",
              "      <th>Horror</th>\n",
              "      <th>Music</th>\n",
              "      <th>Mystery</th>\n",
              "      <th>Romance</th>\n",
              "      <th>Science Fiction</th>\n",
              "      <th>TV Movie</th>\n",
              "      <th>Thriller</th>\n",
              "      <th>War</th>\n",
              "      <th>Western</th>\n",
              "    </tr>\n",
              "  </thead>\n",
              "  <tbody>\n",
              "    <tr>\n",
              "      <th>0</th>\n",
              "      <td>0</td>\n",
              "      <td>0</td>\n",
              "      <td>0</td>\n",
              "      <td>1</td>\n",
              "      <td>0</td>\n",
              "      <td>0</td>\n",
              "      <td>0</td>\n",
              "      <td>0</td>\n",
              "      <td>0</td>\n",
              "      <td>0</td>\n",
              "      <td>0</td>\n",
              "      <td>0</td>\n",
              "      <td>0</td>\n",
              "      <td>0</td>\n",
              "      <td>0</td>\n",
              "      <td>0</td>\n",
              "      <td>0</td>\n",
              "      <td>0</td>\n",
              "      <td>0</td>\n",
              "      <td>0</td>\n",
              "    </tr>\n",
              "    <tr>\n",
              "      <th>1</th>\n",
              "      <td>0</td>\n",
              "      <td>0</td>\n",
              "      <td>0</td>\n",
              "      <td>1</td>\n",
              "      <td>0</td>\n",
              "      <td>0</td>\n",
              "      <td>1</td>\n",
              "      <td>1</td>\n",
              "      <td>0</td>\n",
              "      <td>0</td>\n",
              "      <td>0</td>\n",
              "      <td>0</td>\n",
              "      <td>0</td>\n",
              "      <td>0</td>\n",
              "      <td>1</td>\n",
              "      <td>0</td>\n",
              "      <td>0</td>\n",
              "      <td>0</td>\n",
              "      <td>0</td>\n",
              "      <td>0</td>\n",
              "    </tr>\n",
              "    <tr>\n",
              "      <th>2</th>\n",
              "      <td>0</td>\n",
              "      <td>0</td>\n",
              "      <td>0</td>\n",
              "      <td>0</td>\n",
              "      <td>0</td>\n",
              "      <td>0</td>\n",
              "      <td>1</td>\n",
              "      <td>0</td>\n",
              "      <td>0</td>\n",
              "      <td>0</td>\n",
              "      <td>0</td>\n",
              "      <td>0</td>\n",
              "      <td>0</td>\n",
              "      <td>0</td>\n",
              "      <td>0</td>\n",
              "      <td>0</td>\n",
              "      <td>0</td>\n",
              "      <td>0</td>\n",
              "      <td>0</td>\n",
              "      <td>0</td>\n",
              "    </tr>\n",
              "    <tr>\n",
              "      <th>3</th>\n",
              "      <td>0</td>\n",
              "      <td>0</td>\n",
              "      <td>0</td>\n",
              "      <td>0</td>\n",
              "      <td>0</td>\n",
              "      <td>0</td>\n",
              "      <td>1</td>\n",
              "      <td>0</td>\n",
              "      <td>0</td>\n",
              "      <td>0</td>\n",
              "      <td>0</td>\n",
              "      <td>0</td>\n",
              "      <td>0</td>\n",
              "      <td>0</td>\n",
              "      <td>0</td>\n",
              "      <td>0</td>\n",
              "      <td>0</td>\n",
              "      <td>1</td>\n",
              "      <td>0</td>\n",
              "      <td>0</td>\n",
              "    </tr>\n",
              "    <tr>\n",
              "      <th>4</th>\n",
              "      <td>1</td>\n",
              "      <td>0</td>\n",
              "      <td>0</td>\n",
              "      <td>0</td>\n",
              "      <td>0</td>\n",
              "      <td>0</td>\n",
              "      <td>0</td>\n",
              "      <td>0</td>\n",
              "      <td>0</td>\n",
              "      <td>0</td>\n",
              "      <td>0</td>\n",
              "      <td>0</td>\n",
              "      <td>0</td>\n",
              "      <td>0</td>\n",
              "      <td>0</td>\n",
              "      <td>0</td>\n",
              "      <td>0</td>\n",
              "      <td>1</td>\n",
              "      <td>0</td>\n",
              "      <td>0</td>\n",
              "    </tr>\n",
              "  </tbody>\n",
              "</table>\n",
              "</div>"
            ],
            "text/plain": [
              "   Action  Adventure  Animation  Comedy  ...  TV Movie  Thriller  War  Western\n",
              "0       0          0          0       1  ...         0         0    0        0\n",
              "1       0          0          0       1  ...         0         0    0        0\n",
              "2       0          0          0       0  ...         0         0    0        0\n",
              "3       0          0          0       0  ...         0         1    0        0\n",
              "4       1          0          0       0  ...         0         1    0        0\n",
              "\n",
              "[5 rows x 20 columns]"
            ]
          },
          "metadata": {
            "tags": []
          },
          "execution_count": 13
        }
      ]
    },
    {
      "cell_type": "code",
      "metadata": {
        "id": "ObPBMJMun-oT"
      },
      "source": [
        "y = y_dummy.values"
      ],
      "execution_count": 14,
      "outputs": []
    },
    {
      "cell_type": "code",
      "metadata": {
        "colab": {
          "base_uri": "https://localhost:8080/"
        },
        "id": "i3q4nSvtUivL",
        "outputId": "7b8a5f60-5e11-486f-d335-9dee524b6031"
      },
      "source": [
        "y.shape"
      ],
      "execution_count": 15,
      "outputs": [
        {
          "output_type": "execute_result",
          "data": {
            "text/plain": [
              "(2990, 20)"
            ]
          },
          "metadata": {
            "tags": []
          },
          "execution_count": 15
        }
      ]
    },
    {
      "cell_type": "markdown",
      "metadata": {
        "id": "tYaStSKqoJXc"
      },
      "source": [
        "in this section, we will clean up the overview part of the input of our problem"
      ]
    },
    {
      "cell_type": "code",
      "metadata": {
        "id": "ShQh5nUzeIA3"
      },
      "source": [
        "def clean_text(text):\n",
        "    # remove backslash-apostrophe \n",
        "    text = re.sub(\"\\'\", \"\", text) \n",
        "    # remove everything except alphabets \n",
        "    text = re.sub(\"[^a-zA-Z]\",\" \",text) \n",
        "    # remove whitespaces \n",
        "    text = ' '.join(text.split()) \n",
        "    # convert text to lowercase \n",
        "    text = text.lower() \n",
        "    \n",
        "    return text\n",
        "\n",
        "\n",
        "\n",
        "def final_clean(text):\n",
        "      return gensim.utils.simple_preprocess (text)\n"
      ],
      "execution_count": 16,
      "outputs": []
    },
    {
      "cell_type": "code",
      "metadata": {
        "id": "AQgCZXaOpsD8"
      },
      "source": [
        "X = reviews['overview']\n",
        "\n",
        "X = X.apply(lambda x: clean_text(x))\n",
        "\n",
        "X = X.apply(remove_stopwords)\n",
        "\n",
        "\n",
        "#X_w2v = X.apply(lambda x: final_clean(x))"
      ],
      "execution_count": 17,
      "outputs": []
    },
    {
      "cell_type": "code",
      "metadata": {
        "colab": {
          "base_uri": "https://localhost:8080/"
        },
        "id": "vAbzvuWKiOZn",
        "outputId": "4c5cebd6-9fe9-4379-d412-df7e15a0e324"
      },
      "source": [
        "multilabel_binarizer = MultiLabelBinarizer()\n",
        "multilabel_binarizer.fit(reviews['genres'].str.split(',')) #THIS WILL BE USED FOR INVERSE TRANSFORM\n",
        "\n",
        "#multilabel_binarizer.inverse_transform(y)[3]"
      ],
      "execution_count": 18,
      "outputs": [
        {
          "output_type": "execute_result",
          "data": {
            "text/plain": [
              "MultiLabelBinarizer(classes=None, sparse_output=False)"
            ]
          },
          "metadata": {
            "tags": []
          },
          "execution_count": 18
        }
      ]
    },
    {
      "cell_type": "code",
      "metadata": {
        "id": "3S1yB5NedoMD"
      },
      "source": [
        "xtrain, xtest, ytrain, ytest = train_test_split(X, y, test_size=0.15, random_state=9)"
      ],
      "execution_count": 19,
      "outputs": []
    },
    {
      "cell_type": "code",
      "metadata": {
        "colab": {
          "base_uri": "https://localhost:8080/"
        },
        "id": "XgRM6XLekufX",
        "outputId": "330c8749-a167-49d4-c702-ca3b607903c4"
      },
      "source": [
        "print(\"**** Y TRAIN HEAD ****\\n\")\n",
        "print(*multilabel_binarizer.inverse_transform(ytrain)[0:20],sep='\\n')\n",
        "print(\"\\n\")\n",
        "print(f\"{(ytrain)[0:20]}\\n\\n\\n\\n\\n\")\n",
        "\n",
        "print(\"**** Y TEST HEAD ****\")\n",
        "print(*multilabel_binarizer.inverse_transform(ytest)[0:20],sep='\\n')\n",
        "print(\"\\n\")\n",
        "print((ytest)[0:20])"
      ],
      "execution_count": 20,
      "outputs": [
        {
          "output_type": "stream",
          "text": [
            "**** Y TRAIN HEAD ****\n",
            "\n",
            "('Drama',)\n",
            "('Comedy',)\n",
            "('Fantasy', 'Horror', 'Science Fiction')\n",
            "('Action', 'Adventure', 'Science Fiction')\n",
            "('Comedy', 'Romance')\n",
            "('Horror', 'Mystery', 'Thriller')\n",
            "('Action', 'Adventure', 'Comedy', 'Drama')\n",
            "('Comedy', 'Drama', 'Romance')\n",
            "('Comedy',)\n",
            "('Horror',)\n",
            "('Horror',)\n",
            "('Comedy', 'Drama', 'Romance')\n",
            "('Adventure', 'Drama')\n",
            "('Adventure', 'Fantasy', 'Thriller')\n",
            "('Comedy', 'Drama', 'Thriller')\n",
            "('Drama', 'Romance')\n",
            "('Comedy',)\n",
            "('Drama', 'Thriller')\n",
            "('Action', 'Drama', 'Horror', 'Science Fiction', 'Thriller')\n",
            "('Western',)\n",
            "\n",
            "\n",
            "[[0 0 0 0 0 0 1 0 0 0 0 0 0 0 0 0 0 0 0 0]\n",
            " [0 0 0 1 0 0 0 0 0 0 0 0 0 0 0 0 0 0 0 0]\n",
            " [0 0 0 0 0 0 0 0 1 0 0 1 0 0 0 1 0 0 0 0]\n",
            " [1 1 0 0 0 0 0 0 0 0 0 0 0 0 0 1 0 0 0 0]\n",
            " [0 0 0 1 0 0 0 0 0 0 0 0 0 0 1 0 0 0 0 0]\n",
            " [0 0 0 0 0 0 0 0 0 0 0 1 0 1 0 0 0 1 0 0]\n",
            " [1 1 0 1 0 0 1 0 0 0 0 0 0 0 0 0 0 0 0 0]\n",
            " [0 0 0 1 0 0 1 0 0 0 0 0 0 0 1 0 0 0 0 0]\n",
            " [0 0 0 1 0 0 0 0 0 0 0 0 0 0 0 0 0 0 0 0]\n",
            " [0 0 0 0 0 0 0 0 0 0 0 1 0 0 0 0 0 0 0 0]\n",
            " [0 0 0 0 0 0 0 0 0 0 0 1 0 0 0 0 0 0 0 0]\n",
            " [0 0 0 1 0 0 1 0 0 0 0 0 0 0 1 0 0 0 0 0]\n",
            " [0 1 0 0 0 0 1 0 0 0 0 0 0 0 0 0 0 0 0 0]\n",
            " [0 1 0 0 0 0 0 0 1 0 0 0 0 0 0 0 0 1 0 0]\n",
            " [0 0 0 1 0 0 1 0 0 0 0 0 0 0 0 0 0 1 0 0]\n",
            " [0 0 0 0 0 0 1 0 0 0 0 0 0 0 1 0 0 0 0 0]\n",
            " [0 0 0 1 0 0 0 0 0 0 0 0 0 0 0 0 0 0 0 0]\n",
            " [0 0 0 0 0 0 1 0 0 0 0 0 0 0 0 0 0 1 0 0]\n",
            " [1 0 0 0 0 0 1 0 0 0 0 1 0 0 0 1 0 1 0 0]\n",
            " [0 0 0 0 0 0 0 0 0 0 0 0 0 0 0 0 0 0 0 1]]\n",
            "\n",
            "\n",
            "\n",
            "\n",
            "\n",
            "**** Y TEST HEAD ****\n",
            "('Comedy', 'Music', 'Romance')\n",
            "('Horror', 'Thriller')\n",
            "('Science Fiction', 'Thriller')\n",
            "('Action', 'Drama', 'Thriller')\n",
            "('Action', 'Drama')\n",
            "('Horror',)\n",
            "('Fantasy', 'Music', 'Romance')\n",
            "('Comedy', 'Drama')\n",
            "('Action', 'Crime', 'Thriller')\n",
            "('Comedy', 'Drama')\n",
            "('Action', 'Adventure', 'Comedy')\n",
            "('Comedy',)\n",
            "('Drama', 'Music', 'Romance')\n",
            "('Adventure', 'Animation', 'Comedy', 'Family', 'Fantasy', 'Romance')\n",
            "('Adventure', 'Animation', 'Comedy', 'Family')\n",
            "('Action', 'Adventure', 'Crime')\n",
            "('Comedy', 'Drama', 'Foreign')\n",
            "('Horror', 'Mystery')\n",
            "('Drama', 'Science Fiction')\n",
            "('Drama',)\n",
            "\n",
            "\n",
            "[[0 0 0 1 0 0 0 0 0 0 0 0 1 0 1 0 0 0 0 0]\n",
            " [0 0 0 0 0 0 0 0 0 0 0 1 0 0 0 0 0 1 0 0]\n",
            " [0 0 0 0 0 0 0 0 0 0 0 0 0 0 0 1 0 1 0 0]\n",
            " [1 0 0 0 0 0 1 0 0 0 0 0 0 0 0 0 0 1 0 0]\n",
            " [1 0 0 0 0 0 1 0 0 0 0 0 0 0 0 0 0 0 0 0]\n",
            " [0 0 0 0 0 0 0 0 0 0 0 1 0 0 0 0 0 0 0 0]\n",
            " [0 0 0 0 0 0 0 0 1 0 0 0 1 0 1 0 0 0 0 0]\n",
            " [0 0 0 1 0 0 1 0 0 0 0 0 0 0 0 0 0 0 0 0]\n",
            " [1 0 0 0 1 0 0 0 0 0 0 0 0 0 0 0 0 1 0 0]\n",
            " [0 0 0 1 0 0 1 0 0 0 0 0 0 0 0 0 0 0 0 0]\n",
            " [1 1 0 1 0 0 0 0 0 0 0 0 0 0 0 0 0 0 0 0]\n",
            " [0 0 0 1 0 0 0 0 0 0 0 0 0 0 0 0 0 0 0 0]\n",
            " [0 0 0 0 0 0 1 0 0 0 0 0 1 0 1 0 0 0 0 0]\n",
            " [0 1 1 1 0 0 0 1 1 0 0 0 0 0 1 0 0 0 0 0]\n",
            " [0 1 1 1 0 0 0 1 0 0 0 0 0 0 0 0 0 0 0 0]\n",
            " [1 1 0 0 1 0 0 0 0 0 0 0 0 0 0 0 0 0 0 0]\n",
            " [0 0 0 1 0 0 1 0 0 1 0 0 0 0 0 0 0 0 0 0]\n",
            " [0 0 0 0 0 0 0 0 0 0 0 1 0 1 0 0 0 0 0 0]\n",
            " [0 0 0 0 0 0 1 0 0 0 0 0 0 0 0 1 0 0 0 0]\n",
            " [0 0 0 0 0 0 1 0 0 0 0 0 0 0 0 0 0 0 0 0]]\n"
          ],
          "name": "stdout"
        }
      ]
    },
    {
      "cell_type": "markdown",
      "metadata": {
        "id": "HVxqlCxLz27U"
      },
      "source": [
        "# **PART1 -- WORD2VEC**"
      ]
    },
    {
      "cell_type": "code",
      "metadata": {
        "id": "0gpJ_dG41Uvy"
      },
      "source": [
        "SIZE = 150\n",
        "WINDOW = 10"
      ],
      "execution_count": 21,
      "outputs": []
    },
    {
      "cell_type": "code",
      "metadata": {
        "colab": {
          "base_uri": "https://localhost:8080/"
        },
        "id": "P35SKq2S1bZN",
        "outputId": "1febacdd-5105-4d22-b92c-604687999048"
      },
      "source": [
        "#note that since Word2Vec is considered an 'unsupervised' algorithm, so at \n",
        "#least during its training, it is not typical to hold back any 'test' data for\n",
        "#later evaluation.\n",
        "x_w2v = X.apply(lambda x: final_clean(x))\n",
        "w2v_model = gensim.models.Word2Vec (x_w2v, size=SIZE, window=WINDOW, min_count=2, workers=10)\n",
        "w2v_model.train(x_w2v,total_examples=len(x_w2v),epochs=10)\n",
        "\n",
        "\n"
      ],
      "execution_count": 23,
      "outputs": [
        {
          "output_type": "execute_result",
          "data": {
            "text/plain": [
              "(742584, 837390)"
            ]
          },
          "metadata": {
            "tags": []
          },
          "execution_count": 23
        }
      ]
    },
    {
      "cell_type": "code",
      "metadata": {
        "colab": {
          "base_uri": "https://localhost:8080/"
        },
        "id": "JJwN7jcP1quo",
        "outputId": "a7ca4409-597d-40cf-f566-a9d99a7ddaf4"
      },
      "source": [
        "w1 = \"love\"\n",
        "w2v_model.wv.most_similar (positive=w1)"
      ],
      "execution_count": 26,
      "outputs": [
        {
          "output_type": "execute_result",
          "data": {
            "text/plain": [
              "[('falls', 0.9947726726531982),\n",
              " ('woman', 0.9939749836921692),\n",
              " ('yamuna', 0.9927327036857605),\n",
              " ('torrid', 0.9921870827674866),\n",
              " ('tells', 0.9920265078544617),\n",
              " ('telling', 0.9919995665550232),\n",
              " ('cursed', 0.9919919371604919),\n",
              " ('unsuspecting', 0.9913012981414795),\n",
              " ('married', 0.9910011887550354),\n",
              " ('true', 0.990985631942749)]"
            ]
          },
          "metadata": {
            "tags": []
          },
          "execution_count": 26
        }
      ]
    },
    {
      "cell_type": "markdown",
      "metadata": {
        "id": "dbXjvBrTFHql"
      },
      "source": [
        "below, we find the feature values for each document by summing over the word features then dividing by the number of words"
      ]
    },
    {
      "cell_type": "code",
      "metadata": {
        "colab": {
          "base_uri": "https://localhost:8080/"
        },
        "id": "8W1ZQq4y4zYt",
        "outputId": "3e2d2ecc-b977-4eab-91df-17559540f16a"
      },
      "source": [
        "x_vec_w2v = np.zeros((len(x_w2v), SIZE))\n",
        "\n",
        "for idx, paragraph in enumerate(x_w2v): \n",
        "  ln = len(paragraph)\n",
        "  arr = np.zeros(SIZE)\n",
        "  for word in paragraph:\n",
        "    try:\n",
        "      arr = w2v_model[word] + arr\n",
        "  \n",
        "    except KeyError:\n",
        "      ln -= 1\n",
        "  arr = arr/ln \n",
        "  x_vec_w2v[idx,:] = arr"
      ],
      "execution_count": 27,
      "outputs": [
        {
          "output_type": "stream",
          "text": [
            "/usr/local/lib/python3.7/dist-packages/ipykernel_launcher.py:8: DeprecationWarning: Call to deprecated `__getitem__` (Method will be removed in 4.0.0, use self.wv.__getitem__() instead).\n",
            "  \n"
          ],
          "name": "stderr"
        }
      ]
    },
    {
      "cell_type": "code",
      "metadata": {
        "colab": {
          "base_uri": "https://localhost:8080/"
        },
        "id": "_DJQx8dr77z8",
        "outputId": "3fbdf79e-0fc0-4971-c439-cc24b7d35a19"
      },
      "source": [
        "x_vec_w2v"
      ],
      "execution_count": 28,
      "outputs": [
        {
          "output_type": "execute_result",
          "data": {
            "text/plain": [
              "array([[0.12878917, 0.02568264, 0.56623371, ..., 0.07906572, 0.33364169,\n",
              "        0.16641991],\n",
              "       [0.11788176, 0.01636379, 0.51831766, ..., 0.07221431, 0.29773221,\n",
              "        0.14446398],\n",
              "       [0.1013018 , 0.01978399, 0.45379835, ..., 0.05826371, 0.25236787,\n",
              "        0.12559693],\n",
              "       ...,\n",
              "       [0.11695513, 0.0911711 , 0.57302194, ..., 0.09962571, 0.33514345,\n",
              "        0.13463641],\n",
              "       [0.12778736, 0.01042771, 0.56063358, ..., 0.0678862 , 0.3135784 ,\n",
              "        0.15848497],\n",
              "       [0.13594157, 0.0255404 , 0.60051087, ..., 0.07285361, 0.33872547,\n",
              "        0.16379221]])"
            ]
          },
          "metadata": {
            "tags": []
          },
          "execution_count": 28
        }
      ]
    },
    {
      "cell_type": "code",
      "metadata": {
        "id": "a0bK_b9JEM4V"
      },
      "source": [
        "xtrain_w2v, xtest_w2v, ytrain_w2v, ytest_w2v = train_test_split(x_vec_w2v, y, test_size=0.15, random_state=9) #now do splitting for classification\n",
        "                                #note that since parameters same as split above, the y's will be the same as before (ytrain_w2v == ytrain)"
      ],
      "execution_count": 29,
      "outputs": []
    },
    {
      "cell_type": "markdown",
      "metadata": {
        "id": "9oXo3XSt5m3z"
      },
      "source": [
        "**LOGISTIC REGRESSION WITH 1VSALL**"
      ]
    },
    {
      "cell_type": "code",
      "metadata": {
        "colab": {
          "base_uri": "https://localhost:8080/"
        },
        "id": "Jsn6lmT25sV1",
        "outputId": "54e6d51f-a5cf-4f47-fd75-b6510ac1e44f"
      },
      "source": [
        "lr = LogisticRegression()\n",
        "clf = OneVsRestClassifier(lr)\n",
        "clf.fit(xtrain_w2v, ytrain_w2v)"
      ],
      "execution_count": 31,
      "outputs": [
        {
          "output_type": "execute_result",
          "data": {
            "text/plain": [
              "OneVsRestClassifier(estimator=LogisticRegression(C=1.0, class_weight=None,\n",
              "                                                 dual=False, fit_intercept=True,\n",
              "                                                 intercept_scaling=1,\n",
              "                                                 l1_ratio=None, max_iter=100,\n",
              "                                                 multi_class='auto',\n",
              "                                                 n_jobs=None, penalty='l2',\n",
              "                                                 random_state=None,\n",
              "                                                 solver='lbfgs', tol=0.0001,\n",
              "                                                 verbose=0, warm_start=False),\n",
              "                    n_jobs=None)"
            ]
          },
          "metadata": {
            "tags": []
          },
          "execution_count": 31
        }
      ]
    },
    {
      "cell_type": "code",
      "metadata": {
        "id": "lMI7eaxs7I7J"
      },
      "source": [
        "y_pred_prob_trn = clf.predict_proba(xtrain_w2v)\n",
        "y_pred_prob_tst = clf.predict_proba(xtest_w2v)\n",
        "\n",
        "t = 0.245 # threshold value\n",
        "y_pred_lr_trn = (y_pred_prob_trn >= t).astype(int)\n",
        "y_pred_lr_tst = (y_pred_prob_tst >= t).astype(int)\n"
      ],
      "execution_count": 57,
      "outputs": []
    },
    {
      "cell_type": "code",
      "metadata": {
        "colab": {
          "base_uri": "https://localhost:8080/"
        },
        "id": "UgyOvRoOG6Hn",
        "outputId": "0d692218-d2cb-4c6c-9c81-fc38af64e2c4"
      },
      "source": [
        "nm = 3\n",
        "print(f\"Real value: {multilabel_binarizer.inverse_transform(ytest_w2v)[nm]}\")\n",
        "print(f\"predicted value: {multilabel_binarizer.inverse_transform(y_pred_lr_tst)[nm]}\")"
      ],
      "execution_count": 55,
      "outputs": [
        {
          "output_type": "stream",
          "text": [
            "Real value: ('Action', 'Drama', 'Thriller')\n",
            "predicted value: ('Action', 'Comedy', 'Drama', 'Thriller')\n"
          ],
          "name": "stdout"
        }
      ]
    },
    {
      "cell_type": "code",
      "metadata": {
        "colab": {
          "base_uri": "https://localhost:8080/"
        },
        "id": "DfO1y7V1_lNg",
        "outputId": "35b43561-7b63-4049-87b9-6fecc74bb9ba"
      },
      "source": [
        "print(\"*** LOGISTIC REGRESSION CLASSIFIER RESULTS ***\")\n",
        "print(f\"train set f-score: {f1_score(ytrain, y_pred_lr_trn, average='micro')}\")\n",
        "print(f\"test set f-score: {f1_score(ytest, y_pred_lr_tst, average='micro')}\")\n"
      ],
      "execution_count": 58,
      "outputs": [
        {
          "output_type": "stream",
          "text": [
            "*** LOGISTIC REGRESSION CLASSIFIER RESULTS ***\n",
            "train set f-score: 0.44372904091213955\n",
            "test set f-score: 0.4531607006854532\n"
          ],
          "name": "stdout"
        }
      ]
    },
    {
      "cell_type": "markdown",
      "metadata": {
        "id": "V0L-ll-lI_Mn"
      },
      "source": [
        "**NEURAL NETWORK**"
      ]
    },
    {
      "cell_type": "code",
      "metadata": {
        "colab": {
          "base_uri": "https://localhost:8080/"
        },
        "id": "2dLzcXy65aH9",
        "outputId": "3099b06c-ac7b-44a4-d176-19a3c12ecfd8"
      },
      "source": [
        "def get_model(n_inputs, n_outputs):\n",
        "\tmodel = Sequential()\n",
        "\tmodel.add(Dense(20, input_dim=n_inputs, kernel_initializer='he_uniform', activation='relu'))\n",
        "\tmodel.add(Dense(n_outputs, activation='sigmoid'))\n",
        "\tmodel.compile(loss='binary_crossentropy', optimizer='adam')\n",
        "\treturn model\n",
        " \n",
        "\n",
        "x_train, y_train = xtrain_w2v, ytrain_w2v\n",
        "n_inputs, n_outputs = x_train.shape[1], y_train.shape[1]\n",
        "\n",
        "model = get_model(n_inputs, n_outputs)\n",
        "model.fit(x_train, y_train, verbose=0, epochs=100)\n"
      ],
      "execution_count": 59,
      "outputs": [
        {
          "output_type": "execute_result",
          "data": {
            "text/plain": [
              "<keras.callbacks.History at 0x7f0dc15fb150>"
            ]
          },
          "metadata": {
            "tags": []
          },
          "execution_count": 59
        }
      ]
    },
    {
      "cell_type": "code",
      "metadata": {
        "id": "uXbS8GKLKS-1"
      },
      "source": [
        "nn_y_pred_trn = model.predict(xtrain_w2v)\n",
        "nn_y_pred_tst = model.predict(xtest_w2v)\n",
        "\n",
        "THRESHOLD = 0.27\n",
        "nn_y_pred_trn = (nn_y_pred_trn >= THRESHOLD).astype(int)\n",
        "nn_y_pred_tst = (nn_y_pred_tst >= THRESHOLD).astype(int)"
      ],
      "execution_count": 72,
      "outputs": []
    },
    {
      "cell_type": "code",
      "metadata": {
        "colab": {
          "base_uri": "https://localhost:8080/"
        },
        "id": "m0tON4c6KdMg",
        "outputId": "67d74c93-b00d-445b-973d-6f3bd3177cdf"
      },
      "source": [
        "print(\"*** NUERAL NET CLASSIFIER ***\")\n",
        "print(f\"training set f-score: {f1_score(ytrain_w2v, nn_y_pred_trn, average='micro')}\")\n",
        "print(f\"test set f-score: {f1_score(ytest_w2v, nn_y_pred_tst, average='micro')}\")"
      ],
      "execution_count": 73,
      "outputs": [
        {
          "output_type": "stream",
          "text": [
            "*** NUERAL NET CLASSIFIER ***\n",
            "training set f-score: 0.4428690575479566\n",
            "test set f-score: 0.4551231135822081\n"
          ],
          "name": "stdout"
        }
      ]
    },
    {
      "cell_type": "markdown",
      "metadata": {
        "id": "QKgN2ezVz1WH"
      },
      "source": [
        "# **PART 2 -- TFIDF**"
      ]
    },
    {
      "cell_type": "code",
      "metadata": {
        "id": "BBuaoosxeMN6"
      },
      "source": [
        "tfidf_vectorizer = TfidfVectorizer(max_df=0.8, max_features=10000)"
      ],
      "execution_count": 74,
      "outputs": []
    },
    {
      "cell_type": "code",
      "metadata": {
        "id": "hjL2hJdeMkxp"
      },
      "source": [
        "# create TF-IDF features\n",
        "xtrain_tfidf = tfidf_vectorizer.fit_transform(xtrain)\n",
        "xtest_tfidf = tfidf_vectorizer.transform(xtest)\n",
        "\n",
        "csr_matrix.sort_indices(xtrain_tfidf)\n",
        "csr_matrix.sort_indices(xtest_tfidf)"
      ],
      "execution_count": 75,
      "outputs": []
    },
    {
      "cell_type": "markdown",
      "metadata": {
        "id": "73wmiGPXub76"
      },
      "source": [
        "**LOGISTIC REGRESSION WITH 1VSALL**"
      ]
    },
    {
      "cell_type": "code",
      "metadata": {
        "colab": {
          "base_uri": "https://localhost:8080/"
        },
        "id": "auui92l0vJ4e",
        "outputId": "7251115a-7483-4b99-8d0d-d35462890e60"
      },
      "source": [
        "lr = LogisticRegression()\n",
        "clf = OneVsRestClassifier(lr)\n",
        "clf.fit(xtrain_tfidf, ytrain)"
      ],
      "execution_count": 76,
      "outputs": [
        {
          "output_type": "execute_result",
          "data": {
            "text/plain": [
              "OneVsRestClassifier(estimator=LogisticRegression(C=1.0, class_weight=None,\n",
              "                                                 dual=False, fit_intercept=True,\n",
              "                                                 intercept_scaling=1,\n",
              "                                                 l1_ratio=None, max_iter=100,\n",
              "                                                 multi_class='auto',\n",
              "                                                 n_jobs=None, penalty='l2',\n",
              "                                                 random_state=None,\n",
              "                                                 solver='lbfgs', tol=0.0001,\n",
              "                                                 verbose=0, warm_start=False),\n",
              "                    n_jobs=None)"
            ]
          },
          "metadata": {
            "tags": []
          },
          "execution_count": 76
        }
      ]
    },
    {
      "cell_type": "code",
      "metadata": {
        "id": "x308ZQSvwLZW"
      },
      "source": [
        "y_pred_prob_trn = clf.predict_proba(xtrain_tfidf)\n",
        "y_pred_prob_tst = clf.predict_proba(xtest_tfidf)\n",
        "\n",
        "t = 0.225 # threshold value\n",
        "y_pred_lr_trn = (y_pred_prob_trn >= t).astype(int)\n",
        "y_pred_lr_tst = (y_pred_prob_tst >= t).astype(int)"
      ],
      "execution_count": 77,
      "outputs": []
    },
    {
      "cell_type": "code",
      "metadata": {
        "colab": {
          "base_uri": "https://localhost:8080/"
        },
        "id": "OLHGEQt5vxdo",
        "outputId": "68c17748-5bf5-4c02-eeed-bd4409d48eaf"
      },
      "source": [
        "nm = 3\n",
        "print(f\"Real value: {multilabel_binarizer.inverse_transform(ytest)[nm]}\")\n",
        "print(f\"predicted value: {multilabel_binarizer.inverse_transform(y_pred_lr_tst)[nm]}\")"
      ],
      "execution_count": 78,
      "outputs": [
        {
          "output_type": "stream",
          "text": [
            "Real value: ('Action', 'Drama', 'Thriller')\n",
            "predicted value: ('Action', 'Drama', 'Thriller')\n"
          ],
          "name": "stdout"
        }
      ]
    },
    {
      "cell_type": "code",
      "metadata": {
        "colab": {
          "base_uri": "https://localhost:8080/"
        },
        "id": "AU9h-0jfxQ4N",
        "outputId": "5d9f042a-4941-42eb-b16a-780cc038c974"
      },
      "source": [
        "print(\"*** LOGISTIC REGRESSION CLASSIFIER RESULTS ***\")\n",
        "print(f\"training set f-score:{f1_score(ytrain, y_pred_lr_trn, average='micro')}\")\n",
        "print(f\"test set f-score: {f1_score(ytest, y_pred_lr_tst, average='micro')}\")\n"
      ],
      "execution_count": 79,
      "outputs": [
        {
          "output_type": "stream",
          "text": [
            "*** LOGISTIC REGRESSION CLASSIFIER RESULTS ***\n",
            "training set f-score:0.6858060630395503\n",
            "test set f-score: 0.5528021349599694\n"
          ],
          "name": "stdout"
        }
      ]
    },
    {
      "cell_type": "markdown",
      "metadata": {
        "id": "N06oM_DSulTI"
      },
      "source": [
        "**NEURAL NETWORK**"
      ]
    },
    {
      "cell_type": "code",
      "metadata": {
        "colab": {
          "base_uri": "https://localhost:8080/"
        },
        "id": "xv5QD5p_NNfL",
        "outputId": "78e8dee9-681f-4b1d-e4f1-a347c4b127b8"
      },
      "source": [
        "def get_model(n_inputs, n_outputs):\n",
        "\tmodel = Sequential()\n",
        "\tmodel.add(Dense(20, input_dim=n_inputs, kernel_initializer='he_uniform', activation='relu'))\n",
        "\tmodel.add(Dense(n_outputs, activation='sigmoid'))\n",
        "\tmodel.compile(loss='binary_crossentropy', optimizer='adam')\n",
        "\treturn model\n",
        " \n",
        "\n",
        "x_train, y_train = xtrain_tfidf, ytrain\n",
        "n_inputs, n_outputs = x_train.shape[1], y_train.shape[1]\n",
        "\n",
        "model = get_model(n_inputs, n_outputs)\n",
        "model.fit(x_train, y_train, verbose=0, epochs=100)"
      ],
      "execution_count": 80,
      "outputs": [
        {
          "output_type": "stream",
          "text": [
            "/usr/local/lib/python3.7/dist-packages/tensorflow/python/framework/indexed_slices.py:449: UserWarning: Converting sparse IndexedSlices(IndexedSlices(indices=Tensor(\"gradient_tape/sequential_2/dense_4/embedding_lookup_sparse/Reshape_1:0\", shape=(None,), dtype=int32), values=Tensor(\"gradient_tape/sequential_2/dense_4/embedding_lookup_sparse/Reshape:0\", shape=(None, 20), dtype=float32), dense_shape=Tensor(\"gradient_tape/sequential_2/dense_4/embedding_lookup_sparse/Cast:0\", shape=(2,), dtype=int32))) to a dense Tensor of unknown shape. This may consume a large amount of memory.\n",
            "  \"shape. This may consume a large amount of memory.\" % value)\n"
          ],
          "name": "stderr"
        },
        {
          "output_type": "execute_result",
          "data": {
            "text/plain": [
              "<keras.callbacks.History at 0x7f0dc14fe1d0>"
            ]
          },
          "metadata": {
            "tags": []
          },
          "execution_count": 80
        }
      ]
    },
    {
      "cell_type": "code",
      "metadata": {
        "id": "nJzG4Jl9Nin_"
      },
      "source": [
        "#csr_matrix.sort_indices(xtest_tfidf)\n",
        "nn_y_pred_trn = model.predict(xtrain_tfidf)\n",
        "nn_y_pred_tst = model.predict(xtest_tfidf)"
      ],
      "execution_count": 81,
      "outputs": []
    },
    {
      "cell_type": "code",
      "metadata": {
        "colab": {
          "base_uri": "https://localhost:8080/"
        },
        "id": "p6UXFdhltM5e",
        "outputId": "e4e583e4-7a75-40a6-b3a8-c72c30d13221"
      },
      "source": [
        "'''finding best threshold for the NN result'''\n",
        "thresh =0.0\n",
        "for _ in range (10):\n",
        "  nn_y_pred = model.predict(xtest_tfidf) \n",
        "  nn_y_pred = (nn_y_pred> thresh).astype(int)\n",
        "  print(f\"threshold: {thresh} --- score: {f1_score(ytest, nn_y_pred, average='micro')}\")\n",
        "  thresh += 0.05"
      ],
      "execution_count": 82,
      "outputs": [
        {
          "output_type": "stream",
          "text": [
            "threshold: 0.0 --- score: 0.22477018879114363\n",
            "threshold: 0.05 --- score: 0.5520745131244709\n",
            "threshold: 0.1 --- score: 0.5486645540968764\n",
            "threshold: 0.15000000000000002 --- score: 0.5379506641366224\n",
            "threshold: 0.2 --- score: 0.5356793743890519\n",
            "threshold: 0.25 --- score: 0.5237381309345327\n",
            "threshold: 0.3 --- score: 0.5134449518011162\n",
            "threshold: 0.35 --- score: 0.5041407867494824\n",
            "threshold: 0.39999999999999997 --- score: 0.49178590355060936\n",
            "threshold: 0.44999999999999996 --- score: 0.4805194805194805\n"
          ],
          "name": "stdout"
        }
      ]
    },
    {
      "cell_type": "code",
      "metadata": {
        "id": "KCYrQAyqNt_m"
      },
      "source": [
        "THRESHOLD = 0.05\n",
        "nn_y_pred_trn = (nn_y_pred_trn> THRESHOLD).astype(int)\n",
        "nn_y_pred_tst = (nn_y_pred_tst> THRESHOLD).astype(int)"
      ],
      "execution_count": 83,
      "outputs": []
    },
    {
      "cell_type": "code",
      "metadata": {
        "colab": {
          "base_uri": "https://localhost:8080/"
        },
        "id": "rQLbWUg6oEsW",
        "outputId": "771e0f5c-295d-4720-c2d7-f617fb46e3d9"
      },
      "source": [
        "print(\"*** NUERAL NET CLASSIFIER ***\")\n",
        "print(f\"training set f-score: {f1_score(ytrain, nn_y_pred_trn, average='micro')}\")\n",
        "print(f\"test set f-score: {f1_score(ytest, nn_y_pred_tst, average='micro')}\")\n"
      ],
      "execution_count": 84,
      "outputs": [
        {
          "output_type": "stream",
          "text": [
            "*** NUERAL NET CLASSIFIER ***\n",
            "training set f-score: 0.9996076892899176\n",
            "test set f-score: 0.5520745131244709\n"
          ],
          "name": "stdout"
        }
      ]
    }
  ]
}