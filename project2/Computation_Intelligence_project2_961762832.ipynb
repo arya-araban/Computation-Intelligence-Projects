{
  "nbformat": 4,
  "nbformat_minor": 0,
  "metadata": {
    "colab": {
      "name": "Computation-Intelligence-project2-961762832.ipynb",
      "provenance": [],
      "collapsed_sections": []
    },
    "kernelspec": {
      "name": "python3",
      "display_name": "Python 3"
    },
    "language_info": {
      "name": "python"
    }
  },
  "cells": [
    {
      "cell_type": "code",
      "metadata": {
        "colab": {
          "base_uri": "https://localhost:8080/"
        },
        "id": "1VZJN9x0tHX1",
        "outputId": "2f8fefab-69aa-4dfd-a661-aed4c55c2089"
      },
      "source": [
        "from google.colab import drive\n",
        "drive.mount('/content/drive')"
      ],
      "execution_count": null,
      "outputs": [
        {
          "output_type": "stream",
          "text": [
            "Drive already mounted at /content/drive; to attempt to forcibly remount, call drive.mount(\"/content/drive\", force_remount=True).\n"
          ],
          "name": "stdout"
        }
      ]
    },
    {
      "cell_type": "code",
      "metadata": {
        "id": "xJRwxQn7vCHR"
      },
      "source": [
        "import numpy as np\n",
        "import pandas as pd\n",
        "import seaborn as sns\n",
        "import matplotlib.pyplot as plt\n",
        "import sklearn.preprocessing\n",
        "from sklearn.preprocessing import MultiLabelBinarizer\n",
        "from sklearn.linear_model import LogisticRegression\n",
        "from sklearn.multiclass import OneVsRestClassifier\n",
        "from sklearn.metrics import f1_score\n",
        "import gensim\n",
        "import chardet\n",
        "import ast\n",
        "import re\n",
        "from gensim.parsing.preprocessing import remove_stopwords\n",
        "import collections \n",
        "import itertools\n",
        "import nltk\n",
        "from nltk.corpus import stopwords\n",
        "import tensorflow as tf\n",
        "from tensorflow import keras\n",
        "from tensorflow.keras import layers\n",
        "from keras.layers import Activation, Dense"
      ],
      "execution_count": null,
      "outputs": []
    },
    {
      "cell_type": "code",
      "metadata": {
        "id": "2_p2vsfEvFtU"
      },
      "source": [
        "reviews_train =  pd.read_csv(r\"./drive/MyDrive/datasets/Computation-Intelligence/project2/train.csv\")\n",
        "reviews_test =  pd.read_csv(r\"./drive/MyDrive/datasets/Computation-Intelligence/project2/test.csv\")"
      ],
      "execution_count": null,
      "outputs": []
    },
    {
      "cell_type": "markdown",
      "metadata": {
        "id": "A1GqD_3-oURe"
      },
      "source": [
        "# **PART 0 -- PREPROCESSING**"
      ]
    },
    {
      "cell_type": "code",
      "metadata": {
        "id": "pmcDZz79gbfk"
      },
      "source": [
        "reviews_train = reviews_train.drop('Unnamed: 3', 1)\n",
        "reviews_test = reviews_test.drop('Unnamed: 3', 1)\n",
        "reviews_test = reviews_test.drop('Unnamed: 4', 1)\n",
        "'''removing rows with na values'''\n",
        "reviews_train = reviews_train.dropna() #843 978 1755 1961 have values for \"Unnamed: 3\" \n",
        "reviews_test = reviews_test.dropna()\n",
        "\n",
        "'''removing rows with no text for overview'''\n",
        "reviews_train = reviews_train[reviews_train['overview'].str.contains('[A-Za-z]')]\n",
        "reviews_test = reviews_test[reviews_test['overview'].str.contains('[A-Za-z]')]"
      ],
      "execution_count": null,
      "outputs": []
    },
    {
      "cell_type": "code",
      "metadata": {
        "colab": {
          "base_uri": "https://localhost:8080/"
        },
        "id": "qKQ5AhMLAOf0",
        "outputId": "504a3b2f-35b9-4170-c27b-fc14d37b327b"
      },
      "source": [
        "print(reviews_train.shape[0])\n",
        "print(reviews_test.shape[0])"
      ],
      "execution_count": null,
      "outputs": [
        {
          "output_type": "stream",
          "text": [
            "1994\n",
            "996\n"
          ],
          "name": "stdout"
        }
      ]
    },
    {
      "cell_type": "code",
      "metadata": {
        "colab": {
          "base_uri": "https://localhost:8080/",
          "height": 204
        },
        "id": "tcqRhQp1AidM",
        "outputId": "400b09d5-20dd-4170-82f9-ba539f114352"
      },
      "source": [
        "reviews_train.head()"
      ],
      "execution_count": null,
      "outputs": [
        {
          "output_type": "execute_result",
          "data": {
            "text/html": [
              "<div>\n",
              "<style scoped>\n",
              "    .dataframe tbody tr th:only-of-type {\n",
              "        vertical-align: middle;\n",
              "    }\n",
              "\n",
              "    .dataframe tbody tr th {\n",
              "        vertical-align: top;\n",
              "    }\n",
              "\n",
              "    .dataframe thead th {\n",
              "        text-align: right;\n",
              "    }\n",
              "</style>\n",
              "<table border=\"1\" class=\"dataframe\">\n",
              "  <thead>\n",
              "    <tr style=\"text-align: right;\">\n",
              "      <th></th>\n",
              "      <th>id</th>\n",
              "      <th>genres</th>\n",
              "      <th>overview</th>\n",
              "    </tr>\n",
              "  </thead>\n",
              "  <tbody>\n",
              "    <tr>\n",
              "      <th>0</th>\n",
              "      <td>1</td>\n",
              "      <td>[{'id': 35, 'name': 'Comedy'}]</td>\n",
              "      <td>When Lou, who has become the \"father of the In...</td>\n",
              "    </tr>\n",
              "    <tr>\n",
              "      <th>1</th>\n",
              "      <td>2</td>\n",
              "      <td>[{'id': 35, 'name': 'Comedy'}, {'id': 18, 'nam...</td>\n",
              "      <td>Mia Thermopolis is now a college graduate and ...</td>\n",
              "    </tr>\n",
              "    <tr>\n",
              "      <th>2</th>\n",
              "      <td>3</td>\n",
              "      <td>[{'id': 18, 'name': 'Drama'}]</td>\n",
              "      <td>Under the direction of a ruthless instructor, ...</td>\n",
              "    </tr>\n",
              "    <tr>\n",
              "      <th>3</th>\n",
              "      <td>4</td>\n",
              "      <td>[{'id': 53, 'name': 'Thriller'}, {'id': 18, 'n...</td>\n",
              "      <td>Vidya Bagchi (Vidya Balan) arrives in Kolkata ...</td>\n",
              "    </tr>\n",
              "    <tr>\n",
              "      <th>4</th>\n",
              "      <td>5</td>\n",
              "      <td>[{'id': 28, 'name': 'Action'}, {'id': 53, 'nam...</td>\n",
              "      <td>Marine Boy is the story of a former national s...</td>\n",
              "    </tr>\n",
              "  </tbody>\n",
              "</table>\n",
              "</div>"
            ],
            "text/plain": [
              "   id  ...                                           overview\n",
              "0   1  ...  When Lou, who has become the \"father of the In...\n",
              "1   2  ...  Mia Thermopolis is now a college graduate and ...\n",
              "2   3  ...  Under the direction of a ruthless instructor, ...\n",
              "3   4  ...  Vidya Bagchi (Vidya Balan) arrives in Kolkata ...\n",
              "4   5  ...  Marine Boy is the story of a former national s...\n",
              "\n",
              "[5 rows x 3 columns]"
            ]
          },
          "metadata": {
            "tags": []
          },
          "execution_count": 7
        }
      ]
    },
    {
      "cell_type": "code",
      "metadata": {
        "id": "YmC1Wu1mTd8U"
      },
      "source": [
        "'''MODIFYING GENRES FOR REVIEWS TEST'''\n",
        "\n",
        "for index, row in reviews_train.iterrows():\n",
        "  genres = ast.literal_eval(row['genres'])\n",
        "  st = '' \n",
        "  for genre in genres:\n",
        "    st += f\"{genre['name']},\"\n",
        "  st = st[0:-1] \n",
        "  reviews_train.loc[index,'genres'] = st\n",
        "\n",
        "\n",
        "\n",
        "\n",
        "'''MODIFYING GENRES FOR REVIEWS TRAIN'''\n",
        "\n",
        "for index, row in reviews_test.iterrows():\n",
        "  genres = ast.literal_eval(row['genres'])\n",
        "  st = '' \n",
        "  for genre in genres:\n",
        "    st += f\"{genre['name']},\"\n",
        "  st = st[0:-1] \n",
        "  reviews_test.loc[index,'genres'] = st\n",
        "\n"
      ],
      "execution_count": null,
      "outputs": []
    },
    {
      "cell_type": "code",
      "metadata": {
        "colab": {
          "base_uri": "https://localhost:8080/",
          "height": 204
        },
        "id": "v0jH-8UrYKPj",
        "outputId": "71fb9668-24cf-40dd-c25d-e7ed959e0076"
      },
      "source": [
        "reviews_train.head()"
      ],
      "execution_count": null,
      "outputs": [
        {
          "output_type": "execute_result",
          "data": {
            "text/html": [
              "<div>\n",
              "<style scoped>\n",
              "    .dataframe tbody tr th:only-of-type {\n",
              "        vertical-align: middle;\n",
              "    }\n",
              "\n",
              "    .dataframe tbody tr th {\n",
              "        vertical-align: top;\n",
              "    }\n",
              "\n",
              "    .dataframe thead th {\n",
              "        text-align: right;\n",
              "    }\n",
              "</style>\n",
              "<table border=\"1\" class=\"dataframe\">\n",
              "  <thead>\n",
              "    <tr style=\"text-align: right;\">\n",
              "      <th></th>\n",
              "      <th>id</th>\n",
              "      <th>genres</th>\n",
              "      <th>overview</th>\n",
              "    </tr>\n",
              "  </thead>\n",
              "  <tbody>\n",
              "    <tr>\n",
              "      <th>0</th>\n",
              "      <td>1</td>\n",
              "      <td>Comedy</td>\n",
              "      <td>When Lou, who has become the \"father of the In...</td>\n",
              "    </tr>\n",
              "    <tr>\n",
              "      <th>1</th>\n",
              "      <td>2</td>\n",
              "      <td>Comedy,Drama,Family,Romance</td>\n",
              "      <td>Mia Thermopolis is now a college graduate and ...</td>\n",
              "    </tr>\n",
              "    <tr>\n",
              "      <th>2</th>\n",
              "      <td>3</td>\n",
              "      <td>Drama</td>\n",
              "      <td>Under the direction of a ruthless instructor, ...</td>\n",
              "    </tr>\n",
              "    <tr>\n",
              "      <th>3</th>\n",
              "      <td>4</td>\n",
              "      <td>Thriller,Drama</td>\n",
              "      <td>Vidya Bagchi (Vidya Balan) arrives in Kolkata ...</td>\n",
              "    </tr>\n",
              "    <tr>\n",
              "      <th>4</th>\n",
              "      <td>5</td>\n",
              "      <td>Action,Thriller</td>\n",
              "      <td>Marine Boy is the story of a former national s...</td>\n",
              "    </tr>\n",
              "  </tbody>\n",
              "</table>\n",
              "</div>"
            ],
            "text/plain": [
              "   id  ...                                           overview\n",
              "0   1  ...  When Lou, who has become the \"father of the In...\n",
              "1   2  ...  Mia Thermopolis is now a college graduate and ...\n",
              "2   3  ...  Under the direction of a ruthless instructor, ...\n",
              "3   4  ...  Vidya Bagchi (Vidya Balan) arrives in Kolkata ...\n",
              "4   5  ...  Marine Boy is the story of a former national s...\n",
              "\n",
              "[5 rows x 3 columns]"
            ]
          },
          "metadata": {
            "tags": []
          },
          "execution_count": 9
        }
      ]
    },
    {
      "cell_type": "markdown",
      "metadata": {
        "id": "kkSwHUJkhJMq"
      },
      "source": [
        "**Finding movie by genre popularity in dataset**"
      ]
    },
    {
      "cell_type": "code",
      "metadata": {
        "id": "33OxTu3-gLX9"
      },
      "source": [
        "genre_count = collections.Counter(itertools.chain.from_iterable(v.split(',') for v in reviews_train.genres))\n",
        "\n",
        "genre_count_df = pd.DataFrame({'Genre': list(genre_count.keys()), \n",
        "                              'Count': list(genre_count.values())})"
      ],
      "execution_count": null,
      "outputs": []
    },
    {
      "cell_type": "code",
      "metadata": {
        "colab": {
          "base_uri": "https://localhost:8080/",
          "height": 877
        },
        "id": "sFWKvFQcgm4G",
        "outputId": "09adbad0-65e0-459d-a831-017537652386"
      },
      "source": [
        "g = genre_count_df.nlargest(columns=\"Count\", n = 50) \n",
        "plt.figure(figsize=(12,15)) \n",
        "ax = sns.barplot(data=g, x= \"Count\", y = \"Genre\") \n",
        "ax.set(ylabel = 'Count') \n",
        "plt.show()"
      ],
      "execution_count": null,
      "outputs": [
        {
          "output_type": "display_data",
          "data": {
            "image/png": "[encoded data removed]",
            "text/plain": [
              "<Figure size 864x1080 with 1 Axes>"
            ]
          },
          "metadata": {
            "tags": [],
            "needs_background": "light"
          }
        }
      ]
    },
    {
      "cell_type": "code",
      "metadata": {
        "colab": {
          "base_uri": "https://localhost:8080/",
          "height": 204
        },
        "id": "h4s-neUBVXMw",
        "outputId": "c4960b69-bc10-478f-c5de-5d80cb603893"
      },
      "source": [
        "y_train = reviews_train['genres'].str.get_dummies(sep=',')\n",
        "y_test = reviews_test['genres'].str.get_dummies(sep=',')\n",
        "\n",
        "# reviews_train_f = pd.concat([reviews_train, y_train], axis=1, join='inner')\n",
        "# reviews_test_f = pd.concat([reviews_test, y_test], axis=1, join='inner')\n",
        "\n",
        "# reviews_train_f = reviews_train_f.drop(['genres'],axis=1)\n",
        "# reviews_test_f = reviews_test_f.drop(['genres'],axis=1)\n",
        "y_train.head()"
      ],
      "execution_count": null,
      "outputs": [
        {
          "output_type": "execute_result",
          "data": {
            "text/html": [
              "<div>\n",
              "<style scoped>\n",
              "    .dataframe tbody tr th:only-of-type {\n",
              "        vertical-align: middle;\n",
              "    }\n",
              "\n",
              "    .dataframe tbody tr th {\n",
              "        vertical-align: top;\n",
              "    }\n",
              "\n",
              "    .dataframe thead th {\n",
              "        text-align: right;\n",
              "    }\n",
              "</style>\n",
              "<table border=\"1\" class=\"dataframe\">\n",
              "  <thead>\n",
              "    <tr style=\"text-align: right;\">\n",
              "      <th></th>\n",
              "      <th>Action</th>\n",
              "      <th>Adventure</th>\n",
              "      <th>Animation</th>\n",
              "      <th>Comedy</th>\n",
              "      <th>Crime</th>\n",
              "      <th>Documentary</th>\n",
              "      <th>Drama</th>\n",
              "      <th>Family</th>\n",
              "      <th>Fantasy</th>\n",
              "      <th>Foreign</th>\n",
              "      <th>History</th>\n",
              "      <th>Horror</th>\n",
              "      <th>Music</th>\n",
              "      <th>Mystery</th>\n",
              "      <th>Romance</th>\n",
              "      <th>Science Fiction</th>\n",
              "      <th>TV Movie</th>\n",
              "      <th>Thriller</th>\n",
              "      <th>War</th>\n",
              "      <th>Western</th>\n",
              "    </tr>\n",
              "  </thead>\n",
              "  <tbody>\n",
              "    <tr>\n",
              "      <th>0</th>\n",
              "      <td>0</td>\n",
              "      <td>0</td>\n",
              "      <td>0</td>\n",
              "      <td>1</td>\n",
              "      <td>0</td>\n",
              "      <td>0</td>\n",
              "      <td>0</td>\n",
              "      <td>0</td>\n",
              "      <td>0</td>\n",
              "      <td>0</td>\n",
              "      <td>0</td>\n",
              "      <td>0</td>\n",
              "      <td>0</td>\n",
              "      <td>0</td>\n",
              "      <td>0</td>\n",
              "      <td>0</td>\n",
              "      <td>0</td>\n",
              "      <td>0</td>\n",
              "      <td>0</td>\n",
              "      <td>0</td>\n",
              "    </tr>\n",
              "    <tr>\n",
              "      <th>1</th>\n",
              "      <td>0</td>\n",
              "      <td>0</td>\n",
              "      <td>0</td>\n",
              "      <td>1</td>\n",
              "      <td>0</td>\n",
              "      <td>0</td>\n",
              "      <td>1</td>\n",
              "      <td>1</td>\n",
              "      <td>0</td>\n",
              "      <td>0</td>\n",
              "      <td>0</td>\n",
              "      <td>0</td>\n",
              "      <td>0</td>\n",
              "      <td>0</td>\n",
              "      <td>1</td>\n",
              "      <td>0</td>\n",
              "      <td>0</td>\n",
              "      <td>0</td>\n",
              "      <td>0</td>\n",
              "      <td>0</td>\n",
              "    </tr>\n",
              "    <tr>\n",
              "      <th>2</th>\n",
              "      <td>0</td>\n",
              "      <td>0</td>\n",
              "      <td>0</td>\n",
              "      <td>0</td>\n",
              "      <td>0</td>\n",
              "      <td>0</td>\n",
              "      <td>1</td>\n",
              "      <td>0</td>\n",
              "      <td>0</td>\n",
              "      <td>0</td>\n",
              "      <td>0</td>\n",
              "      <td>0</td>\n",
              "      <td>0</td>\n",
              "      <td>0</td>\n",
              "      <td>0</td>\n",
              "      <td>0</td>\n",
              "      <td>0</td>\n",
              "      <td>0</td>\n",
              "      <td>0</td>\n",
              "      <td>0</td>\n",
              "    </tr>\n",
              "    <tr>\n",
              "      <th>3</th>\n",
              "      <td>0</td>\n",
              "      <td>0</td>\n",
              "      <td>0</td>\n",
              "      <td>0</td>\n",
              "      <td>0</td>\n",
              "      <td>0</td>\n",
              "      <td>1</td>\n",
              "      <td>0</td>\n",
              "      <td>0</td>\n",
              "      <td>0</td>\n",
              "      <td>0</td>\n",
              "      <td>0</td>\n",
              "      <td>0</td>\n",
              "      <td>0</td>\n",
              "      <td>0</td>\n",
              "      <td>0</td>\n",
              "      <td>0</td>\n",
              "      <td>1</td>\n",
              "      <td>0</td>\n",
              "      <td>0</td>\n",
              "    </tr>\n",
              "    <tr>\n",
              "      <th>4</th>\n",
              "      <td>1</td>\n",
              "      <td>0</td>\n",
              "      <td>0</td>\n",
              "      <td>0</td>\n",
              "      <td>0</td>\n",
              "      <td>0</td>\n",
              "      <td>0</td>\n",
              "      <td>0</td>\n",
              "      <td>0</td>\n",
              "      <td>0</td>\n",
              "      <td>0</td>\n",
              "      <td>0</td>\n",
              "      <td>0</td>\n",
              "      <td>0</td>\n",
              "      <td>0</td>\n",
              "      <td>0</td>\n",
              "      <td>0</td>\n",
              "      <td>1</td>\n",
              "      <td>0</td>\n",
              "      <td>0</td>\n",
              "    </tr>\n",
              "  </tbody>\n",
              "</table>\n",
              "</div>"
            ],
            "text/plain": [
              "   Action  Adventure  Animation  Comedy  ...  TV Movie  Thriller  War  Western\n",
              "0       0          0          0       1  ...         0         0    0        0\n",
              "1       0          0          0       1  ...         0         0    0        0\n",
              "2       0          0          0       0  ...         0         0    0        0\n",
              "3       0          0          0       0  ...         0         1    0        0\n",
              "4       1          0          0       0  ...         0         1    0        0\n",
              "\n",
              "[5 rows x 20 columns]"
            ]
          },
          "metadata": {
            "tags": []
          },
          "execution_count": 12
        }
      ]
    },
    {
      "cell_type": "code",
      "metadata": {
        "id": "ObPBMJMun-oT"
      },
      "source": [
        "y_train_vec = y_train.values\n",
        "y_test_vec = y_test.values"
      ],
      "execution_count": null,
      "outputs": []
    },
    {
      "cell_type": "code",
      "metadata": {
        "colab": {
          "base_uri": "https://localhost:8080/"
        },
        "id": "i3q4nSvtUivL",
        "outputId": "b6ca375b-ea2d-4d98-e3da-48a43e0afe8d"
      },
      "source": [
        "y_train_vec.shape"
      ],
      "execution_count": null,
      "outputs": [
        {
          "output_type": "execute_result",
          "data": {
            "text/plain": [
              "(1994, 20)"
            ]
          },
          "metadata": {
            "tags": []
          },
          "execution_count": 14
        }
      ]
    },
    {
      "cell_type": "markdown",
      "metadata": {
        "id": "tYaStSKqoJXc"
      },
      "source": [
        "in this section, we will clean up the overview part of the input of our problem"
      ]
    },
    {
      "cell_type": "code",
      "metadata": {
        "id": "ShQh5nUzeIA3"
      },
      "source": [
        "def clean_text(text):\n",
        "    # remove backslash-apostrophe \n",
        "    text = re.sub(\"\\'\", \"\", text) \n",
        "    # remove everything except alphabets \n",
        "    text = re.sub(\"[^a-zA-Z]\",\" \",text) \n",
        "    # remove whitespaces \n",
        "    text = ' '.join(text.split()) \n",
        "    # convert text to lowercase \n",
        "    text = text.lower() \n",
        "    \n",
        "    return text\n",
        "\n",
        "# def remove_stopwords(text):\n",
        "#     no_stopword_text = [w for w in text.split() if not w in stop_words]\n",
        "#     return ' '.join(no_stopword_text)\n",
        "\n",
        "\n",
        "def final_clean(text):\n",
        "      return gensim.utils.simple_preprocess (text)\n"
      ],
      "execution_count": null,
      "outputs": []
    },
    {
      "cell_type": "code",
      "metadata": {
        "id": "AQgCZXaOpsD8"
      },
      "source": [
        "x_train = reviews_train['overview']\n",
        "x_test = reviews_test['overview']\n",
        "\n",
        "x_train = x_train.apply(lambda x: clean_text(x))\n",
        "x_test = x_test.apply(lambda x: clean_text(x))\n",
        "\n",
        "x_train = x_train.apply(remove_stopwords)\n",
        "x_test = x_test.apply(remove_stopwords)\n",
        "\n",
        "x_train = x_train.apply(lambda x: final_clean(x))\n",
        "x_test = x_test.apply(lambda x: final_clean(x))"
      ],
      "execution_count": null,
      "outputs": []
    },
    {
      "cell_type": "code",
      "metadata": {
        "colab": {
          "base_uri": "https://localhost:8080/"
        },
        "id": "nD0S4BHFi8xQ",
        "outputId": "0c66b647-06d0-439d-de74-2b687553de4a"
      },
      "source": [
        "x_train[0]"
      ],
      "execution_count": null,
      "outputs": [
        {
          "output_type": "execute_result",
          "data": {
            "text/plain": [
              "['lou',\n",
              " 'father',\n",
              " 'internet',\n",
              " 'shot',\n",
              " 'unknown',\n",
              " 'assailant',\n",
              " 'jacob',\n",
              " 'nick',\n",
              " 'time',\n",
              " 'machine',\n",
              " 'save',\n",
              " 'friend']"
            ]
          },
          "metadata": {
            "tags": []
          },
          "execution_count": 17
        }
      ]
    },
    {
      "cell_type": "code",
      "metadata": {
        "id": "01RMK0ru3L6L"
      },
      "source": [
        "SIZE = 150\n",
        "WINDOW = 5"
      ],
      "execution_count": 1,
      "outputs": []
    },
    {
      "cell_type": "code",
      "metadata": {
        "colab": {
          "base_uri": "https://localhost:8080/"
        },
        "id": "kSeTVuL7CH4L",
        "outputId": "b117854b-c321-47da-bff8-455bb5651b59"
      },
      "source": [
        "w2v_model_trn = gensim.models.Word2Vec (x_train, size=SIZE, window=WINDOW, min_count=2, workers=10)\n",
        "w2v_model_trn.train(x_train,total_examples=len(x_train),epochs=10)\n",
        "\n",
        "w2v_model_tst = gensim.models.Word2Vec (x_test, size=SIZE, window=WINDOW, min_count=2, workers=10)\n",
        "w2v_model_tst.train(x_test,total_examples=len(x_test),epochs=10)"
      ],
      "execution_count": null,
      "outputs": [
        {
          "output_type": "execute_result",
          "data": {
            "text/plain": [
              "(222593, 278170)"
            ]
          },
          "metadata": {
            "tags": []
          },
          "execution_count": 118
        }
      ]
    },
    {
      "cell_type": "code",
      "metadata": {
        "colab": {
          "base_uri": "https://localhost:8080/"
        },
        "id": "Y5xX7SIBEu6G",
        "outputId": "c3e6ac47-1096-4240-dd19-16273512956c"
      },
      "source": [
        "w1 = \"death\"\n",
        "w2v_model_trn.wv.most_similar (positive=w1)"
      ],
      "execution_count": null,
      "outputs": [
        {
          "output_type": "execute_result",
          "data": {
            "text/plain": [
              "[('money', 0.999982476234436),\n",
              " ('evil', 0.9999806880950928),\n",
              " ('night', 0.9999804496765137),\n",
              " ('planet', 0.9999796152114868),\n",
              " ('local', 0.9999794960021973),\n",
              " ('john', 0.9999793767929077),\n",
              " ('past', 0.9999793767929077),\n",
              " ('search', 0.9999792575836182),\n",
              " ('known', 0.9999791383743286),\n",
              " ('prison', 0.9999790787696838)]"
            ]
          },
          "metadata": {
            "tags": []
          },
          "execution_count": 119
        }
      ]
    },
    {
      "cell_type": "code",
      "metadata": {
        "id": "WWAohaUbugkM"
      },
      "source": [
        "#(w2v_model_trn['father'] + w2v_model_trn['car'])/2"
      ],
      "execution_count": null,
      "outputs": []
    },
    {
      "cell_type": "code",
      "metadata": {
        "colab": {
          "base_uri": "https://localhost:8080/"
        },
        "id": "rikQ_wr5v41m",
        "outputId": "33c1a848-296c-4a02-ed91-5bad6c46b07a"
      },
      "source": [
        "x_train_vec = np.zeros((len(x_train), SIZE))\n",
        "\n",
        "for idx, paragraph in enumerate(x_train): \n",
        "  ln = len(paragraph)\n",
        "  arr = np.zeros(SIZE)\n",
        "  for word in paragraph:\n",
        "    try:\n",
        "      arr = w2v_model_trn[word] + arr\n",
        "  \n",
        "    except KeyError:\n",
        "      ln -= 1\n",
        "  arr = arr/ln \n",
        "  # if idx == 156:\n",
        "  #   print(f\"{arr} --- len:{ln}\\n\\n\\n\\n\")\n",
        "  x_train_vec[idx,:] = arr\n",
        "  # print(x_train_vec[idx,:])  \n",
        "  # print(idx)\n",
        "  # break\n",
        "\n",
        "\n",
        "\n",
        "\n",
        "x_test_vec = np.zeros((len(x_test), SIZE))\n",
        "\n",
        "for idx, paragraph in enumerate(x_test): \n",
        "  ln = len(paragraph)\n",
        "  arr = np.zeros(SIZE)\n",
        "  for word in paragraph:\n",
        "    try:\n",
        "      arr = w2v_model_tst[word] + arr\n",
        "      #print(f\"{arr}\\n\\n\\n\\n\")\n",
        "    except KeyError:\n",
        "      ln -= 1\n",
        "  arr = arr/ln \n",
        "  x_test_vec[idx,:] = arr\n"
      ],
      "execution_count": null,
      "outputs": [
        {
          "output_type": "stream",
          "text": [
            "/usr/local/lib/python3.7/dist-packages/ipykernel_launcher.py:8: DeprecationWarning: Call to deprecated `__getitem__` (Method will be removed in 4.0.0, use self.wv.__getitem__() instead).\n",
            "  \n",
            "/usr/local/lib/python3.7/dist-packages/ipykernel_launcher.py:30: DeprecationWarning: Call to deprecated `__getitem__` (Method will be removed in 4.0.0, use self.wv.__getitem__() instead).\n"
          ],
          "name": "stderr"
        }
      ]
    },
    {
      "cell_type": "code",
      "metadata": {
        "colab": {
          "base_uri": "https://localhost:8080/"
        },
        "id": "XB30EnEd4c6t",
        "outputId": "8f86db25-d375-4c51-d85d-3b89ad054a1f"
      },
      "source": [
        "print(x_train_vec.shape)\n",
        "\n",
        "print(y_train_vec.shape)"
      ],
      "execution_count": null,
      "outputs": [
        {
          "output_type": "stream",
          "text": [
            "(1994, 500)\n",
            "(1994, 20)\n"
          ],
          "name": "stdout"
        }
      ]
    },
    {
      "cell_type": "markdown",
      "metadata": {
        "id": "9P8dR3CR-iEf"
      },
      "source": [
        "Training the model"
      ]
    },
    {
      "cell_type": "code",
      "metadata": {
        "colab": {
          "base_uri": "https://localhost:8080/",
          "height": 35
        },
        "id": "Sf2jIcor98fs",
        "outputId": "f924a952-fc33-4a95-ec03-c08d7e4a0282"
      },
      "source": [
        "\n",
        "'''METHOD 1: LR'''\n",
        "lr = LogisticRegression()\n",
        "clf = OneVsRestClassifier(lr)\n",
        "clf.fit(x_train_vec, y_train)\n",
        "'''METHOD 2 : NN'''\n",
        "\n",
        "# def get_model(n_inputs, n_outputs):\n",
        "# \tmodel = Sequential()\n",
        "# \tmodel.add(Dense(20, input_dim=n_inputs, kernel_initializer='he_uniform', activation='relu'))\n",
        "# \tmodel.add(Dense(n_outputs, activation='sigmoid'))\n",
        "# \tmodel.compile(loss='binary_crossentropy', optimizer='adam')\n",
        "# \treturn model\n",
        " \n",
        "\n",
        "# X, y = x_train_vec, y_train_vec\n",
        "# n_inputs, n_outputs = X.shape[1], y.shape[1]\n",
        "\n",
        "# model = get_model(n_inputs, n_outputs)\n",
        "\n",
        "# model.fit(X, y, verbose=0, epochs=100)\n",
        "\n",
        "# yhat = model.predict(X)[0]\n",
        "# print(yhat)\n",
        "\n",
        "\n",
        "#np.argmax(model.predict(asarray([X[30]])))"
      ],
      "execution_count": null,
      "outputs": [
        {
          "output_type": "execute_result",
          "data": {
            "application/vnd.google.colaboratory.intrinsic+json": {
              "type": "string"
            },
            "text/plain": [
              "'METHOD 2 : NN'"
            ]
          },
          "metadata": {
            "tags": []
          },
          "execution_count": 123
        }
      ]
    },
    {
      "cell_type": "code",
      "metadata": {
        "colab": {
          "base_uri": "https://localhost:8080/"
        },
        "id": "3B348SQVPm0l",
        "outputId": "88b66616-0e9a-4ddf-dc91-16fbde089574"
      },
      "source": [
        "nm = 656\n",
        "print(clf.predict(x_train_vec)[nm])\n",
        "print(y_train_vec[nm])\n",
        "# mdl.predict(x_train_vec)[1992]"
      ],
      "execution_count": null,
      "outputs": [
        {
          "output_type": "stream",
          "text": [
            "[0 0 0 0 0 0 0 0 0 0 0 0 0 0 0 0 0 0 0 0]\n",
            "[1 0 0 1 0 0 0 0 0 0 0 0 0 0 0 1 0 0 0 0]\n"
          ],
          "name": "stdout"
        }
      ]
    },
    {
      "cell_type": "code",
      "metadata": {
        "id": "YS83IsdYAF_B"
      },
      "source": [
        "#x_train_vec[np.isnan(x_train_vec)] = 0\n",
        "#np.argwhere(np.isnan(x_train_vec))\n",
        "#print(x_train_vec[0,:])"
      ],
      "execution_count": null,
      "outputs": []
    },
    {
      "cell_type": "code",
      "metadata": {
        "colab": {
          "base_uri": "https://localhost:8080/"
        },
        "id": "Z8VIh-dhnuAo",
        "outputId": "174e8612-8dbc-49f1-f53f-191b22292095"
      },
      "source": [
        "print(y_train_vec[0]) "
      ],
      "execution_count": null,
      "outputs": [
        {
          "output_type": "stream",
          "text": [
            "[0 0 0 1 0 0 0 0 0 0 0 0 0 0 0 0 0 0 0 0]\n"
          ],
          "name": "stdout"
        }
      ]
    },
    {
      "cell_type": "code",
      "metadata": {
        "colab": {
          "base_uri": "https://localhost:8080/"
        },
        "id": "BuAIlQwIA9p4",
        "outputId": "08b69eb4-0275-45cb-df3c-188393b94a78"
      },
      "source": [
        "print(clf.predict(x_train_vec)[234])\n",
        "print(y_train_vec[234])"
      ],
      "execution_count": null,
      "outputs": [
        {
          "output_type": "stream",
          "text": [
            "[0 0 0 0 0 0 1 0 0 0 0 0 0 0 0 0 0 0 0 0]\n",
            "[0 1 0 0 0 0 0 1 0 0 0 0 0 0 0 0 0 0 0 0]\n"
          ],
          "name": "stdout"
        }
      ]
    },
    {
      "cell_type": "markdown",
      "metadata": {
        "id": "HV3yXcMddwS_"
      },
      "source": [
        "# **PART 1 -- WORD2VEC**"
      ]
    },
    {
      "cell_type": "code",
      "metadata": {
        "id": "it35Ck-ddpZH"
      },
      "source": [
        "revs = reviews_train[\"overview\"].to_numpy()"
      ],
      "execution_count": null,
      "outputs": []
    },
    {
      "cell_type": "code",
      "metadata": {
        "colab": {
          "base_uri": "https://localhost:8080/",
          "height": 52
        },
        "id": "t5MxH52IfMTv",
        "outputId": "d61add17-8062-4d9d-af9b-61806479ebf3"
      },
      "source": [
        ""
      ],
      "execution_count": null,
      "outputs": [
        {
          "output_type": "execute_result",
          "data": {
            "application/vnd.google.colaboratory.intrinsic+json": {
              "type": "string"
            },
            "text/plain": [
              "'Taking all that was great from the first installment, ABCs OF DEATH 2 aims to be a wilder, leaner, faster paced and even more entertaining anthology this time around, with a new crop of award-winning, visionary filmmakers from around the globe.'"
            ]
          },
          "metadata": {
            "tags": []
          },
          "execution_count": 25
        }
      ]
    },
    {
      "cell_type": "markdown",
      "metadata": {
        "id": "DXRL6gzfofJ5"
      },
      "source": [
        "# **PART 2 -- BAG OF WORDS**"
      ]
    },
    {
      "cell_type": "markdown",
      "metadata": {
        "id": "TK-NCoJTosoZ"
      },
      "source": [
        "# **PART 2.5 -- RESULTS OF THE PREVIOUS PARTS (WORD2VEC VS BOW)**"
      ]
    }
  ]
}