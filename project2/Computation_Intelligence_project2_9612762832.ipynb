{
  "nbformat": 4,
  "nbformat_minor": 0,
  "metadata": {
    "colab": {
      "name": "Computation-Intelligence-project2-9612762832.ipynb",
      "provenance": [],
      "collapsed_sections": [],
      "toc_visible": true
    },
    "kernelspec": {
      "name": "python3",
      "display_name": "Python 3"
    },
    "language_info": {
      "name": "python"
    }
  },
  "cells": [
    {
      "cell_type": "code",
      "metadata": {
        "colab": {
          "base_uri": "https://localhost:8080/"
        },
        "id": "1VZJN9x0tHX1",
        "outputId": "69a62398-6177-4fb7-8cf3-72c6ae348d6a"
      },
      "source": [
        "from google.colab import drive\n",
        "drive.mount('/content/drive')"
      ],
      "execution_count": 90,
      "outputs": [
        {
          "output_type": "stream",
          "text": [
            "Drive already mounted at /content/drive; to attempt to forcibly remount, call drive.mount(\"/content/drive\", force_remount=True).\n"
          ],
          "name": "stdout"
        }
      ]
    },
    {
      "cell_type": "code",
      "metadata": {
        "id": "xJRwxQn7vCHR"
      },
      "source": [
        "import numpy as np\n",
        "import pandas as pd\n",
        "import seaborn as sns\n",
        "import matplotlib.pyplot as plt\n",
        "import sklearn.preprocessing\n",
        "from sklearn.ensemble import RandomForestClassifier\n",
        "from sklearn.preprocessing import MultiLabelBinarizer\n",
        "from sklearn.linear_model import LogisticRegression\n",
        "from sklearn.datasets import make_multilabel_classification\n",
        "from sklearn.model_selection import train_test_split\n",
        "from sklearn.multiclass import OneVsRestClassifier\n",
        "from sklearn.metrics import f1_score, roc_auc_score\n",
        "from sklearn.feature_extraction.text import TfidfVectorizer\n",
        "import gensim\n",
        "import chardet\n",
        "import ast\n",
        "import re\n",
        "from gensim.parsing.preprocessing import remove_stopwords\n",
        "\n",
        "import collections \n",
        "import itertools\n",
        "import nltk\n",
        "from nltk.corpus import stopwords\n",
        "import tensorflow as tf\n",
        "from tensorflow import keras\n",
        "from tensorflow.keras import layers\n",
        "from keras.models import Sequential\n",
        "from keras.layers import Activation, Dense,Dropout\n",
        "from scipy.sparse import csr_matrix\n"
      ],
      "execution_count": 252,
      "outputs": []
    },
    {
      "cell_type": "code",
      "metadata": {
        "id": "2_p2vsfEvFtU"
      },
      "source": [
        "reviews_train =  pd.read_csv(r\"./drive/MyDrive/datasets/Computation-Intelligence/project2/train.csv\")\n",
        "reviews_test =  pd.read_csv(r\"./drive/MyDrive/datasets/Computation-Intelligence/project2/test.csv\")"
      ],
      "execution_count": 97,
      "outputs": []
    },
    {
      "cell_type": "code",
      "metadata": {
        "id": "Db1HuMHlT3A8"
      },
      "source": [
        "np.set_printoptions(suppress=True)"
      ],
      "execution_count": 98,
      "outputs": []
    },
    {
      "cell_type": "markdown",
      "metadata": {
        "id": "A1GqD_3-oURe"
      },
      "source": [
        "# **PART 0 -- PREPROCESSING**"
      ]
    },
    {
      "cell_type": "code",
      "metadata": {
        "id": "pmcDZz79gbfk"
      },
      "source": [
        "\n",
        "reviews_train = reviews_train.drop('Unnamed: 3', 1)\n",
        "reviews_test = reviews_test.drop('Unnamed: 3', 1)\n",
        "reviews_test = reviews_test.drop('Unnamed: 4', 1)\n",
        "\n",
        "reviews = reviews_train.append(reviews_test) #appending both the datasets at \n",
        "reviews = reviews.reset_index(drop=True) \n",
        "\n",
        "'''removing rows with na values'''\n",
        "reviews = reviews.dropna() #843 978 1755 1961 have values for \"Unnamed: 3\" \n",
        "\n",
        "'''removing rows with no text for overview'''\n",
        "reviews = reviews[reviews['overview'].str.contains('[A-Za-z]')]"
      ],
      "execution_count": 99,
      "outputs": []
    },
    {
      "cell_type": "code",
      "metadata": {
        "colab": {
          "base_uri": "https://localhost:8080/"
        },
        "id": "qKQ5AhMLAOf0",
        "outputId": "186114df-8864-44a4-d30b-408fbde9aad4"
      },
      "source": [
        "reviews.shape"
      ],
      "execution_count": 100,
      "outputs": [
        {
          "output_type": "execute_result",
          "data": {
            "text/plain": [
              "(2990, 3)"
            ]
          },
          "metadata": {
            "tags": []
          },
          "execution_count": 100
        }
      ]
    },
    {
      "cell_type": "code",
      "metadata": {
        "colab": {
          "base_uri": "https://localhost:8080/",
          "height": 204
        },
        "id": "tcqRhQp1AidM",
        "outputId": "37e07b6f-a074-489b-fe0b-31fb19e42ce0"
      },
      "source": [
        "reviews.tail()"
      ],
      "execution_count": 101,
      "outputs": [
        {
          "output_type": "execute_result",
          "data": {
            "text/html": [
              "<div>\n",
              "<style scoped>\n",
              "    .dataframe tbody tr th:only-of-type {\n",
              "        vertical-align: middle;\n",
              "    }\n",
              "\n",
              "    .dataframe tbody tr th {\n",
              "        vertical-align: top;\n",
              "    }\n",
              "\n",
              "    .dataframe thead th {\n",
              "        text-align: right;\n",
              "    }\n",
              "</style>\n",
              "<table border=\"1\" class=\"dataframe\">\n",
              "  <thead>\n",
              "    <tr style=\"text-align: right;\">\n",
              "      <th></th>\n",
              "      <th>id</th>\n",
              "      <th>genres</th>\n",
              "      <th>overview</th>\n",
              "    </tr>\n",
              "  </thead>\n",
              "  <tbody>\n",
              "    <tr>\n",
              "      <th>2995</th>\n",
              "      <td>2996</td>\n",
              "      <td>[{'id': 35, 'name': 'Comedy'}, {'id': 10749, '...</td>\n",
              "      <td>Military men Rock Reilly and Eddie Devane are ...</td>\n",
              "    </tr>\n",
              "    <tr>\n",
              "      <th>2996</th>\n",
              "      <td>2997</td>\n",
              "      <td>[{'id': 18, 'name': 'Drama'}, {'id': 10402, 'n...</td>\n",
              "      <td>Three girls in 1980s Stockholm decide to form ...</td>\n",
              "    </tr>\n",
              "    <tr>\n",
              "      <th>2997</th>\n",
              "      <td>2998</td>\n",
              "      <td>[{'id': 80, 'name': 'Crime'}, {'id': 28, 'name...</td>\n",
              "      <td>Samantha Caine, suburban homemaker, is the ide...</td>\n",
              "    </tr>\n",
              "    <tr>\n",
              "      <th>2998</th>\n",
              "      <td>2999</td>\n",
              "      <td>[{'id': 35, 'name': 'Comedy'}, {'id': 10749, '...</td>\n",
              "      <td>Reuben Feffer is a guy who's spent his entire ...</td>\n",
              "    </tr>\n",
              "    <tr>\n",
              "      <th>2999</th>\n",
              "      <td>3000</td>\n",
              "      <td>[{'id': 53, 'name': 'Thriller'}, {'id': 28, 'n...</td>\n",
              "      <td>A young man sets out to uncover the truth abou...</td>\n",
              "    </tr>\n",
              "  </tbody>\n",
              "</table>\n",
              "</div>"
            ],
            "text/plain": [
              "        id  ...                                           overview\n",
              "2995  2996  ...  Military men Rock Reilly and Eddie Devane are ...\n",
              "2996  2997  ...  Three girls in 1980s Stockholm decide to form ...\n",
              "2997  2998  ...  Samantha Caine, suburban homemaker, is the ide...\n",
              "2998  2999  ...  Reuben Feffer is a guy who's spent his entire ...\n",
              "2999  3000  ...  A young man sets out to uncover the truth abou...\n",
              "\n",
              "[5 rows x 3 columns]"
            ]
          },
          "metadata": {
            "tags": []
          },
          "execution_count": 101
        }
      ]
    },
    {
      "cell_type": "code",
      "metadata": {
        "id": "YmC1Wu1mTd8U"
      },
      "source": [
        "'''MODIFYING GENRES FOR REVIEWS'''\n",
        "\n",
        "for index, row in reviews.iterrows():\n",
        "  genres = ast.literal_eval(row['genres'])\n",
        "  st = '' \n",
        "  for genre in genres:\n",
        "    st += f\"{genre['name']},\"\n",
        "  st = st[0:-1] \n",
        "  reviews.loc[index,'genres'] = st\n"
      ],
      "execution_count": 102,
      "outputs": []
    },
    {
      "cell_type": "code",
      "metadata": {
        "colab": {
          "base_uri": "https://localhost:8080/",
          "height": 204
        },
        "id": "v0jH-8UrYKPj",
        "outputId": "c900be67-2136-419e-e6d4-aaf8039b5ada"
      },
      "source": [
        "reviews.head()"
      ],
      "execution_count": 103,
      "outputs": [
        {
          "output_type": "execute_result",
          "data": {
            "text/html": [
              "<div>\n",
              "<style scoped>\n",
              "    .dataframe tbody tr th:only-of-type {\n",
              "        vertical-align: middle;\n",
              "    }\n",
              "\n",
              "    .dataframe tbody tr th {\n",
              "        vertical-align: top;\n",
              "    }\n",
              "\n",
              "    .dataframe thead th {\n",
              "        text-align: right;\n",
              "    }\n",
              "</style>\n",
              "<table border=\"1\" class=\"dataframe\">\n",
              "  <thead>\n",
              "    <tr style=\"text-align: right;\">\n",
              "      <th></th>\n",
              "      <th>id</th>\n",
              "      <th>genres</th>\n",
              "      <th>overview</th>\n",
              "    </tr>\n",
              "  </thead>\n",
              "  <tbody>\n",
              "    <tr>\n",
              "      <th>0</th>\n",
              "      <td>1</td>\n",
              "      <td>Comedy</td>\n",
              "      <td>When Lou, who has become the \"father of the In...</td>\n",
              "    </tr>\n",
              "    <tr>\n",
              "      <th>1</th>\n",
              "      <td>2</td>\n",
              "      <td>Comedy,Drama,Family,Romance</td>\n",
              "      <td>Mia Thermopolis is now a college graduate and ...</td>\n",
              "    </tr>\n",
              "    <tr>\n",
              "      <th>2</th>\n",
              "      <td>3</td>\n",
              "      <td>Drama</td>\n",
              "      <td>Under the direction of a ruthless instructor, ...</td>\n",
              "    </tr>\n",
              "    <tr>\n",
              "      <th>3</th>\n",
              "      <td>4</td>\n",
              "      <td>Thriller,Drama</td>\n",
              "      <td>Vidya Bagchi (Vidya Balan) arrives in Kolkata ...</td>\n",
              "    </tr>\n",
              "    <tr>\n",
              "      <th>4</th>\n",
              "      <td>5</td>\n",
              "      <td>Action,Thriller</td>\n",
              "      <td>Marine Boy is the story of a former national s...</td>\n",
              "    </tr>\n",
              "  </tbody>\n",
              "</table>\n",
              "</div>"
            ],
            "text/plain": [
              "   id  ...                                           overview\n",
              "0   1  ...  When Lou, who has become the \"father of the In...\n",
              "1   2  ...  Mia Thermopolis is now a college graduate and ...\n",
              "2   3  ...  Under the direction of a ruthless instructor, ...\n",
              "3   4  ...  Vidya Bagchi (Vidya Balan) arrives in Kolkata ...\n",
              "4   5  ...  Marine Boy is the story of a former national s...\n",
              "\n",
              "[5 rows x 3 columns]"
            ]
          },
          "metadata": {
            "tags": []
          },
          "execution_count": 103
        }
      ]
    },
    {
      "cell_type": "markdown",
      "metadata": {
        "id": "kkSwHUJkhJMq"
      },
      "source": [
        "**Finding movie by genre popularity in dataset**"
      ]
    },
    {
      "cell_type": "code",
      "metadata": {
        "id": "33OxTu3-gLX9"
      },
      "source": [
        "genre_count = collections.Counter(itertools.chain.from_iterable(v.split(',') for v in reviews.genres))\n",
        "\n",
        "genre_count_df = pd.DataFrame({'Genre': list(genre_count.keys()), \n",
        "                              'Count': list(genre_count.values())})"
      ],
      "execution_count": 104,
      "outputs": []
    },
    {
      "cell_type": "code",
      "metadata": {
        "colab": {
          "base_uri": "https://localhost:8080/",
          "height": 877
        },
        "id": "sFWKvFQcgm4G",
        "outputId": "ca40fc29-c755-4f71-f7a2-b2b87d9f9f0f"
      },
      "source": [
        "g = genre_count_df.nlargest(columns=\"Count\", n = 50) \n",
        "plt.figure(figsize=(12,15)) \n",
        "ax = sns.barplot(data=g, x= \"Count\", y = \"Genre\") \n",
        "ax.set(ylabel = 'Count') \n",
        "plt.show()"
      ],
      "execution_count": 105,
      "outputs": [
        {
          "output_type": "display_data",
          "data": {
            "image/png": "[encoded data removed]",
            "text/plain": [
              "<Figure size 864x1080 with 1 Axes>"
            ]
          },
          "metadata": {
            "tags": [],
            "needs_background": "light"
          }
        }
      ]
    },
    {
      "cell_type": "code",
      "metadata": {
        "colab": {
          "base_uri": "https://localhost:8080/",
          "height": 221
        },
        "id": "h4s-neUBVXMw",
        "outputId": "30844f8c-82fe-430f-84be-0637ea08e96b"
      },
      "source": [
        "y_dummy = reviews['genres'].str.get_dummies(sep=',')\n",
        "\n",
        "y_dummy.head()"
      ],
      "execution_count": 106,
      "outputs": [
        {
          "output_type": "execute_result",
          "data": {
            "text/html": [
              "<div>\n",
              "<style scoped>\n",
              "    .dataframe tbody tr th:only-of-type {\n",
              "        vertical-align: middle;\n",
              "    }\n",
              "\n",
              "    .dataframe tbody tr th {\n",
              "        vertical-align: top;\n",
              "    }\n",
              "\n",
              "    .dataframe thead th {\n",
              "        text-align: right;\n",
              "    }\n",
              "</style>\n",
              "<table border=\"1\" class=\"dataframe\">\n",
              "  <thead>\n",
              "    <tr style=\"text-align: right;\">\n",
              "      <th></th>\n",
              "      <th>Action</th>\n",
              "      <th>Adventure</th>\n",
              "      <th>Animation</th>\n",
              "      <th>Comedy</th>\n",
              "      <th>Crime</th>\n",
              "      <th>Documentary</th>\n",
              "      <th>Drama</th>\n",
              "      <th>Family</th>\n",
              "      <th>Fantasy</th>\n",
              "      <th>Foreign</th>\n",
              "      <th>History</th>\n",
              "      <th>Horror</th>\n",
              "      <th>Music</th>\n",
              "      <th>Mystery</th>\n",
              "      <th>Romance</th>\n",
              "      <th>Science Fiction</th>\n",
              "      <th>TV Movie</th>\n",
              "      <th>Thriller</th>\n",
              "      <th>War</th>\n",
              "      <th>Western</th>\n",
              "    </tr>\n",
              "  </thead>\n",
              "  <tbody>\n",
              "    <tr>\n",
              "      <th>0</th>\n",
              "      <td>0</td>\n",
              "      <td>0</td>\n",
              "      <td>0</td>\n",
              "      <td>1</td>\n",
              "      <td>0</td>\n",
              "      <td>0</td>\n",
              "      <td>0</td>\n",
              "      <td>0</td>\n",
              "      <td>0</td>\n",
              "      <td>0</td>\n",
              "      <td>0</td>\n",
              "      <td>0</td>\n",
              "      <td>0</td>\n",
              "      <td>0</td>\n",
              "      <td>0</td>\n",
              "      <td>0</td>\n",
              "      <td>0</td>\n",
              "      <td>0</td>\n",
              "      <td>0</td>\n",
              "      <td>0</td>\n",
              "    </tr>\n",
              "    <tr>\n",
              "      <th>1</th>\n",
              "      <td>0</td>\n",
              "      <td>0</td>\n",
              "      <td>0</td>\n",
              "      <td>1</td>\n",
              "      <td>0</td>\n",
              "      <td>0</td>\n",
              "      <td>1</td>\n",
              "      <td>1</td>\n",
              "      <td>0</td>\n",
              "      <td>0</td>\n",
              "      <td>0</td>\n",
              "      <td>0</td>\n",
              "      <td>0</td>\n",
              "      <td>0</td>\n",
              "      <td>1</td>\n",
              "      <td>0</td>\n",
              "      <td>0</td>\n",
              "      <td>0</td>\n",
              "      <td>0</td>\n",
              "      <td>0</td>\n",
              "    </tr>\n",
              "    <tr>\n",
              "      <th>2</th>\n",
              "      <td>0</td>\n",
              "      <td>0</td>\n",
              "      <td>0</td>\n",
              "      <td>0</td>\n",
              "      <td>0</td>\n",
              "      <td>0</td>\n",
              "      <td>1</td>\n",
              "      <td>0</td>\n",
              "      <td>0</td>\n",
              "      <td>0</td>\n",
              "      <td>0</td>\n",
              "      <td>0</td>\n",
              "      <td>0</td>\n",
              "      <td>0</td>\n",
              "      <td>0</td>\n",
              "      <td>0</td>\n",
              "      <td>0</td>\n",
              "      <td>0</td>\n",
              "      <td>0</td>\n",
              "      <td>0</td>\n",
              "    </tr>\n",
              "    <tr>\n",
              "      <th>3</th>\n",
              "      <td>0</td>\n",
              "      <td>0</td>\n",
              "      <td>0</td>\n",
              "      <td>0</td>\n",
              "      <td>0</td>\n",
              "      <td>0</td>\n",
              "      <td>1</td>\n",
              "      <td>0</td>\n",
              "      <td>0</td>\n",
              "      <td>0</td>\n",
              "      <td>0</td>\n",
              "      <td>0</td>\n",
              "      <td>0</td>\n",
              "      <td>0</td>\n",
              "      <td>0</td>\n",
              "      <td>0</td>\n",
              "      <td>0</td>\n",
              "      <td>1</td>\n",
              "      <td>0</td>\n",
              "      <td>0</td>\n",
              "    </tr>\n",
              "    <tr>\n",
              "      <th>4</th>\n",
              "      <td>1</td>\n",
              "      <td>0</td>\n",
              "      <td>0</td>\n",
              "      <td>0</td>\n",
              "      <td>0</td>\n",
              "      <td>0</td>\n",
              "      <td>0</td>\n",
              "      <td>0</td>\n",
              "      <td>0</td>\n",
              "      <td>0</td>\n",
              "      <td>0</td>\n",
              "      <td>0</td>\n",
              "      <td>0</td>\n",
              "      <td>0</td>\n",
              "      <td>0</td>\n",
              "      <td>0</td>\n",
              "      <td>0</td>\n",
              "      <td>1</td>\n",
              "      <td>0</td>\n",
              "      <td>0</td>\n",
              "    </tr>\n",
              "  </tbody>\n",
              "</table>\n",
              "</div>"
            ],
            "text/plain": [
              "   Action  Adventure  Animation  Comedy  ...  TV Movie  Thriller  War  Western\n",
              "0       0          0          0       1  ...         0         0    0        0\n",
              "1       0          0          0       1  ...         0         0    0        0\n",
              "2       0          0          0       0  ...         0         0    0        0\n",
              "3       0          0          0       0  ...         0         1    0        0\n",
              "4       1          0          0       0  ...         0         1    0        0\n",
              "\n",
              "[5 rows x 20 columns]"
            ]
          },
          "metadata": {
            "tags": []
          },
          "execution_count": 106
        }
      ]
    },
    {
      "cell_type": "code",
      "metadata": {
        "id": "ObPBMJMun-oT"
      },
      "source": [
        "y = y_dummy.values"
      ],
      "execution_count": 107,
      "outputs": []
    },
    {
      "cell_type": "code",
      "metadata": {
        "colab": {
          "base_uri": "https://localhost:8080/"
        },
        "id": "i3q4nSvtUivL",
        "outputId": "bd0ac8fb-0dff-4f09-fc8f-17242b8a8568"
      },
      "source": [
        "y.shape"
      ],
      "execution_count": 108,
      "outputs": [
        {
          "output_type": "execute_result",
          "data": {
            "text/plain": [
              "(2990, 20)"
            ]
          },
          "metadata": {
            "tags": []
          },
          "execution_count": 108
        }
      ]
    },
    {
      "cell_type": "markdown",
      "metadata": {
        "id": "tYaStSKqoJXc"
      },
      "source": [
        "in this section, we will clean up the overview part of the input of our problem"
      ]
    },
    {
      "cell_type": "code",
      "metadata": {
        "id": "ShQh5nUzeIA3"
      },
      "source": [
        "def clean_text(text):\n",
        "    # remove backslash-apostrophe \n",
        "    text = re.sub(\"\\'\", \"\", text) \n",
        "    # remove everything except alphabets \n",
        "    text = re.sub(\"[^a-zA-Z]\",\" \",text) \n",
        "    # remove whitespaces \n",
        "    text = ' '.join(text.split()) \n",
        "    # convert text to lowercase \n",
        "    text = text.lower() \n",
        "    \n",
        "    return text\n",
        "\n",
        "\n",
        "\n",
        "def final_clean(text):\n",
        "      return gensim.utils.simple_preprocess (text)\n"
      ],
      "execution_count": 109,
      "outputs": []
    },
    {
      "cell_type": "code",
      "metadata": {
        "id": "AQgCZXaOpsD8"
      },
      "source": [
        "X = reviews['overview']\n",
        "\n",
        "X = X.apply(lambda x: clean_text(x))\n",
        "\n",
        "X = X.apply(remove_stopwords)\n"
      ],
      "execution_count": 118,
      "outputs": []
    },
    {
      "cell_type": "code",
      "metadata": {
        "colab": {
          "base_uri": "https://localhost:8080/"
        },
        "id": "vAbzvuWKiOZn",
        "outputId": "81969d15-49e2-4a2f-b493-ee40edcb1ba0"
      },
      "source": [
        "multilabel_binarizer = MultiLabelBinarizer()\n",
        "multilabel_binarizer.fit(reviews['genres'].str.split(',')) #THIS WILL BE USED FOR INVERSE TRANSFORM\n",
        "\n",
        "#multilabel_binarizer.inverse_transform(y)[3]"
      ],
      "execution_count": 111,
      "outputs": [
        {
          "output_type": "execute_result",
          "data": {
            "text/plain": [
              "MultiLabelBinarizer(classes=None, sparse_output=False)"
            ]
          },
          "metadata": {
            "tags": []
          },
          "execution_count": 111
        }
      ]
    },
    {
      "cell_type": "code",
      "metadata": {
        "id": "3S1yB5NedoMD"
      },
      "source": [
        "xtrain, xtest, ytrain, ytest = train_test_split(X, y, test_size=0.333, random_state=9) #taking back around 1000 for test set"
      ],
      "execution_count": 116,
      "outputs": []
    },
    {
      "cell_type": "code",
      "metadata": {
        "colab": {
          "base_uri": "https://localhost:8080/",
          "height": 86
        },
        "id": "m4yxg3IAfKoI",
        "outputId": "0206ccc6-ea2c-42c6-be54-348b62f560e0"
      },
      "source": [
        "print(xtest.shape)\n",
        "print(xtrain.shape) #2003 inputs, each having 1 sentence \n",
        "xtrain[1]"
      ],
      "execution_count": 117,
      "outputs": [
        {
          "output_type": "stream",
          "text": [
            "(996,)\n",
            "(1994,)\n"
          ],
          "name": "stdout"
        },
        {
          "output_type": "execute_result",
          "data": {
            "application/vnd.google.colaboratory.intrinsic+json": {
              "type": "string"
            },
            "text/plain": [
              "'mia thermopolis college graduate way genovia duties princess best friend lilly joins summer mia continues princess lessons riding horses saddle archery royal complicated life turned upside learns crown queen earlier expected'"
            ]
          },
          "metadata": {
            "tags": []
          },
          "execution_count": 117
        }
      ]
    },
    {
      "cell_type": "code",
      "metadata": {
        "colab": {
          "base_uri": "https://localhost:8080/"
        },
        "id": "XgRM6XLekufX",
        "outputId": "86516997-0118-4d33-f9e4-8d299279603b"
      },
      "source": [
        "print(\"**** Y TRAIN HEAD ****\\n\")\n",
        "print(*multilabel_binarizer.inverse_transform(ytrain)[0:20],sep='\\n')\n",
        "print(\"\\n\")\n",
        "print(f\"{(ytrain)[0:20]}\\n\\n\\n\\n\\n\")\n",
        "\n",
        "print(\"**** Y TEST HEAD ****\")\n",
        "print(*multilabel_binarizer.inverse_transform(ytest)[0:20],sep='\\n')\n",
        "print(\"\\n\")\n",
        "print((ytest)[0:20])"
      ],
      "execution_count": 119,
      "outputs": [
        {
          "output_type": "stream",
          "text": [
            "**** Y TRAIN HEAD ****\n",
            "\n",
            "('Action', 'Crime', 'Thriller')\n",
            "('Comedy', 'Drama')\n",
            "('Comedy',)\n",
            "('Action', 'Comedy', 'Crime', 'Thriller')\n",
            "('Action', 'Comedy', 'Crime')\n",
            "('Action', 'Adventure', 'Horror')\n",
            "('Mystery', 'Thriller')\n",
            "('Action', 'Adventure', 'Science Fiction', 'Thriller')\n",
            "('Crime', 'Drama', 'Thriller')\n",
            "('Drama',)\n",
            "('Comedy', 'Music')\n",
            "('Adventure', 'Family', 'Fantasy', 'Music')\n",
            "('Drama', 'Horror', 'Thriller')\n",
            "('Documentary',)\n",
            "('Drama', 'Romance')\n",
            "('Horror', 'Thriller')\n",
            "('Drama', 'History')\n",
            "('Action', 'Adventure', 'Science Fiction')\n",
            "('Comedy', 'Drama', 'Romance')\n",
            "('Action', 'Drama', 'History', 'Thriller')\n",
            "\n",
            "\n",
            "[[1 0 0 0 1 0 0 0 0 0 0 0 0 0 0 0 0 1 0 0]\n",
            " [0 0 0 1 0 0 1 0 0 0 0 0 0 0 0 0 0 0 0 0]\n",
            " [0 0 0 1 0 0 0 0 0 0 0 0 0 0 0 0 0 0 0 0]\n",
            " [1 0 0 1 1 0 0 0 0 0 0 0 0 0 0 0 0 1 0 0]\n",
            " [1 0 0 1 1 0 0 0 0 0 0 0 0 0 0 0 0 0 0 0]\n",
            " [1 1 0 0 0 0 0 0 0 0 0 1 0 0 0 0 0 0 0 0]\n",
            " [0 0 0 0 0 0 0 0 0 0 0 0 0 1 0 0 0 1 0 0]\n",
            " [1 1 0 0 0 0 0 0 0 0 0 0 0 0 0 1 0 1 0 0]\n",
            " [0 0 0 0 1 0 1 0 0 0 0 0 0 0 0 0 0 1 0 0]\n",
            " [0 0 0 0 0 0 1 0 0 0 0 0 0 0 0 0 0 0 0 0]\n",
            " [0 0 0 1 0 0 0 0 0 0 0 0 1 0 0 0 0 0 0 0]\n",
            " [0 1 0 0 0 0 0 1 1 0 0 0 1 0 0 0 0 0 0 0]\n",
            " [0 0 0 0 0 0 1 0 0 0 0 1 0 0 0 0 0 1 0 0]\n",
            " [0 0 0 0 0 1 0 0 0 0 0 0 0 0 0 0 0 0 0 0]\n",
            " [0 0 0 0 0 0 1 0 0 0 0 0 0 0 1 0 0 0 0 0]\n",
            " [0 0 0 0 0 0 0 0 0 0 0 1 0 0 0 0 0 1 0 0]\n",
            " [0 0 0 0 0 0 1 0 0 0 1 0 0 0 0 0 0 0 0 0]\n",
            " [1 1 0 0 0 0 0 0 0 0 0 0 0 0 0 1 0 0 0 0]\n",
            " [0 0 0 1 0 0 1 0 0 0 0 0 0 0 1 0 0 0 0 0]\n",
            " [1 0 0 0 0 0 1 0 0 0 1 0 0 0 0 0 0 1 0 0]]\n",
            "\n",
            "\n",
            "\n",
            "\n",
            "\n",
            "**** Y TEST HEAD ****\n",
            "('Comedy', 'Music', 'Romance')\n",
            "('Horror', 'Thriller')\n",
            "('Science Fiction', 'Thriller')\n",
            "('Action', 'Drama', 'Thriller')\n",
            "('Action', 'Drama')\n",
            "('Horror',)\n",
            "('Fantasy', 'Music', 'Romance')\n",
            "('Comedy', 'Drama')\n",
            "('Action', 'Crime', 'Thriller')\n",
            "('Comedy', 'Drama')\n",
            "('Action', 'Adventure', 'Comedy')\n",
            "('Comedy',)\n",
            "('Drama', 'Music', 'Romance')\n",
            "('Adventure', 'Animation', 'Comedy', 'Family', 'Fantasy', 'Romance')\n",
            "('Adventure', 'Animation', 'Comedy', 'Family')\n",
            "('Action', 'Adventure', 'Crime')\n",
            "('Comedy', 'Drama', 'Foreign')\n",
            "('Horror', 'Mystery')\n",
            "('Drama', 'Science Fiction')\n",
            "('Drama',)\n",
            "\n",
            "\n",
            "[[0 0 0 1 0 0 0 0 0 0 0 0 1 0 1 0 0 0 0 0]\n",
            " [0 0 0 0 0 0 0 0 0 0 0 1 0 0 0 0 0 1 0 0]\n",
            " [0 0 0 0 0 0 0 0 0 0 0 0 0 0 0 1 0 1 0 0]\n",
            " [1 0 0 0 0 0 1 0 0 0 0 0 0 0 0 0 0 1 0 0]\n",
            " [1 0 0 0 0 0 1 0 0 0 0 0 0 0 0 0 0 0 0 0]\n",
            " [0 0 0 0 0 0 0 0 0 0 0 1 0 0 0 0 0 0 0 0]\n",
            " [0 0 0 0 0 0 0 0 1 0 0 0 1 0 1 0 0 0 0 0]\n",
            " [0 0 0 1 0 0 1 0 0 0 0 0 0 0 0 0 0 0 0 0]\n",
            " [1 0 0 0 1 0 0 0 0 0 0 0 0 0 0 0 0 1 0 0]\n",
            " [0 0 0 1 0 0 1 0 0 0 0 0 0 0 0 0 0 0 0 0]\n",
            " [1 1 0 1 0 0 0 0 0 0 0 0 0 0 0 0 0 0 0 0]\n",
            " [0 0 0 1 0 0 0 0 0 0 0 0 0 0 0 0 0 0 0 0]\n",
            " [0 0 0 0 0 0 1 0 0 0 0 0 1 0 1 0 0 0 0 0]\n",
            " [0 1 1 1 0 0 0 1 1 0 0 0 0 0 1 0 0 0 0 0]\n",
            " [0 1 1 1 0 0 0 1 0 0 0 0 0 0 0 0 0 0 0 0]\n",
            " [1 1 0 0 1 0 0 0 0 0 0 0 0 0 0 0 0 0 0 0]\n",
            " [0 0 0 1 0 0 1 0 0 1 0 0 0 0 0 0 0 0 0 0]\n",
            " [0 0 0 0 0 0 0 0 0 0 0 1 0 1 0 0 0 0 0 0]\n",
            " [0 0 0 0 0 0 1 0 0 0 0 0 0 0 0 1 0 0 0 0]\n",
            " [0 0 0 0 0 0 1 0 0 0 0 0 0 0 0 0 0 0 0 0]]\n"
          ],
          "name": "stdout"
        }
      ]
    },
    {
      "cell_type": "markdown",
      "metadata": {
        "id": "HVxqlCxLz27U"
      },
      "source": [
        "# **PART1 -- WORD2VEC**"
      ]
    },
    {
      "cell_type": "code",
      "metadata": {
        "id": "0gpJ_dG41Uvy"
      },
      "source": [
        "SIZE = 150\n",
        "WINDOW = 15"
      ],
      "execution_count": 160,
      "outputs": []
    },
    {
      "cell_type": "code",
      "metadata": {
        "colab": {
          "base_uri": "https://localhost:8080/"
        },
        "id": "P35SKq2S1bZN",
        "outputId": "3ca33b39-72ae-466d-e438-c0332c708eec"
      },
      "source": [
        "#note that since Word2Vec is considered an 'unsupervised' algorithm, so at \n",
        "#least during its training, it is not typical to hold back any 'test' data for\n",
        "#later evaluation.\n",
        "x_w2v = X.apply(lambda x: final_clean(x))\n",
        "w2v_model = gensim.models.Word2Vec (x_w2v, size=SIZE, window=WINDOW, min_count=2, workers=10)\n",
        "w2v_model.train(x_w2v,total_examples=len(x_w2v),epochs=100)\n",
        "\n"
      ],
      "execution_count": 161,
      "outputs": [
        {
          "output_type": "execute_result",
          "data": {
            "text/plain": [
              "(7425240, 8373900)"
            ]
          },
          "metadata": {
            "tags": []
          },
          "execution_count": 161
        }
      ]
    },
    {
      "cell_type": "code",
      "metadata": {
        "colab": {
          "base_uri": "https://localhost:8080/"
        },
        "id": "JJwN7jcP1quo",
        "outputId": "9359c5fc-c817-487c-d664-e27bb43789b7"
      },
      "source": [
        "w1 = \"death\"\n",
        "w2v_model.wv.most_similar (positive=w1)"
      ],
      "execution_count": 122,
      "outputs": [
        {
          "output_type": "execute_result",
          "data": {
            "text/plain": [
              "[('hunters', 0.31414371728897095),\n",
              " ('avenge', 0.29827970266342163),\n",
              " ('survives', 0.2917688190937042),\n",
              " ('key', 0.28799381852149963),\n",
              " ('reclusive', 0.26812446117401123),\n",
              " ('clay', 0.2647029459476471),\n",
              " ('witness', 0.26030513644218445),\n",
              " ('phillips', 0.2592740058898926),\n",
              " ('bars', 0.2579519748687744),\n",
              " ('yearning', 0.25779426097869873)]"
            ]
          },
          "metadata": {
            "tags": []
          },
          "execution_count": 122
        }
      ]
    },
    {
      "cell_type": "markdown",
      "metadata": {
        "id": "dbXjvBrTFHql"
      },
      "source": [
        "below, we find the feature values for each document by summing over the word features then dividing by the number of words"
      ]
    },
    {
      "cell_type": "code",
      "metadata": {
        "colab": {
          "base_uri": "https://localhost:8080/"
        },
        "id": "8W1ZQq4y4zYt",
        "outputId": "b865e652-b14d-4ca2-dc4a-d9c3628598bc"
      },
      "source": [
        "x_vec_w2v = np.zeros((len(x_w2v), SIZE))\n",
        "\n",
        "for idx, paragraph in enumerate(x_w2v): \n",
        "  ln = len(paragraph)\n",
        "  arr = np.zeros(SIZE)\n",
        "  for word in paragraph:\n",
        "    try:\n",
        "      arr = w2v_model[word] + arr\n",
        "  \n",
        "    except KeyError:\n",
        "      ln -= 1\n",
        "  arr = arr/ln \n",
        "  x_vec_w2v[idx,:] = arr"
      ],
      "execution_count": 162,
      "outputs": [
        {
          "output_type": "stream",
          "text": [
            "/usr/local/lib/python3.7/dist-packages/ipykernel_launcher.py:8: DeprecationWarning: Call to deprecated `__getitem__` (Method will be removed in 4.0.0, use self.wv.__getitem__() instead).\n",
            "  \n"
          ],
          "name": "stderr"
        }
      ]
    },
    {
      "cell_type": "code",
      "metadata": {
        "id": "a0bK_b9JEM4V"
      },
      "source": [
        "xtrain_w2v, xtest_w2v, ytrain_w2v, ytest_w2v = train_test_split(x_vec_w2v, y, test_size=0.333, random_state=9) #now do splitting for classification\n",
        "                                #note that since parameters same as split above, the y's will be the same as before (ytrain_w2v == ytrain)"
      ],
      "execution_count": 163,
      "outputs": []
    },
    {
      "cell_type": "markdown",
      "metadata": {
        "id": "xv0baz8VDarx"
      },
      "source": [
        "----------"
      ]
    },
    {
      "cell_type": "markdown",
      "metadata": {
        "id": "9oXo3XSt5m3z"
      },
      "source": [
        "**LOGISTIC REGRESSION WITH 1VSALL**"
      ]
    },
    {
      "cell_type": "code",
      "metadata": {
        "colab": {
          "base_uri": "https://localhost:8080/"
        },
        "id": "Jsn6lmT25sV1",
        "outputId": "2e6b538e-12f0-48ca-d5a6-3136e50fd141"
      },
      "source": [
        "lr = LogisticRegression()\n",
        "clf = OneVsRestClassifier(lr)\n",
        "clf.fit(xtrain_w2v, ytrain_w2v)"
      ],
      "execution_count": 255,
      "outputs": [
        {
          "output_type": "stream",
          "text": [
            "/usr/local/lib/python3.7/dist-packages/sklearn/linear_model/_logistic.py:940: ConvergenceWarning: lbfgs failed to converge (status=1):\n",
            "STOP: TOTAL NO. of ITERATIONS REACHED LIMIT.\n",
            "\n",
            "Increase the number of iterations (max_iter) or scale the data as shown in:\n",
            "    https://scikit-learn.org/stable/modules/preprocessing.html\n",
            "Please also refer to the documentation for alternative solver options:\n",
            "    https://scikit-learn.org/stable/modules/linear_model.html#logistic-regression\n",
            "  extra_warning_msg=_LOGISTIC_SOLVER_CONVERGENCE_MSG)\n",
            "/usr/local/lib/python3.7/dist-packages/sklearn/linear_model/_logistic.py:940: ConvergenceWarning: lbfgs failed to converge (status=1):\n",
            "STOP: TOTAL NO. of ITERATIONS REACHED LIMIT.\n",
            "\n",
            "Increase the number of iterations (max_iter) or scale the data as shown in:\n",
            "    https://scikit-learn.org/stable/modules/preprocessing.html\n",
            "Please also refer to the documentation for alternative solver options:\n",
            "    https://scikit-learn.org/stable/modules/linear_model.html#logistic-regression\n",
            "  extra_warning_msg=_LOGISTIC_SOLVER_CONVERGENCE_MSG)\n",
            "/usr/local/lib/python3.7/dist-packages/sklearn/linear_model/_logistic.py:940: ConvergenceWarning: lbfgs failed to converge (status=1):\n",
            "STOP: TOTAL NO. of ITERATIONS REACHED LIMIT.\n",
            "\n",
            "Increase the number of iterations (max_iter) or scale the data as shown in:\n",
            "    https://scikit-learn.org/stable/modules/preprocessing.html\n",
            "Please also refer to the documentation for alternative solver options:\n",
            "    https://scikit-learn.org/stable/modules/linear_model.html#logistic-regression\n",
            "  extra_warning_msg=_LOGISTIC_SOLVER_CONVERGENCE_MSG)\n",
            "/usr/local/lib/python3.7/dist-packages/sklearn/linear_model/_logistic.py:940: ConvergenceWarning: lbfgs failed to converge (status=1):\n",
            "STOP: TOTAL NO. of ITERATIONS REACHED LIMIT.\n",
            "\n",
            "Increase the number of iterations (max_iter) or scale the data as shown in:\n",
            "    https://scikit-learn.org/stable/modules/preprocessing.html\n",
            "Please also refer to the documentation for alternative solver options:\n",
            "    https://scikit-learn.org/stable/modules/linear_model.html#logistic-regression\n",
            "  extra_warning_msg=_LOGISTIC_SOLVER_CONVERGENCE_MSG)\n",
            "/usr/local/lib/python3.7/dist-packages/sklearn/linear_model/_logistic.py:940: ConvergenceWarning: lbfgs failed to converge (status=1):\n",
            "STOP: TOTAL NO. of ITERATIONS REACHED LIMIT.\n",
            "\n",
            "Increase the number of iterations (max_iter) or scale the data as shown in:\n",
            "    https://scikit-learn.org/stable/modules/preprocessing.html\n",
            "Please also refer to the documentation for alternative solver options:\n",
            "    https://scikit-learn.org/stable/modules/linear_model.html#logistic-regression\n",
            "  extra_warning_msg=_LOGISTIC_SOLVER_CONVERGENCE_MSG)\n",
            "/usr/local/lib/python3.7/dist-packages/sklearn/linear_model/_logistic.py:940: ConvergenceWarning: lbfgs failed to converge (status=1):\n",
            "STOP: TOTAL NO. of ITERATIONS REACHED LIMIT.\n",
            "\n",
            "Increase the number of iterations (max_iter) or scale the data as shown in:\n",
            "    https://scikit-learn.org/stable/modules/preprocessing.html\n",
            "Please also refer to the documentation for alternative solver options:\n",
            "    https://scikit-learn.org/stable/modules/linear_model.html#logistic-regression\n",
            "  extra_warning_msg=_LOGISTIC_SOLVER_CONVERGENCE_MSG)\n",
            "/usr/local/lib/python3.7/dist-packages/sklearn/linear_model/_logistic.py:940: ConvergenceWarning: lbfgs failed to converge (status=1):\n",
            "STOP: TOTAL NO. of ITERATIONS REACHED LIMIT.\n",
            "\n",
            "Increase the number of iterations (max_iter) or scale the data as shown in:\n",
            "    https://scikit-learn.org/stable/modules/preprocessing.html\n",
            "Please also refer to the documentation for alternative solver options:\n",
            "    https://scikit-learn.org/stable/modules/linear_model.html#logistic-regression\n",
            "  extra_warning_msg=_LOGISTIC_SOLVER_CONVERGENCE_MSG)\n"
          ],
          "name": "stderr"
        },
        {
          "output_type": "execute_result",
          "data": {
            "text/plain": [
              "OneVsRestClassifier(estimator=LogisticRegression(C=1.0, class_weight=None,\n",
              "                                                 dual=False, fit_intercept=True,\n",
              "                                                 intercept_scaling=1,\n",
              "                                                 l1_ratio=None, max_iter=100,\n",
              "                                                 multi_class='auto',\n",
              "                                                 n_jobs=None, penalty='l2',\n",
              "                                                 random_state=None,\n",
              "                                                 solver='lbfgs', tol=0.0001,\n",
              "                                                 verbose=0, warm_start=False),\n",
              "                    n_jobs=None)"
            ]
          },
          "metadata": {
            "tags": []
          },
          "execution_count": 255
        }
      ]
    },
    {
      "cell_type": "code",
      "metadata": {
        "id": "lMI7eaxs7I7J"
      },
      "source": [
        "y_pred_prob_trn = clf.predict_proba(xtrain_w2v)\n",
        "y_pred_prob_tst = clf.predict_proba(xtest_w2v)\n",
        "\n",
        "t = 0.25752 # threshold value\n",
        "y_pred_lr_trn = (y_pred_prob_trn >= t).astype(int)\n",
        "y_pred_lr_tst = (y_pred_prob_tst >= t).astype(int)\n"
      ],
      "execution_count": 256,
      "outputs": []
    },
    {
      "cell_type": "code",
      "metadata": {
        "colab": {
          "base_uri": "https://localhost:8080/"
        },
        "id": "UgyOvRoOG6Hn",
        "outputId": "ac4d49c0-4d58-432a-cb46-889e07c47866"
      },
      "source": [
        "nm = 3\n",
        "print(f\"Real value: {multilabel_binarizer.inverse_transform(ytest_w2v)[nm]}\")\n",
        "print(f\"predicted value: {multilabel_binarizer.inverse_transform(y_pred_lr_tst)[nm]}\")"
      ],
      "execution_count": 257,
      "outputs": [
        {
          "output_type": "stream",
          "text": [
            "Real value: ('Action', 'Drama', 'Thriller')\n",
            "predicted value: ('Action', 'Adventure', 'Drama', 'Thriller')\n"
          ],
          "name": "stdout"
        }
      ]
    },
    {
      "cell_type": "code",
      "metadata": {
        "colab": {
          "base_uri": "https://localhost:8080/"
        },
        "id": "DfO1y7V1_lNg",
        "outputId": "7bb1a299-f9ea-4e2f-cc60-1ae4d237cd73"
      },
      "source": [
        "print(\"*** LOGISTIC REGRESSION CLASSIFIER RESULTS ***\")\n",
        "print(f\"test set prediction f-score: {f1_score(ytest, y_pred_lr_tst, average='micro')}\")\n",
        "print(f\"test set prediction roc_auc-score: {roc_auc_score(ytest, y_pred_lr_tst, average='micro')}\")"
      ],
      "execution_count": 260,
      "outputs": [
        {
          "output_type": "stream",
          "text": [
            "*** LOGISTIC REGRESSION CLASSIFIER RESULTS ***\n",
            "test set prediction f-score: 0.5618092161197076\n",
            "test set prediction roc_auc-score: 0.784011809333782\n"
          ],
          "name": "stdout"
        }
      ]
    },
    {
      "cell_type": "markdown",
      "metadata": {
        "id": "V0L-ll-lI_Mn"
      },
      "source": [
        "**NEURAL NETWORK**"
      ]
    },
    {
      "cell_type": "code",
      "metadata": {
        "id": "aeHdpbiliJW9"
      },
      "source": [
        "NUM_HIDDEN_LAYERS = 1\n",
        "LAYER_SIZE = 145"
      ],
      "execution_count": 168,
      "outputs": []
    },
    {
      "cell_type": "code",
      "metadata": {
        "id": "2dLzcXy65aH9"
      },
      "source": [
        "def get_model(n_inputs, n_outputs):\n",
        "  model = Sequential()\n",
        "  model.add(Dropout(0.2,input_dim=n_inputs))\n",
        "  model.add(Dense(LAYER_SIZE, kernel_initializer='he_uniform', activation='tanh'))\n",
        "  for _ in range (NUM_HIDDEN_LAYERS-1):\n",
        "    model.add(Dense(int(LAYER_SIZE), kernel_initializer='he_uniform', activation='tanh'))\n",
        "  model.add(Dense(n_outputs, activation='sigmoid'))\n",
        "  model.compile(loss='binary_crossentropy', optimizer='adam',metrics='accuracy')\n",
        "  return model\n",
        " \n",
        "\n",
        "x_train, y_train = xtrain_w2v, ytrain_w2v\n",
        "n_inputs, n_outputs = x_train.shape[1], y_train.shape[1]\n",
        "\n",
        "model = get_model(n_inputs, n_outputs)\n",
        "history = model.fit(x_train, y_train, verbose=0, epochs=200, validation_split=0.1)\n"
      ],
      "execution_count": 169,
      "outputs": []
    },
    {
      "cell_type": "code",
      "metadata": {
        "colab": {
          "base_uri": "https://localhost:8080/",
          "height": 279
        },
        "id": "oGVhh7T6w9Is",
        "outputId": "b2003be7-8390-4202-a68e-f2f49d4b7002"
      },
      "source": [
        "loss_values = history.history['loss']\n",
        "vlloss_values = history.history['val_loss']\n",
        "epochs = range(1, len(loss_values)+1)\n",
        "\n",
        "plt.plot(epochs, loss_values, label='Training Loss')\n",
        "plt.plot(vlloss_values, label='Validation Loss')\n",
        "plt.xlabel('Epochs')\n",
        "plt.ylabel('Loss')\n",
        "plt.legend()\n",
        "\n",
        "plt.show()"
      ],
      "execution_count": 170,
      "outputs": [
        {
          "output_type": "display_data",
          "data": {
            "image/png": "[encoded data removed]",
            "text/plain": [
              "<Figure size 432x288 with 1 Axes>"
            ]
          },
          "metadata": {
            "tags": [],
            "needs_background": "light"
          }
        }
      ]
    },
    {
      "cell_type": "code",
      "metadata": {
        "colab": {
          "base_uri": "https://localhost:8080/"
        },
        "id": "ya-CeZTKzfVx",
        "outputId": "1d5e9f75-1453-455d-8670-b948f3f50765"
      },
      "source": [
        "model = get_model(n_inputs, n_outputs)\n",
        "model.fit(x_train, y_train, verbose=0, epochs=12)"
      ],
      "execution_count": 273,
      "outputs": [
        {
          "output_type": "execute_result",
          "data": {
            "text/plain": [
              "<keras.callbacks.History at 0x7f9dd54f4a50>"
            ]
          },
          "metadata": {
            "tags": []
          },
          "execution_count": 273
        }
      ]
    },
    {
      "cell_type": "code",
      "metadata": {
        "colab": {
          "base_uri": "https://localhost:8080/"
        },
        "id": "NzgnTluuGMeo",
        "outputId": "dfada5a4-b37e-45f2-9c80-d3aa6a1a5cbe"
      },
      "source": [
        "'''finding best threshold for the NN result'''\n",
        "thresh =0.0\n",
        "for _ in range (10):\n",
        "  nn_y_pred = model.predict(xtest_w2v) \n",
        "  nn_y_pred = (nn_y_pred> thresh).astype(int)\n",
        "  print(f\"threshold: {thresh} --- score: {f1_score(ytest, nn_y_pred, average='micro')}\")\n",
        "  thresh += 0.05"
      ],
      "execution_count": 274,
      "outputs": [
        {
          "output_type": "stream",
          "text": [
            "threshold: 0.0 --- score: 0.22063421170165254\n",
            "threshold: 0.05 --- score: 0.4442275788035523\n",
            "threshold: 0.1 --- score: 0.5142574990741884\n",
            "threshold: 0.15000000000000002 --- score: 0.5546751188589539\n",
            "threshold: 0.2 --- score: 0.5701357466063348\n",
            "threshold: 0.25 --- score: 0.5760620482989599\n",
            "threshold: 0.3 --- score: 0.5704506560182544\n",
            "threshold: 0.35 --- score: 0.5615258408531583\n",
            "threshold: 0.39999999999999997 --- score: 0.543231441048035\n",
            "threshold: 0.44999999999999996 --- score: 0.5208673350431335\n"
          ],
          "name": "stdout"
        }
      ]
    },
    {
      "cell_type": "markdown",
      "metadata": {
        "id": "SrTl-qSmGl40"
      },
      "source": [
        "we see that around 0.25 show the best threshold"
      ]
    },
    {
      "cell_type": "code",
      "metadata": {
        "id": "uXbS8GKLKS-1"
      },
      "source": [
        "nn_y_pred_trn = model.predict(xtrain_w2v)\n",
        "nn_y_pred_tst = model.predict(xtest_w2v)\n",
        "\n",
        "THRESHOLD = 0.25\n",
        "nn_y_pred_trn = (nn_y_pred_trn >= THRESHOLD).astype(int)\n",
        "nn_y_pred_tst = (nn_y_pred_tst >= THRESHOLD).astype(int)"
      ],
      "execution_count": 275,
      "outputs": []
    },
    {
      "cell_type": "code",
      "metadata": {
        "colab": {
          "base_uri": "https://localhost:8080/"
        },
        "id": "m0tON4c6KdMg",
        "outputId": "dfbce1c7-9064-485b-8cf1-a8e67af3076c"
      },
      "source": [
        "print(\"*** NUERAL NET CLASSIFIER ***\")\n",
        "print(f\"test set prediction f-score: {f1_score(ytest_w2v, nn_y_pred_tst, average='micro')}\")\n",
        "print(f\"test set prediction roc-auc-score: {roc_auc_score(ytest_w2v, nn_y_pred_tst, average='micro')}\")"
      ],
      "execution_count": 276,
      "outputs": [
        {
          "output_type": "stream",
          "text": [
            "*** NUERAL NET CLASSIFIER ***\n",
            "test set prediction f-score: 0.5760620482989599\n",
            "test set prediction roc-auc-score: 0.7858122107119241\n"
          ],
          "name": "stdout"
        }
      ]
    },
    {
      "cell_type": "markdown",
      "metadata": {
        "id": "QKgN2ezVz1WH"
      },
      "source": [
        "# **PART 2 -- TFIDF**"
      ]
    },
    {
      "cell_type": "code",
      "metadata": {
        "id": "BBuaoosxeMN6"
      },
      "source": [
        "tfidf_vectorizer = TfidfVectorizer(max_df=0.8, max_features=10000)"
      ],
      "execution_count": 245,
      "outputs": []
    },
    {
      "cell_type": "code",
      "metadata": {
        "id": "hjL2hJdeMkxp"
      },
      "source": [
        "# create TF-IDF features\n",
        "xtrain_tfidf = tfidf_vectorizer.fit_transform(xtrain) #Learn vocabulary and idf, return document-term matrix (each cell of each document is an idf weight)\n",
        "xtest_tfidf = tfidf_vectorizer.transform(xtest)\n",
        "\n",
        "csr_matrix.sort_indices(xtrain_tfidf)\n",
        "csr_matrix.sort_indices(xtest_tfidf)"
      ],
      "execution_count": 246,
      "outputs": []
    },
    {
      "cell_type": "code",
      "metadata": {
        "colab": {
          "base_uri": "https://localhost:8080/"
        },
        "id": "XtwJHQ1mstro",
        "outputId": "8eacf8ca-d505-4234-de7c-a6d0cf8876ab"
      },
      "source": [
        "xtrain_tfidf.shape #each document shown with maximum 10000 weights (which comes from the TFIDF of each word in it)"
      ],
      "execution_count": 247,
      "outputs": [
        {
          "output_type": "execute_result",
          "data": {
            "text/plain": [
              "(1994, 10000)"
            ]
          },
          "metadata": {
            "tags": []
          },
          "execution_count": 247
        }
      ]
    },
    {
      "cell_type": "markdown",
      "metadata": {
        "id": "73wmiGPXub76"
      },
      "source": [
        "**LOGISTIC REGRESSION WITH 1VSALL**"
      ]
    },
    {
      "cell_type": "code",
      "metadata": {
        "colab": {
          "base_uri": "https://localhost:8080/"
        },
        "id": "auui92l0vJ4e",
        "outputId": "c1a9845d-e644-4894-b1d8-eb729f4b068e"
      },
      "source": [
        "lr = LogisticRegression()\n",
        "clf = OneVsRestClassifier(lr)\n",
        "clf.fit(xtrain_tfidf, ytrain)"
      ],
      "execution_count": 267,
      "outputs": [
        {
          "output_type": "execute_result",
          "data": {
            "text/plain": [
              "OneVsRestClassifier(estimator=LogisticRegression(C=1.0, class_weight=None,\n",
              "                                                 dual=False, fit_intercept=True,\n",
              "                                                 intercept_scaling=1,\n",
              "                                                 l1_ratio=None, max_iter=100,\n",
              "                                                 multi_class='auto',\n",
              "                                                 n_jobs=None, penalty='l2',\n",
              "                                                 random_state=None,\n",
              "                                                 solver='lbfgs', tol=0.0001,\n",
              "                                                 verbose=0, warm_start=False),\n",
              "                    n_jobs=None)"
            ]
          },
          "metadata": {
            "tags": []
          },
          "execution_count": 267
        }
      ]
    },
    {
      "cell_type": "code",
      "metadata": {
        "id": "x308ZQSvwLZW"
      },
      "source": [
        "y_pred_prob_trn = clf.predict_proba(xtrain_tfidf)\n",
        "y_pred_prob_tst = clf.predict_proba(xtest_tfidf)\n",
        "\n",
        "t = 0.23 # threshold value\n",
        "y_pred_lr_trn = (y_pred_prob_trn >= t).astype(int)\n",
        "y_pred_lr_tst = (y_pred_prob_tst >= t).astype(int)"
      ],
      "execution_count": 268,
      "outputs": []
    },
    {
      "cell_type": "code",
      "metadata": {
        "colab": {
          "base_uri": "https://localhost:8080/"
        },
        "id": "OLHGEQt5vxdo",
        "outputId": "5dd488f1-45ec-4c34-8d5f-e3f510ad3227"
      },
      "source": [
        "nm = 3\n",
        "print(f\"Real value: {multilabel_binarizer.inverse_transform(ytest)[nm]}\")\n",
        "print(f\"predicted value: {multilabel_binarizer.inverse_transform(y_pred_lr_tst)[nm]}\")"
      ],
      "execution_count": 269,
      "outputs": [
        {
          "output_type": "stream",
          "text": [
            "Real value: ('Action', 'Drama', 'Thriller')\n",
            "predicted value: ('Action', 'Drama', 'Thriller')\n"
          ],
          "name": "stdout"
        }
      ]
    },
    {
      "cell_type": "code",
      "metadata": {
        "colab": {
          "base_uri": "https://localhost:8080/"
        },
        "id": "AU9h-0jfxQ4N",
        "outputId": "043882c2-7660-4039-bbcc-49adebdde399"
      },
      "source": [
        "print(\"*** LOGISTIC REGRESSION CLASSIFIER RESULTS ***\")\n",
        "print(f\"test set f-score: {f1_score(ytest, y_pred_lr_tst, average='micro')}\")\n",
        "print(f\"test set roc-auc-score: {roc_auc_score(ytest, y_pred_lr_tst, average='micro')}\")"
      ],
      "execution_count": 272,
      "outputs": [
        {
          "output_type": "stream",
          "text": [
            "*** LOGISTIC REGRESSION CLASSIFIER RESULTS ***\n",
            "test set f-score: 0.5342008088623176\n",
            "test set roc-auc-score: 0.7588365834135703\n"
          ],
          "name": "stdout"
        }
      ]
    },
    {
      "cell_type": "markdown",
      "metadata": {
        "id": "R4f4k8Vamk5I"
      },
      "source": [
        "There appears to be a tradeoff betweeen between the threshold val and the training set & test set. IE: training set score goes up, test set score goes down"
      ]
    },
    {
      "cell_type": "markdown",
      "metadata": {
        "id": "N06oM_DSulTI"
      },
      "source": [
        "**NEURAL NETWORK**"
      ]
    },
    {
      "cell_type": "code",
      "metadata": {
        "id": "FYUA5tGJqaDl"
      },
      "source": [
        "NUM_HIDDEN_LAYERS = 1\n",
        "LAYER_SIZE = 145"
      ],
      "execution_count": 277,
      "outputs": []
    },
    {
      "cell_type": "code",
      "metadata": {
        "id": "xv5QD5p_NNfL"
      },
      "source": [
        "def get_model(n_inputs, n_outputs):\n",
        "  model = Sequential()\n",
        "  model.add(Dropout(0.2,input_dim=n_inputs))\n",
        "  model.add(Dense(LAYER_SIZE, kernel_initializer='he_uniform', activation='tanh'))\n",
        "  for _ in range (NUM_HIDDEN_LAYERS-1):\n",
        "    model.add(Dense(int(LAYER_SIZE), kernel_initializer='he_uniform', activation='tanh'))\n",
        "  model.add(Dense(n_outputs, activation='sigmoid'))\n",
        "  model.compile(loss='binary_crossentropy', optimizer='adam',metrics='accuracy')\n",
        "  return model\n",
        " \n",
        "\n",
        "x_train, y_train = xtrain_tfidf.toarray(), ytrain\n",
        "n_inputs, n_outputs = x_train.shape[1], y_train.shape[1]\n",
        "\n",
        "model = get_model(n_inputs, n_outputs)\n",
        "history= model.fit(x_train, y_train, verbose=0, epochs=50,validation_split = 0.1)"
      ],
      "execution_count": 278,
      "outputs": []
    },
    {
      "cell_type": "code",
      "metadata": {
        "colab": {
          "base_uri": "https://localhost:8080/",
          "height": 279
        },
        "id": "Vm90EYBA20RG",
        "outputId": "07482686-8833-499c-e6ac-29eef3cca59e"
      },
      "source": [
        "loss_values = history.history['loss']\n",
        "vlloss_values = history.history['val_loss']\n",
        "epochs = range(1, len(loss_values)+1)\n",
        "\n",
        "plt.plot(epochs, loss_values, label='Training Loss')\n",
        "plt.plot(vlloss_values, label='Validation Loss')\n",
        "plt.xlabel('Epochs')\n",
        "plt.ylabel('Loss')\n",
        "plt.legend()\n",
        "\n",
        "plt.show()"
      ],
      "execution_count": 279,
      "outputs": [
        {
          "output_type": "display_data",
          "data": {
            "image/png": "[encoded data removed]",
            "text/plain": [
              "<Figure size 432x288 with 1 Axes>"
            ]
          },
          "metadata": {
            "tags": [],
            "needs_background": "light"
          }
        }
      ]
    },
    {
      "cell_type": "markdown",
      "metadata": {
        "id": "oEfyp04x5M6U"
      },
      "source": [
        "the above plot shows that we have to early stop on around 9 epochs to get best result"
      ]
    },
    {
      "cell_type": "code",
      "metadata": {
        "colab": {
          "base_uri": "https://localhost:8080/"
        },
        "id": "j7Vfo0pd5aEn",
        "outputId": "d08b8f3a-100f-4262-cbbf-ea0933637bf5"
      },
      "source": [
        "model = get_model(n_inputs, n_outputs)\n",
        "model.fit(x_train, y_train, verbose=0, epochs=9)"
      ],
      "execution_count": 280,
      "outputs": [
        {
          "output_type": "execute_result",
          "data": {
            "text/plain": [
              "<keras.callbacks.History at 0x7f9dd29ebe10>"
            ]
          },
          "metadata": {
            "tags": []
          },
          "execution_count": 280
        }
      ]
    },
    {
      "cell_type": "code",
      "metadata": {
        "colab": {
          "base_uri": "https://localhost:8080/"
        },
        "id": "-kN7FBEg8vXU",
        "outputId": "9946bd69-982f-488d-bac1-0539f67233c0"
      },
      "source": [
        "'''finding best threshold for the NN result'''\n",
        "thresh =0.0\n",
        "for _ in range (10):\n",
        "  nn_y_pred = model.predict(xtest_tfidf) \n",
        "  nn_y_pred = (nn_y_pred> thresh).astype(int)\n",
        "  print(f\"threshold: {thresh} --- score: {f1_score(ytest, nn_y_pred, average='micro')}\")\n",
        "  thresh += 0.05"
      ],
      "execution_count": 281,
      "outputs": [
        {
          "output_type": "stream",
          "text": [
            "threshold: 0.0 --- score: 0.22063421170165254\n",
            "threshold: 0.05 --- score: 0.41091667422250433\n",
            "threshold: 0.1 --- score: 0.51473981030505\n",
            "threshold: 0.15000000000000002 --- score: 0.5504845264145045\n",
            "threshold: 0.2 --- score: 0.5704614288259398\n",
            "threshold: 0.25 --- score: 0.5640520299566417\n",
            "threshold: 0.3 --- score: 0.5520788684097728\n",
            "threshold: 0.35 --- score: 0.5219003476245656\n",
            "threshold: 0.39999999999999997 --- score: 0.4916479680877586\n",
            "threshold: 0.44999999999999996 --- score: 0.45386666666666675\n"
          ],
          "name": "stdout"
        }
      ]
    },
    {
      "cell_type": "markdown",
      "metadata": {
        "id": "94MJDWHdCZsm"
      },
      "source": [
        "0.2 seems to be giving the best value!"
      ]
    },
    {
      "cell_type": "code",
      "metadata": {
        "id": "KCYrQAyqNt_m"
      },
      "source": [
        "nn_y_pred_trn = model.predict(xtrain_tfidf)\n",
        "nn_y_pred_tst = model.predict(xtest_tfidf)\n",
        "\n",
        "THRESHOLD = 0.2\n",
        "nn_y_pred_trn = (nn_y_pred_trn >= THRESHOLD).astype(int)\n",
        "nn_y_pred_tst = (nn_y_pred_tst >= THRESHOLD).astype(int)"
      ],
      "execution_count": 300,
      "outputs": []
    },
    {
      "cell_type": "code",
      "metadata": {
        "colab": {
          "base_uri": "https://localhost:8080/"
        },
        "id": "rQLbWUg6oEsW",
        "outputId": "ac6a436e-932f-41c2-8d17-492430be8d6f"
      },
      "source": [
        "print(\"*** NUERAL NET CLASSIFIER ***\")\n",
        "print(f\"test set f-score: {f1_score(ytest, nn_y_pred_tst, average='micro')}\")\n",
        "print(f\"test set roc-auc-score: {roc_auc_score(ytest, nn_y_pred_tst, average='micro')}\")"
      ],
      "execution_count": 301,
      "outputs": [
        {
          "output_type": "stream",
          "text": [
            "*** NUERAL NET CLASSIFIER ***\n",
            "test set f-score: 0.5704614288259398\n",
            "test set roc-auc-score: 0.7799056877370858\n"
          ],
          "name": "stdout"
        }
      ]
    },
    {
      "cell_type": "markdown",
      "metadata": {
        "id": "YmJfEc5CwhgX"
      },
      "source": [
        "# **PART 2.5 -- Discussing the obtained results**"
      ]
    },
    {
      "cell_type": "markdown",
      "metadata": {
        "id": "Z2x_5UEMxNPy"
      },
      "source": [
        "In the above two parts, we built two classifiers for each of the secions. One Logistic Regression classifier using the 1vsAll method, and the other classifier is a neural network that can handle multi-label data. \n",
        "\n",
        "the result scores we obtained for Word2Vec & TF-IDF are fairly similar. with the F1 Metric giving scors around 56%. However, the way the algorithms themselves are able to achieve these scores is vastly differently:\n",
        "\n",
        "**1- TF-IDF** is a word-document mapping. It ignores the order of words and gives NxM matrix where N is number of words in the vocabulary(which we specify the max number for scikit's implementation) and M is number of documents, and each cell has the weights of each of the words in its respective documents which is obtained from straightforward linear algebra.\n",
        "TF-IDF can be used either for assigning vectors to words or to documents.\n",
        "\n",
        "**2- Word2Vec** on the other hand gives a unique vector for each word based on the words appearing around the particular word, the word vector is obtained from the hidden layer of a two layered neural network. Word2Vec can be directly used to assign vector to a word but to get the vector representation of a document further processing is needed.\n",
        "\n",
        "In order to find the document(or in our case \"review\") vectors for Word2Vec, we summed over the entire review's words' vectors, and then divided the result by the number of words. The pro of using this method is that we're taking into account the ordering of the words in each of document, the con of using this method is that all the words are treated with the same value, whereas in reality some words may be more important than others!\n",
        "\n",
        "TF-IDF itself has a metric for finding word weights, both based on the review it is in (the \"TF\" AKA \"Term Frequency\" part) and based on taking into consideration the entire reviews (the \"IDF\" AKA \"Inverse Document Frequency\" part). This weight is good since we are able to identify how important a word is, but the problem with this algorithm is it doesn't take into consideration the ordering of the words. \n",
        "\n",
        "Now..What if we find a way to have the best of both worlds?\n",
        "\n",
        "We can first use Word2Vec to find vector encodings for each of the words. after that, in the step of finding the average of the words used in the documents, we instead use the weighted average of the words in the document, Where we found  the weights of the words by using the TF-IDF method. This seems like a plausible way to mix both of methods above. which brings us to the next part.."
      ]
    },
    {
      "cell_type": "markdown",
      "metadata": {
        "id": "EXsFHq6U5IpL"
      },
      "source": [
        "# **PART 3 -- Combining TF-IDF and W2V to get better results!**"
      ]
    },
    {
      "cell_type": "code",
      "metadata": {
        "id": "XaMpZ2uMI3Ma"
      },
      "source": [
        "tfidf = TfidfVectorizer(max_df=0.8, max_features=10000)\n"
      ],
      "execution_count": 303,
      "outputs": []
    },
    {
      "cell_type": "code",
      "metadata": {
        "id": "AOu6w9q60XGW"
      },
      "source": [
        "# create TF-IDF features\n",
        "tfidf.fit_transform(X)\n",
        "dct= dict(zip(tfidf.get_feature_names(), tfidf.idf_)) #this is the dict we'll use to get the weights of words found with tfidf"
      ],
      "execution_count": 304,
      "outputs": []
    },
    {
      "cell_type": "code",
      "metadata": {
        "id": "zXNZELWiR3E1"
      },
      "source": [
        "SIZE = 150\n",
        "WINDOW = 15"
      ],
      "execution_count": 305,
      "outputs": []
    },
    {
      "cell_type": "code",
      "metadata": {
        "colab": {
          "base_uri": "https://localhost:8080/"
        },
        "id": "Jr3fJFfa0Lnv",
        "outputId": "de33bd3e-e932-4dd8-a4ee-bd74c6e42bb3"
      },
      "source": [
        "x_tfw2v = X.apply(lambda x: final_clean(x))\n",
        "w2v_model = gensim.models.Word2Vec (x_tfw2v, size=SIZE, window=WINDOW, min_count=2, workers=10)\n",
        "w2v_model.train(x_tfw2v,total_examples=len(x_tfw2v),epochs=55)"
      ],
      "execution_count": 306,
      "outputs": [
        {
          "output_type": "execute_result",
          "data": {
            "text/plain": [
              "(4083689, 4605645)"
            ]
          },
          "metadata": {
            "tags": []
          },
          "execution_count": 306
        }
      ]
    },
    {
      "cell_type": "code",
      "metadata": {
        "colab": {
          "base_uri": "https://localhost:8080/"
        },
        "id": "M7dXhVrISLvU",
        "outputId": "0506f8f9-723d-4117-ca36-8f16f3b418ca"
      },
      "source": [
        "x_vec_tfw2v = np.zeros((len(x_w2v), SIZE))\n",
        "\n",
        "for idx, paragraph in enumerate(x_w2v): \n",
        "  weight_sum =0\n",
        "  arr = np.zeros(SIZE)\n",
        "  for word in paragraph:\n",
        "    try:\n",
        "      #Here we're taking the weighted average (the weights coming from tfidf) in order to mix the algorithms. \n",
        "      #words with higher weight will be taken more into consideration\n",
        "      arr += w2v_model[word] * dct[word]\n",
        "      weight_sum += dct[word]\n",
        "    except KeyError:\n",
        "      pass \n",
        "  arr = arr/weight_sum \n",
        "  x_vec_tfw2v[idx,:] = arr"
      ],
      "execution_count": 307,
      "outputs": [
        {
          "output_type": "stream",
          "text": [
            "/usr/local/lib/python3.7/dist-packages/ipykernel_launcher.py:10: DeprecationWarning: Call to deprecated `__getitem__` (Method will be removed in 4.0.0, use self.wv.__getitem__() instead).\n",
            "  # Remove the CWD from sys.path while we load stuff.\n"
          ],
          "name": "stderr"
        }
      ]
    },
    {
      "cell_type": "code",
      "metadata": {
        "id": "BoWhrsffVwKu"
      },
      "source": [
        "xtrain_tfw2v, xtest_tfw2v, ytrain_tfw2v, ytest_tfw2v = train_test_split(x_vec_tfw2v, y, test_size=0.333, random_state=9) #now do splitting for classification\n",
        "                                #note that since parameters same as split above, the y's will be the same as before (ytrain_w2v == ytrain)"
      ],
      "execution_count": 314,
      "outputs": []
    },
    {
      "cell_type": "markdown",
      "metadata": {
        "id": "7i5ZDgmNcdlt"
      },
      "source": [
        "**LOGISTIC REGRESSION WITH 1VSALL**"
      ]
    },
    {
      "cell_type": "code",
      "metadata": {
        "colab": {
          "base_uri": "https://localhost:8080/"
        },
        "id": "irvaR3lyV6P2",
        "outputId": "95a7c968-5de8-46fb-c95b-d26325a19542"
      },
      "source": [
        "lr = LogisticRegression()\n",
        "clf = OneVsRestClassifier(lr)\n",
        "clf.fit(xtrain_tfw2v, ytrain_tfw2v)"
      ],
      "execution_count": 331,
      "outputs": [
        {
          "output_type": "stream",
          "text": [
            "/usr/local/lib/python3.7/dist-packages/sklearn/linear_model/_logistic.py:940: ConvergenceWarning: lbfgs failed to converge (status=1):\n",
            "STOP: TOTAL NO. of ITERATIONS REACHED LIMIT.\n",
            "\n",
            "Increase the number of iterations (max_iter) or scale the data as shown in:\n",
            "    https://scikit-learn.org/stable/modules/preprocessing.html\n",
            "Please also refer to the documentation for alternative solver options:\n",
            "    https://scikit-learn.org/stable/modules/linear_model.html#logistic-regression\n",
            "  extra_warning_msg=_LOGISTIC_SOLVER_CONVERGENCE_MSG)\n",
            "/usr/local/lib/python3.7/dist-packages/sklearn/linear_model/_logistic.py:940: ConvergenceWarning: lbfgs failed to converge (status=1):\n",
            "STOP: TOTAL NO. of ITERATIONS REACHED LIMIT.\n",
            "\n",
            "Increase the number of iterations (max_iter) or scale the data as shown in:\n",
            "    https://scikit-learn.org/stable/modules/preprocessing.html\n",
            "Please also refer to the documentation for alternative solver options:\n",
            "    https://scikit-learn.org/stable/modules/linear_model.html#logistic-regression\n",
            "  extra_warning_msg=_LOGISTIC_SOLVER_CONVERGENCE_MSG)\n",
            "/usr/local/lib/python3.7/dist-packages/sklearn/linear_model/_logistic.py:940: ConvergenceWarning: lbfgs failed to converge (status=1):\n",
            "STOP: TOTAL NO. of ITERATIONS REACHED LIMIT.\n",
            "\n",
            "Increase the number of iterations (max_iter) or scale the data as shown in:\n",
            "    https://scikit-learn.org/stable/modules/preprocessing.html\n",
            "Please also refer to the documentation for alternative solver options:\n",
            "    https://scikit-learn.org/stable/modules/linear_model.html#logistic-regression\n",
            "  extra_warning_msg=_LOGISTIC_SOLVER_CONVERGENCE_MSG)\n"
          ],
          "name": "stderr"
        },
        {
          "output_type": "execute_result",
          "data": {
            "text/plain": [
              "OneVsRestClassifier(estimator=LogisticRegression(C=1.0, class_weight=None,\n",
              "                                                 dual=False, fit_intercept=True,\n",
              "                                                 intercept_scaling=1,\n",
              "                                                 l1_ratio=None, max_iter=100,\n",
              "                                                 multi_class='auto',\n",
              "                                                 n_jobs=None, penalty='l2',\n",
              "                                                 random_state=None,\n",
              "                                                 solver='lbfgs', tol=0.0001,\n",
              "                                                 verbose=0, warm_start=False),\n",
              "                    n_jobs=None)"
            ]
          },
          "metadata": {
            "tags": []
          },
          "execution_count": 331
        }
      ]
    },
    {
      "cell_type": "code",
      "metadata": {
        "id": "r8XzqW-RWByM"
      },
      "source": [
        "y_pred_prob_trn = clf.predict_proba(xtrain_tfw2v)\n",
        "y_pred_prob_tst = clf.predict_proba(xtest_tfw2v)\n",
        "\n",
        "t = 0.25752 # threshold value\n",
        "y_pred_lr_trn = (y_pred_prob_trn >= t).astype(int)\n",
        "y_pred_lr_tst = (y_pred_prob_tst >= t).astype(int)\n"
      ],
      "execution_count": 357,
      "outputs": []
    },
    {
      "cell_type": "code",
      "metadata": {
        "colab": {
          "base_uri": "https://localhost:8080/"
        },
        "id": "_LP4dQX9WFdW",
        "outputId": "3d8a9297-e51c-47d5-a0c0-38f1b9baaa7c"
      },
      "source": [
        "nm = 3\n",
        "print(f\"Real value: {multilabel_binarizer.inverse_transform(ytest_tfw2v)[nm]}\")\n",
        "print(f\"predicted value: {multilabel_binarizer.inverse_transform(y_pred_lr_tst)[nm]}\")"
      ],
      "execution_count": 358,
      "outputs": [
        {
          "output_type": "stream",
          "text": [
            "Real value: ('Action', 'Drama', 'Thriller')\n",
            "predicted value: ('Action', 'Adventure', 'Drama', 'Thriller')\n"
          ],
          "name": "stdout"
        }
      ]
    },
    {
      "cell_type": "code",
      "metadata": {
        "colab": {
          "base_uri": "https://localhost:8080/"
        },
        "id": "on-irMh6WHJw",
        "outputId": "f987aa0a-b452-4fba-c4c7-71dbc6d39bab"
      },
      "source": [
        "print(\"*** LOGISTIC REGRESSION CLASSIFIER RESULTS ***\")\n",
        "print(f\"test set f-score: {f1_score(ytest, y_pred_lr_tst, average='micro')}\")\n",
        "print(f\"test set roc-auc-score: {roc_auc_score(ytest, y_pred_lr_tst, average='micro')}\")"
      ],
      "execution_count": 364,
      "outputs": [
        {
          "output_type": "stream",
          "text": [
            "*** LOGISTIC REGRESSION CLASSIFIER RESULTS ***\n",
            "test set f-score: 0.5801145601097581\n",
            "test set roc-auc-score: 0.799141793209053\n"
          ],
          "name": "stdout"
        }
      ]
    },
    {
      "cell_type": "markdown",
      "metadata": {
        "id": "iK-vtNbwYTFs"
      },
      "source": [
        "This is the best result we got so far! Let's see if we can do even better with a neural network.."
      ]
    },
    {
      "cell_type": "code",
      "metadata": {
        "id": "dDSJmotYaRiK"
      },
      "source": [
        "NUM_HIDDEN_LAYERS = 2\n",
        "LAYER_SIZE = 100"
      ],
      "execution_count": 339,
      "outputs": []
    },
    {
      "cell_type": "code",
      "metadata": {
        "id": "QNdKDif8cbJK"
      },
      "source": [
        "def get_model(n_inputs, n_outputs):\n",
        "  model = Sequential()\n",
        "  model.add(Dropout(0.2,input_dim=n_inputs))\n",
        "  model.add(Dense(LAYER_SIZE, kernel_initializer='glorot_uniform', activation='tanh'))\n",
        "  model.add(Dropout(0.2))\n",
        "  for _ in range (NUM_HIDDEN_LAYERS-1):\n",
        "    model.add(Dense(int(LAYER_SIZE), kernel_initializer='glorot_uniform', activation='tanh'))\n",
        "  model.add(Dense(n_outputs, activation='sigmoid'))\n",
        "  model.compile(loss='binary_crossentropy', optimizer='Adam',metrics='accuracy')\n",
        "  return model\n",
        " \n",
        "\n",
        "x_train, y_train = xtrain_tfw2v, ytrain_tfw2v\n",
        "n_inputs, n_outputs = x_train.shape[1], y_train.shape[1]\n",
        "\n",
        "model = get_model(n_inputs, n_outputs)\n",
        "history = model.fit(x_train, y_train, verbose=0, epochs=50, validation_split=0.1)\n"
      ],
      "execution_count": 340,
      "outputs": []
    },
    {
      "cell_type": "code",
      "metadata": {
        "colab": {
          "base_uri": "https://localhost:8080/",
          "height": 279
        },
        "id": "526l8uhVdTZJ",
        "outputId": "64cd0b0a-d1c4-4947-f6b2-045f0670ad63"
      },
      "source": [
        "loss_values = history.history['loss']\n",
        "vlloss_values = history.history['val_loss']\n",
        "epochs = range(1, len(loss_values)+1)\n",
        "\n",
        "plt.plot(epochs, loss_values, label='Training Loss')\n",
        "plt.plot(vlloss_values, label='Validation Loss')\n",
        "plt.xlabel('Epochs')\n",
        "plt.ylabel('Loss')\n",
        "plt.legend()\n",
        "\n",
        "plt.show()"
      ],
      "execution_count": 341,
      "outputs": [
        {
          "output_type": "display_data",
          "data": {
            "image/png": "[encoded data removed]",
            "text/plain": [
              "<Figure size 432x288 with 1 Axes>"
            ]
          },
          "metadata": {
            "tags": [],
            "needs_background": "light"
          }
        }
      ]
    },
    {
      "cell_type": "code",
      "metadata": {
        "colab": {
          "base_uri": "https://localhost:8080/"
        },
        "id": "RxV9AVnFdagm",
        "outputId": "3520b740-477e-46a8-f39e-ac3e9737677e"
      },
      "source": [
        "model = get_model(n_inputs, n_outputs)\n",
        "model.fit(x_train, y_train, verbose=0, epochs=18)"
      ],
      "execution_count": 348,
      "outputs": [
        {
          "output_type": "execute_result",
          "data": {
            "text/plain": [
              "<keras.callbacks.History at 0x7f9dcaff54d0>"
            ]
          },
          "metadata": {
            "tags": []
          },
          "execution_count": 348
        }
      ]
    },
    {
      "cell_type": "code",
      "metadata": {
        "colab": {
          "base_uri": "https://localhost:8080/"
        },
        "id": "6VY34zy-doHr",
        "outputId": "4bb8f623-6f9a-40fc-f782-996032b460e6"
      },
      "source": [
        "'''finding best threshold for the NN result'''\n",
        "thresh =0.0\n",
        "for _ in range (10):\n",
        "  nn_y_pred = model.predict(xtest_tfw2v) \n",
        "  nn_y_pred = (nn_y_pred> thresh).astype(int)\n",
        "  print(f\"threshold: {thresh} --- score: {f1_score(ytest, nn_y_pred, average='micro')}\")\n",
        "  thresh += 0.05"
      ],
      "execution_count": 353,
      "outputs": [
        {
          "output_type": "stream",
          "text": [
            "threshold: 0.0 --- score: 0.22863421170165255\n",
            "threshold: 0.05 --- score: 0.43414427629746544\n",
            "threshold: 0.1 --- score: 0.5078224221617141\n",
            "threshold: 0.15000000000000002 --- score: 0.550853212271289\n",
            "threshold: 0.2 --- score: 0.5692369871402326\n",
            "threshold: 0.25 --- score: 0.5826318607764391\n",
            "threshold: 0.3 --- score: 0.5868038538447555\n",
            "threshold: 0.35 --- score: 0.5742912467891721\n",
            "threshold: 0.39999999999999997 --- score: 0.5573853327681222\n",
            "threshold: 0.44999999999999996 --- score: 0.5342193725669796\n"
          ],
          "name": "stdout"
        }
      ]
    },
    {
      "cell_type": "code",
      "metadata": {
        "id": "ruMeyPWCdrUV"
      },
      "source": [
        "nn_y_pred_trn = model.predict(xtrain_tfw2v)\n",
        "nn_y_pred_tst = model.predict(xtest_tfw2v)\n",
        "\n",
        "THRESHOLD = 0.3\n",
        "nn_y_pred_trn = (nn_y_pred_trn >= THRESHOLD).astype(int)\n",
        "nn_y_pred_tst = (nn_y_pred_tst >= THRESHOLD).astype(int)"
      ],
      "execution_count": 360,
      "outputs": []
    },
    {
      "cell_type": "code",
      "metadata": {
        "colab": {
          "base_uri": "https://localhost:8080/"
        },
        "id": "vsnHygJOd7AN",
        "outputId": "3c3ca1cb-118e-49a0-eba9-d9d167e6aee9"
      },
      "source": [
        "print(\"*** NUERAL NET CLASSIFIER ***\")\n",
        "print(f\"test set f-score: {f1_score(ytest_tfw2v, nn_y_pred_tst, average='micro')}\")\n",
        "print(f\"test set roc-auc-score: {roc_auc_score(ytest_tfw2v, nn_y_pred_tst, average='micro')}\")"
      ],
      "execution_count": 363,
      "outputs": [
        {
          "output_type": "stream",
          "text": [
            "*** NUERAL NET CLASSIFIER ***\n",
            "test set f-score: 0.5868038538447555\n",
            "test set roc-auc-score: 0.7910351147871884\n"
          ],
          "name": "stdout"
        }
      ]
    },
    {
      "cell_type": "markdown",
      "metadata": {
        "id": "UGSG7iH8vZ-E"
      },
      "source": [
        "These are the best scores we managed to achieve throughout all our tests!"
      ]
    }
  ]
}