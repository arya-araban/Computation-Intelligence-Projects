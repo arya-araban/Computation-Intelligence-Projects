{
  "nbformat": 4,
  "nbformat_minor": 0,
  "metadata": {
    "colab": {
      "name": "Computation-Intelligence-project2-9612762832.ipynb",
      "provenance": [],
      "collapsed_sections": [],
      "toc_visible": true
    },
    "kernelspec": {
      "name": "python3",
      "display_name": "Python 3"
    },
    "language_info": {
      "name": "python"
    }
  },
  "cells": [
    {
      "cell_type": "code",
      "metadata": {
        "id": "1VZJN9x0tHX1"
      },
      "source": [
        "from google.colab import drive\n",
        "drive.mount('/content/drive')"
      ],
      "execution_count": null,
      "outputs": []
    },
    {
      "cell_type": "code",
      "metadata": {
        "id": "xJRwxQn7vCHR"
      },
      "source": [
        "import numpy as np\n",
        "import pandas as pd\n",
        "import seaborn as sns\n",
        "import matplotlib.pyplot as plt\n",
        "import sklearn.preprocessing\n",
        "from sklearn.preprocessing import MultiLabelBinarizer\n",
        "from sklearn.linear_model import LogisticRegression\n",
        "from sklearn.datasets import make_multilabel_classification\n",
        "from sklearn.model_selection import train_test_split\n",
        "from sklearn.multiclass import OneVsRestClassifier\n",
        "from sklearn.metrics import f1_score\n",
        "from sklearn.feature_extraction.text import TfidfVectorizer\n",
        "import gensim\n",
        "import chardet\n",
        "import ast\n",
        "import re\n",
        "from gensim.parsing.preprocessing import remove_stopwords\n",
        "\n",
        "import collections \n",
        "import itertools\n",
        "import nltk\n",
        "from nltk.corpus import stopwords\n",
        "import tensorflow as tf\n",
        "from tensorflow import keras\n",
        "from tensorflow.keras import layers\n",
        "from keras.models import Sequential\n",
        "from keras.layers import Activation, Dense,Dropout\n",
        "from scipy.sparse import csr_matrix\n"
      ],
      "execution_count": null,
      "outputs": []
    },
    {
      "cell_type": "code",
      "metadata": {
        "id": "2_p2vsfEvFtU"
      },
      "source": [
        "reviews_train =  pd.read_csv(r\"./drive/MyDrive/datasets/Computation-Intelligence/project2/train.csv\")\n",
        "reviews_test =  pd.read_csv(r\"./drive/MyDrive/datasets/Computation-Intelligence/project2/test.csv\")"
      ],
      "execution_count": null,
      "outputs": []
    },
    {
      "cell_type": "code",
      "metadata": {
        "id": "Db1HuMHlT3A8"
      },
      "source": [
        "np.set_printoptions(suppress=True)"
      ],
      "execution_count": null,
      "outputs": []
    },
    {
      "cell_type": "markdown",
      "metadata": {
        "id": "A1GqD_3-oURe"
      },
      "source": [
        "# **PART 0 -- PREPROCESSING**"
      ]
    },
    {
      "cell_type": "code",
      "metadata": {
        "id": "pmcDZz79gbfk"
      },
      "source": [
        "\n",
        "reviews_train = reviews_train.drop('Unnamed: 3', 1)\n",
        "reviews_test = reviews_test.drop('Unnamed: 3', 1)\n",
        "reviews_test = reviews_test.drop('Unnamed: 4', 1)\n",
        "\n",
        "reviews = reviews_train.append(reviews_test) #appending both the datasets at \n",
        "reviews = reviews.reset_index(drop=True) \n",
        "\n",
        "'''removing rows with na values'''\n",
        "reviews = reviews.dropna() #843 978 1755 1961 have values for \"Unnamed: 3\" \n",
        "\n",
        "'''removing rows with no text for overview'''\n",
        "reviews = reviews[reviews['overview'].str.contains('[A-Za-z]')]"
      ],
      "execution_count": null,
      "outputs": []
    },
    {
      "cell_type": "code",
      "metadata": {
        "colab": {
          "base_uri": "https://localhost:8080/"
        },
        "id": "qKQ5AhMLAOf0",
        "outputId": "98a54390-fa54-406f-8b7c-2be9e59fc7c3"
      },
      "source": [
        "reviews.shape"
      ],
      "execution_count": null,
      "outputs": [
        {
          "output_type": "execute_result",
          "data": {
            "text/plain": [
              "(2990, 3)"
            ]
          },
          "metadata": {
            "tags": []
          },
          "execution_count": 6
        }
      ]
    },
    {
      "cell_type": "code",
      "metadata": {
        "colab": {
          "base_uri": "https://localhost:8080/",
          "height": 204
        },
        "id": "tcqRhQp1AidM",
        "outputId": "ad821de6-b614-4559-e45e-29b6e5c87e36"
      },
      "source": [
        "reviews.tail()"
      ],
      "execution_count": null,
      "outputs": [
        {
          "output_type": "execute_result",
          "data": {
            "text/html": [
              "<div>\n",
              "<style scoped>\n",
              "    .dataframe tbody tr th:only-of-type {\n",
              "        vertical-align: middle;\n",
              "    }\n",
              "\n",
              "    .dataframe tbody tr th {\n",
              "        vertical-align: top;\n",
              "    }\n",
              "\n",
              "    .dataframe thead th {\n",
              "        text-align: right;\n",
              "    }\n",
              "</style>\n",
              "<table border=\"1\" class=\"dataframe\">\n",
              "  <thead>\n",
              "    <tr style=\"text-align: right;\">\n",
              "      <th></th>\n",
              "      <th>id</th>\n",
              "      <th>genres</th>\n",
              "      <th>overview</th>\n",
              "    </tr>\n",
              "  </thead>\n",
              "  <tbody>\n",
              "    <tr>\n",
              "      <th>2995</th>\n",
              "      <td>2996</td>\n",
              "      <td>[{'id': 35, 'name': 'Comedy'}, {'id': 10749, '...</td>\n",
              "      <td>Military men Rock Reilly and Eddie Devane are ...</td>\n",
              "    </tr>\n",
              "    <tr>\n",
              "      <th>2996</th>\n",
              "      <td>2997</td>\n",
              "      <td>[{'id': 18, 'name': 'Drama'}, {'id': 10402, 'n...</td>\n",
              "      <td>Three girls in 1980s Stockholm decide to form ...</td>\n",
              "    </tr>\n",
              "    <tr>\n",
              "      <th>2997</th>\n",
              "      <td>2998</td>\n",
              "      <td>[{'id': 80, 'name': 'Crime'}, {'id': 28, 'name...</td>\n",
              "      <td>Samantha Caine, suburban homemaker, is the ide...</td>\n",
              "    </tr>\n",
              "    <tr>\n",
              "      <th>2998</th>\n",
              "      <td>2999</td>\n",
              "      <td>[{'id': 35, 'name': 'Comedy'}, {'id': 10749, '...</td>\n",
              "      <td>Reuben Feffer is a guy who's spent his entire ...</td>\n",
              "    </tr>\n",
              "    <tr>\n",
              "      <th>2999</th>\n",
              "      <td>3000</td>\n",
              "      <td>[{'id': 53, 'name': 'Thriller'}, {'id': 28, 'n...</td>\n",
              "      <td>A young man sets out to uncover the truth abou...</td>\n",
              "    </tr>\n",
              "  </tbody>\n",
              "</table>\n",
              "</div>"
            ],
            "text/plain": [
              "        id  ...                                           overview\n",
              "2995  2996  ...  Military men Rock Reilly and Eddie Devane are ...\n",
              "2996  2997  ...  Three girls in 1980s Stockholm decide to form ...\n",
              "2997  2998  ...  Samantha Caine, suburban homemaker, is the ide...\n",
              "2998  2999  ...  Reuben Feffer is a guy who's spent his entire ...\n",
              "2999  3000  ...  A young man sets out to uncover the truth abou...\n",
              "\n",
              "[5 rows x 3 columns]"
            ]
          },
          "metadata": {
            "tags": []
          },
          "execution_count": 7
        }
      ]
    },
    {
      "cell_type": "code",
      "metadata": {
        "id": "YmC1Wu1mTd8U"
      },
      "source": [
        "'''MODIFYING GENRES FOR REVIEWS'''\n",
        "\n",
        "for index, row in reviews.iterrows():\n",
        "  genres = ast.literal_eval(row['genres'])\n",
        "  st = '' \n",
        "  for genre in genres:\n",
        "    st += f\"{genre['name']},\"\n",
        "  st = st[0:-1] \n",
        "  reviews.loc[index,'genres'] = st\n"
      ],
      "execution_count": null,
      "outputs": []
    },
    {
      "cell_type": "code",
      "metadata": {
        "colab": {
          "base_uri": "https://localhost:8080/",
          "height": 204
        },
        "id": "v0jH-8UrYKPj",
        "outputId": "62bbeaec-6cda-4b89-c220-343c87d031e8"
      },
      "source": [
        "reviews.head()"
      ],
      "execution_count": null,
      "outputs": [
        {
          "output_type": "execute_result",
          "data": {
            "text/html": [
              "<div>\n",
              "<style scoped>\n",
              "    .dataframe tbody tr th:only-of-type {\n",
              "        vertical-align: middle;\n",
              "    }\n",
              "\n",
              "    .dataframe tbody tr th {\n",
              "        vertical-align: top;\n",
              "    }\n",
              "\n",
              "    .dataframe thead th {\n",
              "        text-align: right;\n",
              "    }\n",
              "</style>\n",
              "<table border=\"1\" class=\"dataframe\">\n",
              "  <thead>\n",
              "    <tr style=\"text-align: right;\">\n",
              "      <th></th>\n",
              "      <th>id</th>\n",
              "      <th>genres</th>\n",
              "      <th>overview</th>\n",
              "    </tr>\n",
              "  </thead>\n",
              "  <tbody>\n",
              "    <tr>\n",
              "      <th>0</th>\n",
              "      <td>1</td>\n",
              "      <td>Comedy</td>\n",
              "      <td>When Lou, who has become the \"father of the In...</td>\n",
              "    </tr>\n",
              "    <tr>\n",
              "      <th>1</th>\n",
              "      <td>2</td>\n",
              "      <td>Comedy,Drama,Family,Romance</td>\n",
              "      <td>Mia Thermopolis is now a college graduate and ...</td>\n",
              "    </tr>\n",
              "    <tr>\n",
              "      <th>2</th>\n",
              "      <td>3</td>\n",
              "      <td>Drama</td>\n",
              "      <td>Under the direction of a ruthless instructor, ...</td>\n",
              "    </tr>\n",
              "    <tr>\n",
              "      <th>3</th>\n",
              "      <td>4</td>\n",
              "      <td>Thriller,Drama</td>\n",
              "      <td>Vidya Bagchi (Vidya Balan) arrives in Kolkata ...</td>\n",
              "    </tr>\n",
              "    <tr>\n",
              "      <th>4</th>\n",
              "      <td>5</td>\n",
              "      <td>Action,Thriller</td>\n",
              "      <td>Marine Boy is the story of a former national s...</td>\n",
              "    </tr>\n",
              "  </tbody>\n",
              "</table>\n",
              "</div>"
            ],
            "text/plain": [
              "   id  ...                                           overview\n",
              "0   1  ...  When Lou, who has become the \"father of the In...\n",
              "1   2  ...  Mia Thermopolis is now a college graduate and ...\n",
              "2   3  ...  Under the direction of a ruthless instructor, ...\n",
              "3   4  ...  Vidya Bagchi (Vidya Balan) arrives in Kolkata ...\n",
              "4   5  ...  Marine Boy is the story of a former national s...\n",
              "\n",
              "[5 rows x 3 columns]"
            ]
          },
          "metadata": {
            "tags": []
          },
          "execution_count": 9
        }
      ]
    },
    {
      "cell_type": "markdown",
      "metadata": {
        "id": "kkSwHUJkhJMq"
      },
      "source": [
        "**Finding movie by genre popularity in dataset**"
      ]
    },
    {
      "cell_type": "code",
      "metadata": {
        "id": "33OxTu3-gLX9"
      },
      "source": [
        "genre_count = collections.Counter(itertools.chain.from_iterable(v.split(',') for v in reviews.genres))\n",
        "\n",
        "genre_count_df = pd.DataFrame({'Genre': list(genre_count.keys()), \n",
        "                              'Count': list(genre_count.values())})"
      ],
      "execution_count": null,
      "outputs": []
    },
    {
      "cell_type": "code",
      "metadata": {
        "colab": {
          "base_uri": "https://localhost:8080/",
          "height": 877
        },
        "id": "sFWKvFQcgm4G",
        "outputId": "ebc9af23-fc9f-4aff-beaa-81b5ba54594a"
      },
      "source": [
        "g = genre_count_df.nlargest(columns=\"Count\", n = 50) \n",
        "plt.figure(figsize=(12,15)) \n",
        "ax = sns.barplot(data=g, x= \"Count\", y = \"Genre\") \n",
        "ax.set(ylabel = 'Count') \n",
        "plt.show()"
      ],
      "execution_count": null,
      "outputs": [
        {
          "output_type": "display_data",
          "data": {
            "image/png": "[encoded data removed]",
            "text/plain": [
              "<Figure size 864x1080 with 1 Axes>"
            ]
          },
          "metadata": {
            "tags": [],
            "needs_background": "light"
          }
        }
      ]
    },
    {
      "cell_type": "code",
      "metadata": {
        "colab": {
          "base_uri": "https://localhost:8080/",
          "height": 221
        },
        "id": "h4s-neUBVXMw",
        "outputId": "68e1e6c8-03ca-43e5-ba6e-c0a16682e6f5"
      },
      "source": [
        "y_dummy = reviews['genres'].str.get_dummies(sep=',')\n",
        "\n",
        "y_dummy.head()"
      ],
      "execution_count": null,
      "outputs": [
        {
          "output_type": "execute_result",
          "data": {
            "text/html": [
              "<div>\n",
              "<style scoped>\n",
              "    .dataframe tbody tr th:only-of-type {\n",
              "        vertical-align: middle;\n",
              "    }\n",
              "\n",
              "    .dataframe tbody tr th {\n",
              "        vertical-align: top;\n",
              "    }\n",
              "\n",
              "    .dataframe thead th {\n",
              "        text-align: right;\n",
              "    }\n",
              "</style>\n",
              "<table border=\"1\" class=\"dataframe\">\n",
              "  <thead>\n",
              "    <tr style=\"text-align: right;\">\n",
              "      <th></th>\n",
              "      <th>Action</th>\n",
              "      <th>Adventure</th>\n",
              "      <th>Animation</th>\n",
              "      <th>Comedy</th>\n",
              "      <th>Crime</th>\n",
              "      <th>Documentary</th>\n",
              "      <th>Drama</th>\n",
              "      <th>Family</th>\n",
              "      <th>Fantasy</th>\n",
              "      <th>Foreign</th>\n",
              "      <th>History</th>\n",
              "      <th>Horror</th>\n",
              "      <th>Music</th>\n",
              "      <th>Mystery</th>\n",
              "      <th>Romance</th>\n",
              "      <th>Science Fiction</th>\n",
              "      <th>TV Movie</th>\n",
              "      <th>Thriller</th>\n",
              "      <th>War</th>\n",
              "      <th>Western</th>\n",
              "    </tr>\n",
              "  </thead>\n",
              "  <tbody>\n",
              "    <tr>\n",
              "      <th>0</th>\n",
              "      <td>0</td>\n",
              "      <td>0</td>\n",
              "      <td>0</td>\n",
              "      <td>1</td>\n",
              "      <td>0</td>\n",
              "      <td>0</td>\n",
              "      <td>0</td>\n",
              "      <td>0</td>\n",
              "      <td>0</td>\n",
              "      <td>0</td>\n",
              "      <td>0</td>\n",
              "      <td>0</td>\n",
              "      <td>0</td>\n",
              "      <td>0</td>\n",
              "      <td>0</td>\n",
              "      <td>0</td>\n",
              "      <td>0</td>\n",
              "      <td>0</td>\n",
              "      <td>0</td>\n",
              "      <td>0</td>\n",
              "    </tr>\n",
              "    <tr>\n",
              "      <th>1</th>\n",
              "      <td>0</td>\n",
              "      <td>0</td>\n",
              "      <td>0</td>\n",
              "      <td>1</td>\n",
              "      <td>0</td>\n",
              "      <td>0</td>\n",
              "      <td>1</td>\n",
              "      <td>1</td>\n",
              "      <td>0</td>\n",
              "      <td>0</td>\n",
              "      <td>0</td>\n",
              "      <td>0</td>\n",
              "      <td>0</td>\n",
              "      <td>0</td>\n",
              "      <td>1</td>\n",
              "      <td>0</td>\n",
              "      <td>0</td>\n",
              "      <td>0</td>\n",
              "      <td>0</td>\n",
              "      <td>0</td>\n",
              "    </tr>\n",
              "    <tr>\n",
              "      <th>2</th>\n",
              "      <td>0</td>\n",
              "      <td>0</td>\n",
              "      <td>0</td>\n",
              "      <td>0</td>\n",
              "      <td>0</td>\n",
              "      <td>0</td>\n",
              "      <td>1</td>\n",
              "      <td>0</td>\n",
              "      <td>0</td>\n",
              "      <td>0</td>\n",
              "      <td>0</td>\n",
              "      <td>0</td>\n",
              "      <td>0</td>\n",
              "      <td>0</td>\n",
              "      <td>0</td>\n",
              "      <td>0</td>\n",
              "      <td>0</td>\n",
              "      <td>0</td>\n",
              "      <td>0</td>\n",
              "      <td>0</td>\n",
              "    </tr>\n",
              "    <tr>\n",
              "      <th>3</th>\n",
              "      <td>0</td>\n",
              "      <td>0</td>\n",
              "      <td>0</td>\n",
              "      <td>0</td>\n",
              "      <td>0</td>\n",
              "      <td>0</td>\n",
              "      <td>1</td>\n",
              "      <td>0</td>\n",
              "      <td>0</td>\n",
              "      <td>0</td>\n",
              "      <td>0</td>\n",
              "      <td>0</td>\n",
              "      <td>0</td>\n",
              "      <td>0</td>\n",
              "      <td>0</td>\n",
              "      <td>0</td>\n",
              "      <td>0</td>\n",
              "      <td>1</td>\n",
              "      <td>0</td>\n",
              "      <td>0</td>\n",
              "    </tr>\n",
              "    <tr>\n",
              "      <th>4</th>\n",
              "      <td>1</td>\n",
              "      <td>0</td>\n",
              "      <td>0</td>\n",
              "      <td>0</td>\n",
              "      <td>0</td>\n",
              "      <td>0</td>\n",
              "      <td>0</td>\n",
              "      <td>0</td>\n",
              "      <td>0</td>\n",
              "      <td>0</td>\n",
              "      <td>0</td>\n",
              "      <td>0</td>\n",
              "      <td>0</td>\n",
              "      <td>0</td>\n",
              "      <td>0</td>\n",
              "      <td>0</td>\n",
              "      <td>0</td>\n",
              "      <td>1</td>\n",
              "      <td>0</td>\n",
              "      <td>0</td>\n",
              "    </tr>\n",
              "  </tbody>\n",
              "</table>\n",
              "</div>"
            ],
            "text/plain": [
              "   Action  Adventure  Animation  Comedy  ...  TV Movie  Thriller  War  Western\n",
              "0       0          0          0       1  ...         0         0    0        0\n",
              "1       0          0          0       1  ...         0         0    0        0\n",
              "2       0          0          0       0  ...         0         0    0        0\n",
              "3       0          0          0       0  ...         0         1    0        0\n",
              "4       1          0          0       0  ...         0         1    0        0\n",
              "\n",
              "[5 rows x 20 columns]"
            ]
          },
          "metadata": {
            "tags": []
          },
          "execution_count": 12
        }
      ]
    },
    {
      "cell_type": "code",
      "metadata": {
        "id": "ObPBMJMun-oT"
      },
      "source": [
        "y = y_dummy.values"
      ],
      "execution_count": null,
      "outputs": []
    },
    {
      "cell_type": "code",
      "metadata": {
        "colab": {
          "base_uri": "https://localhost:8080/"
        },
        "id": "i3q4nSvtUivL",
        "outputId": "cd0054fb-c2e4-4133-b6ea-36cfd3f91f50"
      },
      "source": [
        "y.shape"
      ],
      "execution_count": null,
      "outputs": [
        {
          "output_type": "execute_result",
          "data": {
            "text/plain": [
              "(2990, 20)"
            ]
          },
          "metadata": {
            "tags": []
          },
          "execution_count": 14
        }
      ]
    },
    {
      "cell_type": "markdown",
      "metadata": {
        "id": "tYaStSKqoJXc"
      },
      "source": [
        "in this section, we will clean up the overview part of the input of our problem"
      ]
    },
    {
      "cell_type": "code",
      "metadata": {
        "id": "ShQh5nUzeIA3"
      },
      "source": [
        "def clean_text(text):\n",
        "    # remove backslash-apostrophe \n",
        "    text = re.sub(\"\\'\", \"\", text) \n",
        "    # remove everything except alphabets \n",
        "    text = re.sub(\"[^a-zA-Z]\",\" \",text) \n",
        "    # remove whitespaces \n",
        "    text = ' '.join(text.split()) \n",
        "    # convert text to lowercase \n",
        "    text = text.lower() \n",
        "    \n",
        "    return text\n",
        "\n",
        "\n",
        "\n",
        "def final_clean(text):\n",
        "      return gensim.utils.simple_preprocess (text)\n"
      ],
      "execution_count": null,
      "outputs": []
    },
    {
      "cell_type": "code",
      "metadata": {
        "id": "AQgCZXaOpsD8"
      },
      "source": [
        "X = reviews['overview']\n",
        "\n",
        "X = X.apply(lambda x: clean_text(x))\n",
        "\n",
        "X = X.apply(remove_stopwords)\n",
        "\n",
        "\n",
        "#X_w2v = X.apply(lambda x: final_clean(x))"
      ],
      "execution_count": null,
      "outputs": []
    },
    {
      "cell_type": "code",
      "metadata": {
        "colab": {
          "base_uri": "https://localhost:8080/"
        },
        "id": "vAbzvuWKiOZn",
        "outputId": "311ea489-ba49-4293-a887-96bb49fe8196"
      },
      "source": [
        "multilabel_binarizer = MultiLabelBinarizer()\n",
        "multilabel_binarizer.fit(reviews['genres'].str.split(',')) #THIS WILL BE USED FOR INVERSE TRANSFORM\n",
        "\n",
        "#multilabel_binarizer.inverse_transform(y)[3]"
      ],
      "execution_count": null,
      "outputs": [
        {
          "output_type": "execute_result",
          "data": {
            "text/plain": [
              "MultiLabelBinarizer(classes=None, sparse_output=False)"
            ]
          },
          "metadata": {
            "tags": []
          },
          "execution_count": 17
        }
      ]
    },
    {
      "cell_type": "code",
      "metadata": {
        "id": "3S1yB5NedoMD"
      },
      "source": [
        "xtrain, xtest, ytrain, ytest = train_test_split(X, y, test_size=0.33, random_state=9) #taking back around 1000 for test set"
      ],
      "execution_count": null,
      "outputs": []
    },
    {
      "cell_type": "code",
      "metadata": {
        "colab": {
          "base_uri": "https://localhost:8080/"
        },
        "id": "m4yxg3IAfKoI",
        "outputId": "8fcf9f5f-7492-4623-efea-28c18917c864"
      },
      "source": [
        "xtest.shape"
      ],
      "execution_count": null,
      "outputs": [
        {
          "output_type": "execute_result",
          "data": {
            "text/plain": [
              "(987,)"
            ]
          },
          "metadata": {
            "tags": []
          },
          "execution_count": 19
        }
      ]
    },
    {
      "cell_type": "code",
      "metadata": {
        "colab": {
          "base_uri": "https://localhost:8080/"
        },
        "id": "XgRM6XLekufX",
        "outputId": "0e32b01b-018b-49cd-bbfc-2936e255775d"
      },
      "source": [
        "print(\"**** Y TRAIN HEAD ****\\n\")\n",
        "print(*multilabel_binarizer.inverse_transform(ytrain)[0:20],sep='\\n')\n",
        "print(\"\\n\")\n",
        "print(f\"{(ytrain)[0:20]}\\n\\n\\n\\n\\n\")\n",
        "\n",
        "print(\"**** Y TEST HEAD ****\")\n",
        "print(*multilabel_binarizer.inverse_transform(ytest)[0:20],sep='\\n')\n",
        "print(\"\\n\")\n",
        "print((ytest)[0:20])"
      ],
      "execution_count": null,
      "outputs": [
        {
          "output_type": "stream",
          "text": [
            "**** Y TRAIN HEAD ****\n",
            "\n",
            "('Action', 'Thriller')\n",
            "('Action', 'Adventure', 'Fantasy')\n",
            "('Drama', 'Romance', 'Thriller')\n",
            "('Comedy', 'Romance')\n",
            "('Action',)\n",
            "('Action', 'Crime', 'Drama')\n",
            "('Animation', 'Comedy', 'Family')\n",
            "('Animation', 'Drama', 'Science Fiction')\n",
            "('Crime', 'Drama', 'Mystery')\n",
            "('Action', 'Crime', 'Thriller')\n",
            "('Comedy', 'Drama')\n",
            "('Comedy',)\n",
            "('Action', 'Comedy', 'Crime', 'Thriller')\n",
            "('Action', 'Comedy', 'Crime')\n",
            "('Action', 'Adventure', 'Horror')\n",
            "('Mystery', 'Thriller')\n",
            "('Action', 'Adventure', 'Science Fiction', 'Thriller')\n",
            "('Crime', 'Drama', 'Thriller')\n",
            "('Drama',)\n",
            "('Comedy', 'Music')\n",
            "\n",
            "\n",
            "[[1 0 0 0 0 0 0 0 0 0 0 0 0 0 0 0 0 1 0 0]\n",
            " [1 1 0 0 0 0 0 0 1 0 0 0 0 0 0 0 0 0 0 0]\n",
            " [0 0 0 0 0 0 1 0 0 0 0 0 0 0 1 0 0 1 0 0]\n",
            " [0 0 0 1 0 0 0 0 0 0 0 0 0 0 1 0 0 0 0 0]\n",
            " [1 0 0 0 0 0 0 0 0 0 0 0 0 0 0 0 0 0 0 0]\n",
            " [1 0 0 0 1 0 1 0 0 0 0 0 0 0 0 0 0 0 0 0]\n",
            " [0 0 1 1 0 0 0 1 0 0 0 0 0 0 0 0 0 0 0 0]\n",
            " [0 0 1 0 0 0 1 0 0 0 0 0 0 0 0 1 0 0 0 0]\n",
            " [0 0 0 0 1 0 1 0 0 0 0 0 0 1 0 0 0 0 0 0]\n",
            " [1 0 0 0 1 0 0 0 0 0 0 0 0 0 0 0 0 1 0 0]\n",
            " [0 0 0 1 0 0 1 0 0 0 0 0 0 0 0 0 0 0 0 0]\n",
            " [0 0 0 1 0 0 0 0 0 0 0 0 0 0 0 0 0 0 0 0]\n",
            " [1 0 0 1 1 0 0 0 0 0 0 0 0 0 0 0 0 1 0 0]\n",
            " [1 0 0 1 1 0 0 0 0 0 0 0 0 0 0 0 0 0 0 0]\n",
            " [1 1 0 0 0 0 0 0 0 0 0 1 0 0 0 0 0 0 0 0]\n",
            " [0 0 0 0 0 0 0 0 0 0 0 0 0 1 0 0 0 1 0 0]\n",
            " [1 1 0 0 0 0 0 0 0 0 0 0 0 0 0 1 0 1 0 0]\n",
            " [0 0 0 0 1 0 1 0 0 0 0 0 0 0 0 0 0 1 0 0]\n",
            " [0 0 0 0 0 0 1 0 0 0 0 0 0 0 0 0 0 0 0 0]\n",
            " [0 0 0 1 0 0 0 0 0 0 0 0 1 0 0 0 0 0 0 0]]\n",
            "\n",
            "\n",
            "\n",
            "\n",
            "\n",
            "**** Y TEST HEAD ****\n",
            "('Comedy', 'Music', 'Romance')\n",
            "('Horror', 'Thriller')\n",
            "('Science Fiction', 'Thriller')\n",
            "('Action', 'Drama', 'Thriller')\n",
            "('Action', 'Drama')\n",
            "('Horror',)\n",
            "('Fantasy', 'Music', 'Romance')\n",
            "('Comedy', 'Drama')\n",
            "('Action', 'Crime', 'Thriller')\n",
            "('Comedy', 'Drama')\n",
            "('Action', 'Adventure', 'Comedy')\n",
            "('Comedy',)\n",
            "('Drama', 'Music', 'Romance')\n",
            "('Adventure', 'Animation', 'Comedy', 'Family', 'Fantasy', 'Romance')\n",
            "('Adventure', 'Animation', 'Comedy', 'Family')\n",
            "('Action', 'Adventure', 'Crime')\n",
            "('Comedy', 'Drama', 'Foreign')\n",
            "('Horror', 'Mystery')\n",
            "('Drama', 'Science Fiction')\n",
            "('Drama',)\n",
            "\n",
            "\n",
            "[[0 0 0 1 0 0 0 0 0 0 0 0 1 0 1 0 0 0 0 0]\n",
            " [0 0 0 0 0 0 0 0 0 0 0 1 0 0 0 0 0 1 0 0]\n",
            " [0 0 0 0 0 0 0 0 0 0 0 0 0 0 0 1 0 1 0 0]\n",
            " [1 0 0 0 0 0 1 0 0 0 0 0 0 0 0 0 0 1 0 0]\n",
            " [1 0 0 0 0 0 1 0 0 0 0 0 0 0 0 0 0 0 0 0]\n",
            " [0 0 0 0 0 0 0 0 0 0 0 1 0 0 0 0 0 0 0 0]\n",
            " [0 0 0 0 0 0 0 0 1 0 0 0 1 0 1 0 0 0 0 0]\n",
            " [0 0 0 1 0 0 1 0 0 0 0 0 0 0 0 0 0 0 0 0]\n",
            " [1 0 0 0 1 0 0 0 0 0 0 0 0 0 0 0 0 1 0 0]\n",
            " [0 0 0 1 0 0 1 0 0 0 0 0 0 0 0 0 0 0 0 0]\n",
            " [1 1 0 1 0 0 0 0 0 0 0 0 0 0 0 0 0 0 0 0]\n",
            " [0 0 0 1 0 0 0 0 0 0 0 0 0 0 0 0 0 0 0 0]\n",
            " [0 0 0 0 0 0 1 0 0 0 0 0 1 0 1 0 0 0 0 0]\n",
            " [0 1 1 1 0 0 0 1 1 0 0 0 0 0 1 0 0 0 0 0]\n",
            " [0 1 1 1 0 0 0 1 0 0 0 0 0 0 0 0 0 0 0 0]\n",
            " [1 1 0 0 1 0 0 0 0 0 0 0 0 0 0 0 0 0 0 0]\n",
            " [0 0 0 1 0 0 1 0 0 1 0 0 0 0 0 0 0 0 0 0]\n",
            " [0 0 0 0 0 0 0 0 0 0 0 1 0 1 0 0 0 0 0 0]\n",
            " [0 0 0 0 0 0 1 0 0 0 0 0 0 0 0 1 0 0 0 0]\n",
            " [0 0 0 0 0 0 1 0 0 0 0 0 0 0 0 0 0 0 0 0]]\n"
          ],
          "name": "stdout"
        }
      ]
    },
    {
      "cell_type": "markdown",
      "metadata": {
        "id": "HVxqlCxLz27U"
      },
      "source": [
        "# **PART1 -- WORD2VEC**"
      ]
    },
    {
      "cell_type": "code",
      "metadata": {
        "id": "0gpJ_dG41Uvy"
      },
      "source": [
        "SIZE = 150\n",
        "WINDOW = 3"
      ],
      "execution_count": null,
      "outputs": []
    },
    {
      "cell_type": "code",
      "metadata": {
        "colab": {
          "base_uri": "https://localhost:8080/"
        },
        "id": "P35SKq2S1bZN",
        "outputId": "6f37a93c-525d-4b41-b60c-db0af5045af7"
      },
      "source": [
        "#note that since Word2Vec is considered an 'unsupervised' algorithm, so at \n",
        "#least during its training, it is not typical to hold back any 'test' data for\n",
        "#later evaluation.\n",
        "x_w2v = X.apply(lambda x: final_clean(x))\n",
        "w2v_model = gensim.models.Word2Vec (x_w2v, size=SIZE, window=WINDOW, min_count=2, workers=10)\n",
        "w2v_model.train(x_w2v,total_examples=len(x_w2v),epochs=55)\n",
        "\n",
        "\n"
      ],
      "execution_count": null,
      "outputs": [
        {
          "output_type": "execute_result",
          "data": {
            "text/plain": [
              "(4083650, 4605645)"
            ]
          },
          "metadata": {
            "tags": []
          },
          "execution_count": 361
        }
      ]
    },
    {
      "cell_type": "code",
      "metadata": {
        "colab": {
          "base_uri": "https://localhost:8080/"
        },
        "id": "JJwN7jcP1quo",
        "outputId": "862567e8-d393-4b1c-fff2-df1d24b22eec"
      },
      "source": [
        "w1 = \"love\"\n",
        "w2v_model.wv.most_similar (positive=w1)"
      ],
      "execution_count": null,
      "outputs": [
        {
          "output_type": "execute_result",
          "data": {
            "text/plain": [
              "[('torettos', 0.7451444268226624),\n",
              " ('leaf', 0.7378904223442078),\n",
              " ('founder', 0.7053175568580627),\n",
              " ('templar', 0.702527642250061),\n",
              " ('tree', 0.6809731721878052),\n",
              " ('exaggerated', 0.6691275835037231),\n",
              " ('dorinda', 0.6527177691459656),\n",
              " ('polly', 0.6369556188583374),\n",
              " ('taciturn', 0.6227474808692932),\n",
              " ('choose', 0.6216972470283508)]"
            ]
          },
          "metadata": {
            "tags": []
          },
          "execution_count": 365
        }
      ]
    },
    {
      "cell_type": "markdown",
      "metadata": {
        "id": "dbXjvBrTFHql"
      },
      "source": [
        "below, we find the feature values for each document by summing over the word features then dividing by the number of words"
      ]
    },
    {
      "cell_type": "code",
      "metadata": {
        "colab": {
          "base_uri": "https://localhost:8080/"
        },
        "id": "8W1ZQq4y4zYt",
        "outputId": "fe239730-1022-4bbf-9451-cda5d4729c4f"
      },
      "source": [
        "x_vec_w2v = np.zeros((len(x_w2v), SIZE))\n",
        "\n",
        "for idx, paragraph in enumerate(x_w2v): \n",
        "  ln = len(paragraph)\n",
        "  arr = np.zeros(SIZE)\n",
        "  for word in paragraph:\n",
        "    try:\n",
        "      arr = w2v_model[word] + arr\n",
        "  \n",
        "    except KeyError:\n",
        "      ln -= 1\n",
        "  arr = arr/ln \n",
        "  x_vec_w2v[idx,:] = arr"
      ],
      "execution_count": null,
      "outputs": [
        {
          "output_type": "stream",
          "text": [
            "/usr/local/lib/python3.7/dist-packages/ipykernel_launcher.py:8: DeprecationWarning: Call to deprecated `__getitem__` (Method will be removed in 4.0.0, use self.wv.__getitem__() instead).\n",
            "  \n"
          ],
          "name": "stderr"
        }
      ]
    },
    {
      "cell_type": "code",
      "metadata": {
        "colab": {
          "base_uri": "https://localhost:8080/"
        },
        "id": "_DJQx8dr77z8",
        "outputId": "926c5e2a-0264-46a2-c400-9f5a88eec739"
      },
      "source": [
        "x_vec_w2v"
      ],
      "execution_count": null,
      "outputs": [
        {
          "output_type": "execute_result",
          "data": {
            "text/plain": [
              "array([[ 0.05800364, -0.03140321, -0.1998809 , ...,  0.05470591,\n",
              "         0.08343219,  0.49418802],\n",
              "       [ 0.00314349,  0.01668595, -0.10400377, ...,  0.04114581,\n",
              "         0.20812127, -0.00412883],\n",
              "       [-0.05068643,  0.16530979,  0.00374808, ..., -0.16075336,\n",
              "         0.23582668,  0.28445294],\n",
              "       ...,\n",
              "       [-0.01495533, -0.04183563, -0.18226051, ...,  0.04692973,\n",
              "         0.00974094,  0.32590705],\n",
              "       [ 0.02568868,  0.32337885,  0.09206083, ..., -0.02308177,\n",
              "         0.09237949,  0.15971299],\n",
              "       [ 0.11649279,  0.48245843, -0.17487718, ..., -0.27471262,\n",
              "         0.11777654,  0.09803389]])"
            ]
          },
          "metadata": {
            "tags": []
          },
          "execution_count": 367
        }
      ]
    },
    {
      "cell_type": "code",
      "metadata": {
        "id": "a0bK_b9JEM4V"
      },
      "source": [
        "xtrain_w2v, xtest_w2v, ytrain_w2v, ytest_w2v = train_test_split(x_vec_w2v, y, test_size=0.33, random_state=9) #now do splitting for classification\n",
        "                                #note that since parameters same as split above, the y's will be the same as before (ytrain_w2v == ytrain)"
      ],
      "execution_count": null,
      "outputs": []
    },
    {
      "cell_type": "markdown",
      "metadata": {
        "id": "9oXo3XSt5m3z"
      },
      "source": [
        "**LOGISTIC REGRESSION WITH 1VSALL**"
      ]
    },
    {
      "cell_type": "code",
      "metadata": {
        "colab": {
          "base_uri": "https://localhost:8080/"
        },
        "id": "Jsn6lmT25sV1",
        "outputId": "1ad7f48b-e851-42e4-d9a7-d0f4a0aaf622"
      },
      "source": [
        "lr = LogisticRegression()\n",
        "clf = OneVsRestClassifier(lr)\n",
        "clf.fit(xtrain_w2v, ytrain_w2v)"
      ],
      "execution_count": null,
      "outputs": [
        {
          "output_type": "execute_result",
          "data": {
            "text/plain": [
              "OneVsRestClassifier(estimator=LogisticRegression(C=1.0, class_weight=None,\n",
              "                                                 dual=False, fit_intercept=True,\n",
              "                                                 intercept_scaling=1,\n",
              "                                                 l1_ratio=None, max_iter=100,\n",
              "                                                 multi_class='auto',\n",
              "                                                 n_jobs=None, penalty='l2',\n",
              "                                                 random_state=None,\n",
              "                                                 solver='lbfgs', tol=0.0001,\n",
              "                                                 verbose=0, warm_start=False),\n",
              "                    n_jobs=None)"
            ]
          },
          "metadata": {
            "tags": []
          },
          "execution_count": 369
        }
      ]
    },
    {
      "cell_type": "code",
      "metadata": {
        "id": "lMI7eaxs7I7J"
      },
      "source": [
        "y_pred_prob_trn = clf.predict_proba(xtrain_w2v)\n",
        "y_pred_prob_tst = clf.predict_proba(xtest_w2v)\n",
        "\n",
        "t = 0.25752 # threshold value\n",
        "y_pred_lr_trn = (y_pred_prob_trn >= t).astype(int)\n",
        "y_pred_lr_tst = (y_pred_prob_tst >= t).astype(int)\n"
      ],
      "execution_count": null,
      "outputs": []
    },
    {
      "cell_type": "code",
      "metadata": {
        "colab": {
          "base_uri": "https://localhost:8080/"
        },
        "id": "UgyOvRoOG6Hn",
        "outputId": "5dddc595-6e84-421f-85d2-f26c2a210bd2"
      },
      "source": [
        "nm = 3\n",
        "print(f\"Real value: {multilabel_binarizer.inverse_transform(ytest_w2v)[nm]}\")\n",
        "print(f\"predicted value: {multilabel_binarizer.inverse_transform(y_pred_lr_tst)[nm]}\")"
      ],
      "execution_count": null,
      "outputs": [
        {
          "output_type": "stream",
          "text": [
            "Real value: ('Action', 'Drama', 'Thriller')\n",
            "predicted value: ('Action', 'Adventure', 'Drama', 'Thriller')\n"
          ],
          "name": "stdout"
        }
      ]
    },
    {
      "cell_type": "code",
      "metadata": {
        "colab": {
          "base_uri": "https://localhost:8080/"
        },
        "id": "DfO1y7V1_lNg",
        "outputId": "d2b71384-6e5c-43e2-d091-011977d58973"
      },
      "source": [
        "print(\"*** LOGISTIC REGRESSION CLASSIFIER RESULTS ***\")\n",
        "print(f\"train set f-score: {f1_score(ytrain, y_pred_lr_trn, average='micro')}\")\n",
        "print(f\"test set f-score: {f1_score(ytest, y_pred_lr_tst, average='micro')}\")\n"
      ],
      "execution_count": null,
      "outputs": [
        {
          "output_type": "stream",
          "text": [
            "*** LOGISTIC REGRESSION CLASSIFIER RESULTS ***\n",
            "train set f-score: 0.5685043433387804\n",
            "test set f-score: 0.5430136018371312\n"
          ],
          "name": "stdout"
        }
      ]
    },
    {
      "cell_type": "markdown",
      "metadata": {
        "id": "V0L-ll-lI_Mn"
      },
      "source": [
        "**NEURAL NETWORK**"
      ]
    },
    {
      "cell_type": "code",
      "metadata": {
        "id": "aeHdpbiliJW9"
      },
      "source": [
        "NUM_HIDDEN_LAYERS = 1\n",
        "LAYER_SIZE = 145"
      ],
      "execution_count": null,
      "outputs": []
    },
    {
      "cell_type": "code",
      "metadata": {
        "id": "2dLzcXy65aH9"
      },
      "source": [
        "def get_model(n_inputs, n_outputs):\n",
        "  model = Sequential()\n",
        "  model.add(Dropout(0.2,input_dim=n_inputs))\n",
        "  model.add(Dense(LAYER_SIZE, kernel_initializer='he_uniform', activation='tanh'))\n",
        "  for _ in range (NUM_HIDDEN_LAYERS-1):\n",
        "    model.add(Dense(int(LAYER_SIZE), kernel_initializer='he_uniform', activation='tanh'))\n",
        "  model.add(Dense(n_outputs, activation='sigmoid'))\n",
        "  model.compile(loss='binary_crossentropy', optimizer='adam',metrics='accuracy')\n",
        "  return model\n",
        " \n",
        "\n",
        "x_train, y_train = xtrain_w2v, ytrain_w2v\n",
        "n_inputs, n_outputs = x_train.shape[1], y_train.shape[1]\n",
        "\n",
        "model = get_model(n_inputs, n_outputs)\n",
        "history = model.fit(x_train, y_train, verbose=0, epochs=200, validation_split=0.1)\n"
      ],
      "execution_count": null,
      "outputs": []
    },
    {
      "cell_type": "code",
      "metadata": {
        "colab": {
          "base_uri": "https://localhost:8080/",
          "height": 279
        },
        "id": "oGVhh7T6w9Is",
        "outputId": "a5daf170-2070-4c70-b152-c52c07174431"
      },
      "source": [
        "loss_values = history.history['loss']\n",
        "vlloss_values = history.history['val_loss']\n",
        "epochs = range(1, len(loss_values)+1)\n",
        "\n",
        "plt.plot(epochs, loss_values, label='Training Loss')\n",
        "plt.plot(vlloss_values, label='Validation Loss')\n",
        "plt.xlabel('Epochs')\n",
        "plt.ylabel('Loss')\n",
        "plt.legend()\n",
        "\n",
        "plt.show()"
      ],
      "execution_count": null,
      "outputs": [
        {
          "output_type": "display_data",
          "data": {
            "image/png": "[encoded data removed]",
            "text/plain": [
              "<Figure size 432x288 with 1 Axes>"
            ]
          },
          "metadata": {
            "tags": [],
            "needs_background": "light"
          }
        }
      ]
    },
    {
      "cell_type": "code",
      "metadata": {
        "colab": {
          "base_uri": "https://localhost:8080/"
        },
        "id": "ya-CeZTKzfVx",
        "outputId": "7ec4b7db-0261-4208-c66a-dd8b53de517e"
      },
      "source": [
        "model = get_model(n_inputs, n_outputs)\n",
        "model.fit(x_train, y_train, verbose=0, epochs=50)"
      ],
      "execution_count": null,
      "outputs": [
        {
          "output_type": "execute_result",
          "data": {
            "text/plain": [
              "<keras.callbacks.History at 0x7fbe3c7880d0>"
            ]
          },
          "metadata": {
            "tags": []
          },
          "execution_count": 388
        }
      ]
    },
    {
      "cell_type": "code",
      "metadata": {
        "colab": {
          "base_uri": "https://localhost:8080/"
        },
        "id": "NzgnTluuGMeo",
        "outputId": "d2144c3a-ba86-4136-9cb6-76cd50ea0224"
      },
      "source": [
        "'''finding best threshold for the NN result'''\n",
        "thresh =0.0\n",
        "for _ in range (10):\n",
        "  nn_y_pred = model.predict(xtest_w2v) \n",
        "  nn_y_pred = (nn_y_pred> thresh).astype(int)\n",
        "  print(f\"threshold: {thresh} --- score: {f1_score(ytest, nn_y_pred, average='micro')}\")\n",
        "  thresh += 0.05"
      ],
      "execution_count": null,
      "outputs": [
        {
          "output_type": "stream",
          "text": [
            "threshold: 0.0 --- score: 0.22057961869563256\n",
            "threshold: 0.05 --- score: 0.39381372040781054\n",
            "threshold: 0.1 --- score: 0.47076256696683005\n",
            "threshold: 0.15000000000000002 --- score: 0.513250405624662\n",
            "threshold: 0.2 --- score: 0.5372348660783403\n",
            "threshold: 0.25 --- score: 0.5440360610263523\n",
            "threshold: 0.3 --- score: 0.5437079731027857\n",
            "threshold: 0.35 --- score: 0.5273258239466\n",
            "threshold: 0.39999999999999997 --- score: 0.5043240782885753\n",
            "threshold: 0.44999999999999996 --- score: 0.47012345679012346\n"
          ],
          "name": "stdout"
        }
      ]
    },
    {
      "cell_type": "markdown",
      "metadata": {
        "id": "SrTl-qSmGl40"
      },
      "source": [
        "we see that around 0.25 show the best threshold"
      ]
    },
    {
      "cell_type": "code",
      "metadata": {
        "id": "uXbS8GKLKS-1"
      },
      "source": [
        "nn_y_pred_trn = model.predict(xtrain_w2v)\n",
        "nn_y_pred_tst = model.predict(xtest_w2v)\n",
        "\n",
        "THRESHOLD = 0.25\n",
        "nn_y_pred_trn = (nn_y_pred_trn >= THRESHOLD).astype(int)\n",
        "nn_y_pred_tst = (nn_y_pred_tst >= THRESHOLD).astype(int)"
      ],
      "execution_count": null,
      "outputs": []
    },
    {
      "cell_type": "code",
      "metadata": {
        "colab": {
          "base_uri": "https://localhost:8080/"
        },
        "id": "m0tON4c6KdMg",
        "outputId": "6ae5b17b-57b9-4b32-ade6-a61381687f0e"
      },
      "source": [
        "print(\"*** NUERAL NET CLASSIFIER ***\")\n",
        "print(f\"training set f-score: {f1_score(ytrain_w2v, nn_y_pred_trn, average='micro')}\")\n",
        "print(f\"test set f-score: {f1_score(ytest_w2v, nn_y_pred_tst, average='micro')}\")"
      ],
      "execution_count": null,
      "outputs": [
        {
          "output_type": "stream",
          "text": [
            "*** NUERAL NET CLASSIFIER ***\n",
            "training set f-score: 0.5814858690133695\n",
            "test set f-score: 0.5440360610263523\n"
          ],
          "name": "stdout"
        }
      ]
    },
    {
      "cell_type": "markdown",
      "metadata": {
        "id": "QKgN2ezVz1WH"
      },
      "source": [
        "# **PART 2 -- TFIDF**"
      ]
    },
    {
      "cell_type": "code",
      "metadata": {
        "id": "BBuaoosxeMN6"
      },
      "source": [
        "tfidf_vectorizer = TfidfVectorizer(max_df=0.8, max_features=10000)"
      ],
      "execution_count": null,
      "outputs": []
    },
    {
      "cell_type": "code",
      "metadata": {
        "id": "hjL2hJdeMkxp"
      },
      "source": [
        "# create TF-IDF features\n",
        "xtrain_tfidf = tfidf_vectorizer.fit_transform(xtrain)\n",
        "xtest_tfidf = tfidf_vectorizer.transform(xtest)\n",
        "\n",
        "csr_matrix.sort_indices(xtrain_tfidf)\n",
        "csr_matrix.sort_indices(xtest_tfidf)"
      ],
      "execution_count": null,
      "outputs": []
    },
    {
      "cell_type": "markdown",
      "metadata": {
        "id": "73wmiGPXub76"
      },
      "source": [
        "**LOGISTIC REGRESSION WITH 1VSALL**"
      ]
    },
    {
      "cell_type": "code",
      "metadata": {
        "colab": {
          "base_uri": "https://localhost:8080/"
        },
        "id": "auui92l0vJ4e",
        "outputId": "faca6521-fb53-4882-ea75-720ebfbbb36c"
      },
      "source": [
        "lr = LogisticRegression()\n",
        "clf = OneVsRestClassifier(lr)\n",
        "clf.fit(xtrain_tfidf, ytrain)"
      ],
      "execution_count": null,
      "outputs": [
        {
          "output_type": "execute_result",
          "data": {
            "text/plain": [
              "OneVsRestClassifier(estimator=LogisticRegression(C=1.0, class_weight=None,\n",
              "                                                 dual=False, fit_intercept=True,\n",
              "                                                 intercept_scaling=1,\n",
              "                                                 l1_ratio=None, max_iter=100,\n",
              "                                                 multi_class='auto',\n",
              "                                                 n_jobs=None, penalty='l2',\n",
              "                                                 random_state=None,\n",
              "                                                 solver='lbfgs', tol=0.0001,\n",
              "                                                 verbose=0, warm_start=False),\n",
              "                    n_jobs=None)"
            ]
          },
          "metadata": {
            "tags": []
          },
          "execution_count": 254
        }
      ]
    },
    {
      "cell_type": "code",
      "metadata": {
        "id": "x308ZQSvwLZW"
      },
      "source": [
        "y_pred_prob_trn = clf.predict_proba(xtrain_tfidf)\n",
        "y_pred_prob_tst = clf.predict_proba(xtest_tfidf)\n",
        "\n",
        "t = 0.225 # threshold value\n",
        "y_pred_lr_trn = (y_pred_prob_trn >= t).astype(int)\n",
        "y_pred_lr_tst = (y_pred_prob_tst >= t).astype(int)"
      ],
      "execution_count": null,
      "outputs": []
    },
    {
      "cell_type": "code",
      "metadata": {
        "colab": {
          "base_uri": "https://localhost:8080/"
        },
        "id": "OLHGEQt5vxdo",
        "outputId": "e53cd93e-9f16-4439-c296-27a5fd88013a"
      },
      "source": [
        "nm = 3\n",
        "print(f\"Real value: {multilabel_binarizer.inverse_transform(ytest)[nm]}\")\n",
        "print(f\"predicted value: {multilabel_binarizer.inverse_transform(y_pred_lr_tst)[nm]}\")"
      ],
      "execution_count": null,
      "outputs": [
        {
          "output_type": "stream",
          "text": [
            "Real value: ('Action', 'Drama', 'Thriller')\n",
            "predicted value: ('Action', 'Drama', 'Thriller')\n"
          ],
          "name": "stdout"
        }
      ]
    },
    {
      "cell_type": "code",
      "metadata": {
        "colab": {
          "base_uri": "https://localhost:8080/"
        },
        "id": "AU9h-0jfxQ4N",
        "outputId": "cc20bc9b-27b5-4348-e37a-b0ee7ef6c3ee"
      },
      "source": [
        "print(\"*** LOGISTIC REGRESSION CLASSIFIER RESULTS ***\")\n",
        "print(f\"training set f-score:{f1_score(ytrain, y_pred_lr_trn, average='micro')}\")\n",
        "print(f\"test set f-score: {f1_score(ytest, y_pred_lr_tst, average='micro')}\")\n"
      ],
      "execution_count": null,
      "outputs": [
        {
          "output_type": "stream",
          "text": [
            "*** LOGISTIC REGRESSION CLASSIFIER RESULTS ***\n",
            "training set f-score:0.6859895217170864\n",
            "test set f-score: 0.5350495738389285\n"
          ],
          "name": "stdout"
        }
      ]
    },
    {
      "cell_type": "markdown",
      "metadata": {
        "id": "R4f4k8Vamk5I"
      },
      "source": [
        "There appears to be a tradeoff betweeen between the threshold val and the training set & test set. IE: training set score goes up, test set score goes down"
      ]
    },
    {
      "cell_type": "markdown",
      "metadata": {
        "id": "N06oM_DSulTI"
      },
      "source": [
        "**NEURAL NETWORK**"
      ]
    },
    {
      "cell_type": "code",
      "metadata": {
        "id": "FYUA5tGJqaDl"
      },
      "source": [
        "NUM_HIDDEN_LAYERS = 1\n",
        "LAYER_SIZE = 145"
      ],
      "execution_count": null,
      "outputs": []
    },
    {
      "cell_type": "code",
      "metadata": {
        "id": "xv5QD5p_NNfL"
      },
      "source": [
        "def get_model(n_inputs, n_outputs):\n",
        "  model = Sequential()\n",
        "  model.add(Dropout(0.2,input_dim=n_inputs))\n",
        "  model.add(Dense(LAYER_SIZE, kernel_initializer='he_uniform', activation='tanh'))\n",
        "  for _ in range (NUM_HIDDEN_LAYERS-1):\n",
        "    model.add(Dense(int(LAYER_SIZE), kernel_initializer='he_uniform', activation='tanh'))\n",
        "  model.add(Dense(n_outputs, activation='sigmoid'))\n",
        "  model.compile(loss='binary_crossentropy', optimizer='adam',metrics='accuracy')\n",
        "  return model\n",
        " \n",
        "\n",
        "x_train, y_train = xtrain_tfidf.toarray(), ytrain\n",
        "n_inputs, n_outputs = x_train.shape[1], y_train.shape[1]\n",
        "\n",
        "model = get_model(n_inputs, n_outputs)\n",
        "history= model.fit(x_train, y_train, verbose=0, epochs=50,validation_split = 0.1)"
      ],
      "execution_count": null,
      "outputs": []
    },
    {
      "cell_type": "code",
      "metadata": {
        "colab": {
          "base_uri": "https://localhost:8080/",
          "height": 279
        },
        "id": "Vm90EYBA20RG",
        "outputId": "db6cbcb0-de09-4735-8cfc-05104cca550d"
      },
      "source": [
        "loss_values = history.history['loss']\n",
        "vlloss_values = history.history['val_loss']\n",
        "epochs = range(1, len(loss_values)+1)\n",
        "\n",
        "plt.plot(epochs, loss_values, label='Training Loss')\n",
        "plt.plot(vlloss_values, label='Validation Loss')\n",
        "plt.xlabel('Epochs')\n",
        "plt.ylabel('Loss')\n",
        "plt.legend()\n",
        "\n",
        "plt.show()"
      ],
      "execution_count": null,
      "outputs": [
        {
          "output_type": "display_data",
          "data": {
            "image/png": "[encoded data removed]",
            "text/plain": [
              "<Figure size 432x288 with 1 Axes>"
            ]
          },
          "metadata": {
            "tags": [],
            "needs_background": "light"
          }
        }
      ]
    },
    {
      "cell_type": "markdown",
      "metadata": {
        "id": "oEfyp04x5M6U"
      },
      "source": [
        "the above plot shows that we have to early stop on around 9 epochs to get best result"
      ]
    },
    {
      "cell_type": "code",
      "metadata": {
        "colab": {
          "base_uri": "https://localhost:8080/"
        },
        "id": "j7Vfo0pd5aEn",
        "outputId": "5bea1d3c-129c-405f-bbd9-bec3f279eb50"
      },
      "source": [
        "model = get_model(n_inputs, n_outputs)\n",
        "model.fit(x_train, y_train, verbose=0, epochs=9)"
      ],
      "execution_count": null,
      "outputs": [
        {
          "output_type": "execute_result",
          "data": {
            "text/plain": [
              "<keras.callbacks.History at 0x7fbe286da7d0>"
            ]
          },
          "metadata": {
            "tags": []
          },
          "execution_count": 210
        }
      ]
    },
    {
      "cell_type": "code",
      "metadata": {
        "colab": {
          "base_uri": "https://localhost:8080/"
        },
        "id": "-kN7FBEg8vXU",
        "outputId": "71416243-79d7-4b73-c9a7-d6ea3696987e"
      },
      "source": [
        "'''finding best threshold for the NN result'''\n",
        "thresh =0.0\n",
        "for _ in range (10):\n",
        "  nn_y_pred = model.predict(xtest_tfidf) \n",
        "  nn_y_pred = (nn_y_pred> thresh).astype(int)\n",
        "  print(f\"threshold: {thresh} --- score: {f1_score(ytest, nn_y_pred, average='micro')}\")\n",
        "  thresh += 0.05"
      ],
      "execution_count": null,
      "outputs": [
        {
          "output_type": "stream",
          "text": [
            "threshold: 0.0 --- score: 0.22057961869563256\n",
            "threshold: 0.05 --- score: 0.4095744680851064\n",
            "threshold: 0.1 --- score: 0.5164649225562932\n",
            "threshold: 0.15000000000000002 --- score: 0.555397051830718\n",
            "threshold: 0.2 --- score: 0.5709104098657962\n",
            "threshold: 0.25 --- score: 0.5616218386190286\n",
            "threshold: 0.3 --- score: 0.5497485239448939\n",
            "threshold: 0.35 --- score: 0.5227863046044864\n",
            "threshold: 0.39999999999999997 --- score: 0.4854961832061068\n",
            "threshold: 0.44999999999999996 --- score: 0.449244060475162\n"
          ],
          "name": "stdout"
        }
      ]
    },
    {
      "cell_type": "markdown",
      "metadata": {
        "id": "94MJDWHdCZsm"
      },
      "source": [
        "0.2 seems to be giving the best value!"
      ]
    },
    {
      "cell_type": "code",
      "metadata": {
        "id": "KCYrQAyqNt_m"
      },
      "source": [
        "nn_y_pred_trn = model.predict(xtrain_tfidf)\n",
        "nn_y_pred_tst = model.predict(xtest_tfidf)\n",
        "\n",
        "THRESHOLD = 0.2\n",
        "nn_y_pred_trn = (nn_y_pred_trn >= THRESHOLD).astype(int)\n",
        "nn_y_pred_tst = (nn_y_pred_tst >= THRESHOLD).astype(int)"
      ],
      "execution_count": null,
      "outputs": []
    },
    {
      "cell_type": "code",
      "metadata": {
        "colab": {
          "base_uri": "https://localhost:8080/"
        },
        "id": "rQLbWUg6oEsW",
        "outputId": "a9237574-431c-46b9-b337-b9894da01311"
      },
      "source": [
        "print(\"*** NUERAL NET CLASSIFIER ***\")\n",
        "print(f\"training set f-score: {f1_score(ytrain, nn_y_pred_trn, average='micro')}\")\n",
        "print(f\"test set f-score: {f1_score(ytest, nn_y_pred_tst, average='micro')}\")\n"
      ],
      "execution_count": null,
      "outputs": [
        {
          "output_type": "stream",
          "text": [
            "*** NUERAL NET CLASSIFIER ***\n",
            "training set f-score: 0.8489420742282345\n",
            "test set f-score: 0.5709104098657962\n"
          ],
          "name": "stdout"
        }
      ]
    },
    {
      "cell_type": "markdown",
      "metadata": {
        "id": "EwaMdwpItxUn"
      },
      "source": [
        "---------------"
      ]
    },
    {
      "cell_type": "markdown",
      "metadata": {
        "id": "EXsFHq6U5IpL"
      },
      "source": [
        "# **PART 3 -- Combining TF-IDF and W2V to get better results!**"
      ]
    },
    {
      "cell_type": "code",
      "metadata": {
        "id": "XvCAKD6N7DEM"
      },
      "source": [
        ""
      ],
      "execution_count": null,
      "outputs": []
    },
    {
      "cell_type": "code",
      "metadata": {
        "colab": {
          "base_uri": "https://localhost:8080/",
          "height": 1000
        },
        "id": "sbvYt_MmC1k8",
        "outputId": "c88ffa99-7b3c-4743-867e-49b8bff2e29a"
      },
      "source": [
        ""
      ],
      "execution_count": null,
      "outputs": [
        {
          "output_type": "stream",
          "text": [
            "Exception in thread Thread-5156:\n",
            "Traceback (most recent call last):\n",
            "  File \"/usr/lib/python3.7/threading.py\", line 926, in _bootstrap_inner\n",
            "    self.run()\n",
            "  File \"/usr/lib/python3.7/threading.py\", line 870, in run\n",
            "    self._target(*self._args, **self._kwargs)\n",
            "  File \"/usr/local/lib/python3.7/dist-packages/gensim/models/base_any2vec.py\", line 211, in _worker_loop\n",
            "    tally, raw_tally = self._do_train_job(data_iterable, job_parameters, thread_private_mem)\n",
            "  File \"/usr/local/lib/python3.7/dist-packages/gensim/models/fasttext.py\", line 595, in _do_train_job\n",
            "    tally += train_batch_cbow(self, sentences, alpha, work, neu1)\n",
            "  File \"gensim/models/fasttext_inner.pyx\", line 431, in gensim.models.fasttext_inner.train_batch_cbow\n",
            "TypeError: 'NoneType' object is not subscriptable\n",
            "Exception in thread Thread-5157:\n",
            "Traceback (most recent call last):\n",
            "  File \"/usr/lib/python3.7/threading.py\", line 926, in _bootstrap_inner\n",
            "    self.run()\n",
            "  File \"/usr/lib/python3.7/threading.py\", line 870, in run\n",
            "    self._target(*self._args, **self._kwargs)\n",
            "  File \"/usr/local/lib/python3.7/dist-packages/gensim/models/base_any2vec.py\", line 211, in _worker_loop\n",
            "    tally, raw_tally = self._do_train_job(data_iterable, job_parameters, thread_private_mem)\n",
            "  File \"/usr/local/lib/python3.7/dist-packages/gensim/models/fasttext.py\", line 595, in _do_train_job\n",
            "    tally += train_batch_cbow(self, sentences, alpha, work, neu1)\n",
            "  File \"gensim/models/fasttext_inner.pyx\", line 431, in gensim.models.fasttext_inner.train_batch_cbow\n",
            "TypeError: 'NoneType' object is not subscriptable\n",
            "\n",
            "\n",
            "Exception in thread Thread-5158:\n",
            "Traceback (most recent call last):\n",
            "  File \"/usr/lib/python3.7/threading.py\", line 926, in _bootstrap_inner\n",
            "    self.run()\n",
            "  File \"/usr/lib/python3.7/threading.py\", line 870, in run\n",
            "    self._target(*self._args, **self._kwargs)\n",
            "  File \"/usr/local/lib/python3.7/dist-packages/gensim/models/base_any2vec.py\", line 211, in _worker_loop\n",
            "    tally, raw_tally = self._do_train_job(data_iterable, job_parameters, thread_private_mem)\n",
            "  File \"/usr/local/lib/python3.7/dist-packages/gensim/models/fasttext.py\", line 595, in _do_train_job\n",
            "    tally += train_batch_cbow(self, sentences, alpha, work, neu1)\n",
            "  File \"gensim/models/fasttext_inner.pyx\", line 431, in gensim.models.fasttext_inner.train_batch_cbow\n",
            "TypeError: 'NoneType' object is not subscriptable\n",
            "\n"
          ],
          "name": "stderr"
        },
        {
          "output_type": "error",
          "ename": "KeyboardInterrupt",
          "evalue": "ignored",
          "traceback": [
            "\u001b[0;31m---------------------------------------------------------------------------\u001b[0m",
            "\u001b[0;31mKeyboardInterrupt\u001b[0m                         Traceback (most recent call last)",
            "\u001b[0;32m<ipython-input-396-c3930d8bc438>\u001b[0m in \u001b[0;36m<module>\u001b[0;34m()\u001b[0m\n\u001b[1;32m      1\u001b[0m \u001b[0mx_ft\u001b[0m \u001b[0;34m=\u001b[0m \u001b[0mX\u001b[0m\u001b[0;34m.\u001b[0m\u001b[0mapply\u001b[0m\u001b[0;34m(\u001b[0m\u001b[0;32mlambda\u001b[0m \u001b[0mx\u001b[0m\u001b[0;34m:\u001b[0m \u001b[0mfinal_clean\u001b[0m\u001b[0;34m(\u001b[0m\u001b[0mx\u001b[0m\u001b[0;34m)\u001b[0m\u001b[0;34m)\u001b[0m\u001b[0;34m\u001b[0m\u001b[0;34m\u001b[0m\u001b[0m\n\u001b[1;32m      2\u001b[0m \u001b[0mft_model\u001b[0m \u001b[0;34m=\u001b[0m \u001b[0mgensim\u001b[0m\u001b[0;34m.\u001b[0m\u001b[0mmodels\u001b[0m\u001b[0;34m.\u001b[0m\u001b[0mFastText\u001b[0m\u001b[0;34m(\u001b[0m\u001b[0mx_ft\u001b[0m\u001b[0;34m,\u001b[0m \u001b[0msize\u001b[0m\u001b[0;34m=\u001b[0m\u001b[0mSIZE\u001b[0m\u001b[0;34m,\u001b[0m \u001b[0mwindow\u001b[0m\u001b[0;34m=\u001b[0m\u001b[0mWINDOW\u001b[0m\u001b[0;34m,\u001b[0m \u001b[0mmin_count\u001b[0m\u001b[0;34m=\u001b[0m\u001b[0;36m1\u001b[0m\u001b[0;34m,\u001b[0m \u001b[0miter\u001b[0m\u001b[0;34m=\u001b[0m\u001b[0;36m10\u001b[0m\u001b[0;34m,\u001b[0m \u001b[0msorted_vocab\u001b[0m\u001b[0;34m=\u001b[0m\u001b[0;36m1\u001b[0m\u001b[0;34m)\u001b[0m\u001b[0;34m\u001b[0m\u001b[0;34m\u001b[0m\u001b[0m\n\u001b[0;32m----> 3\u001b[0;31m \u001b[0mft_model\u001b[0m\u001b[0;34m.\u001b[0m\u001b[0mtrain\u001b[0m\u001b[0;34m(\u001b[0m\u001b[0mx_ft\u001b[0m\u001b[0;34m,\u001b[0m\u001b[0mtotal_examples\u001b[0m\u001b[0;34m=\u001b[0m\u001b[0mlen\u001b[0m\u001b[0;34m(\u001b[0m\u001b[0mx_ft\u001b[0m\u001b[0;34m)\u001b[0m\u001b[0;34m,\u001b[0m\u001b[0mepochs\u001b[0m\u001b[0;34m=\u001b[0m\u001b[0;36m55\u001b[0m\u001b[0;34m)\u001b[0m\u001b[0;34m\u001b[0m\u001b[0;34m\u001b[0m\u001b[0m\n\u001b[0m",
            "\u001b[0;32m/usr/local/lib/python3.7/dist-packages/gensim/models/fasttext.py\u001b[0m in \u001b[0;36mtrain\u001b[0;34m(self, sentences, corpus_file, total_examples, total_words, epochs, start_alpha, end_alpha, word_count, queue_factor, report_delay, callbacks, **kwargs)\u001b[0m\n\u001b[1;32m    664\u001b[0m             \u001b[0msentences\u001b[0m\u001b[0;34m=\u001b[0m\u001b[0msentences\u001b[0m\u001b[0;34m,\u001b[0m \u001b[0mcorpus_file\u001b[0m\u001b[0;34m=\u001b[0m\u001b[0mcorpus_file\u001b[0m\u001b[0;34m,\u001b[0m \u001b[0mtotal_examples\u001b[0m\u001b[0;34m=\u001b[0m\u001b[0mtotal_examples\u001b[0m\u001b[0;34m,\u001b[0m \u001b[0mtotal_words\u001b[0m\u001b[0;34m=\u001b[0m\u001b[0mtotal_words\u001b[0m\u001b[0;34m,\u001b[0m\u001b[0;34m\u001b[0m\u001b[0;34m\u001b[0m\u001b[0m\n\u001b[1;32m    665\u001b[0m             \u001b[0mepochs\u001b[0m\u001b[0;34m=\u001b[0m\u001b[0mepochs\u001b[0m\u001b[0;34m,\u001b[0m \u001b[0mstart_alpha\u001b[0m\u001b[0;34m=\u001b[0m\u001b[0mstart_alpha\u001b[0m\u001b[0;34m,\u001b[0m \u001b[0mend_alpha\u001b[0m\u001b[0;34m=\u001b[0m\u001b[0mend_alpha\u001b[0m\u001b[0;34m,\u001b[0m \u001b[0mword_count\u001b[0m\u001b[0;34m=\u001b[0m\u001b[0mword_count\u001b[0m\u001b[0;34m,\u001b[0m\u001b[0;34m\u001b[0m\u001b[0;34m\u001b[0m\u001b[0m\n\u001b[0;32m--> 666\u001b[0;31m             queue_factor=queue_factor, report_delay=report_delay, callbacks=callbacks)\n\u001b[0m\u001b[1;32m    667\u001b[0m         \u001b[0mself\u001b[0m\u001b[0;34m.\u001b[0m\u001b[0mtrainables\u001b[0m\u001b[0;34m.\u001b[0m\u001b[0mget_vocab_word_vecs\u001b[0m\u001b[0;34m(\u001b[0m\u001b[0mself\u001b[0m\u001b[0;34m.\u001b[0m\u001b[0mwv\u001b[0m\u001b[0;34m)\u001b[0m\u001b[0;34m\u001b[0m\u001b[0;34m\u001b[0m\u001b[0m\n\u001b[1;32m    668\u001b[0m \u001b[0;34m\u001b[0m\u001b[0m\n",
            "\u001b[0;32m/usr/local/lib/python3.7/dist-packages/gensim/models/base_any2vec.py\u001b[0m in \u001b[0;36mtrain\u001b[0;34m(self, sentences, corpus_file, total_examples, total_words, epochs, start_alpha, end_alpha, word_count, queue_factor, report_delay, compute_loss, callbacks, **kwargs)\u001b[0m\n\u001b[1;32m   1079\u001b[0m             \u001b[0mtotal_words\u001b[0m\u001b[0;34m=\u001b[0m\u001b[0mtotal_words\u001b[0m\u001b[0;34m,\u001b[0m \u001b[0mepochs\u001b[0m\u001b[0;34m=\u001b[0m\u001b[0mepochs\u001b[0m\u001b[0;34m,\u001b[0m \u001b[0mstart_alpha\u001b[0m\u001b[0;34m=\u001b[0m\u001b[0mstart_alpha\u001b[0m\u001b[0;34m,\u001b[0m \u001b[0mend_alpha\u001b[0m\u001b[0;34m=\u001b[0m\u001b[0mend_alpha\u001b[0m\u001b[0;34m,\u001b[0m \u001b[0mword_count\u001b[0m\u001b[0;34m=\u001b[0m\u001b[0mword_count\u001b[0m\u001b[0;34m,\u001b[0m\u001b[0;34m\u001b[0m\u001b[0;34m\u001b[0m\u001b[0m\n\u001b[1;32m   1080\u001b[0m             \u001b[0mqueue_factor\u001b[0m\u001b[0;34m=\u001b[0m\u001b[0mqueue_factor\u001b[0m\u001b[0;34m,\u001b[0m \u001b[0mreport_delay\u001b[0m\u001b[0;34m=\u001b[0m\u001b[0mreport_delay\u001b[0m\u001b[0;34m,\u001b[0m \u001b[0mcompute_loss\u001b[0m\u001b[0;34m=\u001b[0m\u001b[0mcompute_loss\u001b[0m\u001b[0;34m,\u001b[0m \u001b[0mcallbacks\u001b[0m\u001b[0;34m=\u001b[0m\u001b[0mcallbacks\u001b[0m\u001b[0;34m,\u001b[0m\u001b[0;34m\u001b[0m\u001b[0;34m\u001b[0m\u001b[0m\n\u001b[0;32m-> 1081\u001b[0;31m             **kwargs)\n\u001b[0m\u001b[1;32m   1082\u001b[0m \u001b[0;34m\u001b[0m\u001b[0m\n\u001b[1;32m   1083\u001b[0m     \u001b[0;32mdef\u001b[0m \u001b[0m_get_job_params\u001b[0m\u001b[0;34m(\u001b[0m\u001b[0mself\u001b[0m\u001b[0;34m,\u001b[0m \u001b[0mcur_epoch\u001b[0m\u001b[0;34m)\u001b[0m\u001b[0;34m:\u001b[0m\u001b[0;34m\u001b[0m\u001b[0;34m\u001b[0m\u001b[0m\n",
            "\u001b[0;32m/usr/local/lib/python3.7/dist-packages/gensim/models/base_any2vec.py\u001b[0m in \u001b[0;36mtrain\u001b[0;34m(self, data_iterable, corpus_file, epochs, total_examples, total_words, queue_factor, report_delay, callbacks, **kwargs)\u001b[0m\n\u001b[1;32m    551\u001b[0m                 trained_word_count_epoch, raw_word_count_epoch, job_tally_epoch = self._train_epoch(\n\u001b[1;32m    552\u001b[0m                     \u001b[0mdata_iterable\u001b[0m\u001b[0;34m,\u001b[0m \u001b[0mcur_epoch\u001b[0m\u001b[0;34m=\u001b[0m\u001b[0mcur_epoch\u001b[0m\u001b[0;34m,\u001b[0m \u001b[0mtotal_examples\u001b[0m\u001b[0;34m=\u001b[0m\u001b[0mtotal_examples\u001b[0m\u001b[0;34m,\u001b[0m\u001b[0;34m\u001b[0m\u001b[0;34m\u001b[0m\u001b[0m\n\u001b[0;32m--> 553\u001b[0;31m                     total_words=total_words, queue_factor=queue_factor, report_delay=report_delay)\n\u001b[0m\u001b[1;32m    554\u001b[0m             \u001b[0;32melse\u001b[0m\u001b[0;34m:\u001b[0m\u001b[0;34m\u001b[0m\u001b[0;34m\u001b[0m\u001b[0m\n\u001b[1;32m    555\u001b[0m                 trained_word_count_epoch, raw_word_count_epoch, job_tally_epoch = self._train_epoch_corpusfile(\n",
            "\u001b[0;32m/usr/local/lib/python3.7/dist-packages/gensim/models/base_any2vec.py\u001b[0m in \u001b[0;36m_train_epoch\u001b[0;34m(self, data_iterable, cur_epoch, total_examples, total_words, queue_factor, report_delay)\u001b[0m\n\u001b[1;32m    487\u001b[0m         trained_word_count, raw_word_count, job_tally = self._log_epoch_progress(\n\u001b[1;32m    488\u001b[0m             \u001b[0mprogress_queue\u001b[0m\u001b[0;34m,\u001b[0m \u001b[0mjob_queue\u001b[0m\u001b[0;34m,\u001b[0m \u001b[0mcur_epoch\u001b[0m\u001b[0;34m=\u001b[0m\u001b[0mcur_epoch\u001b[0m\u001b[0;34m,\u001b[0m \u001b[0mtotal_examples\u001b[0m\u001b[0;34m=\u001b[0m\u001b[0mtotal_examples\u001b[0m\u001b[0;34m,\u001b[0m \u001b[0mtotal_words\u001b[0m\u001b[0;34m=\u001b[0m\u001b[0mtotal_words\u001b[0m\u001b[0;34m,\u001b[0m\u001b[0;34m\u001b[0m\u001b[0;34m\u001b[0m\u001b[0m\n\u001b[0;32m--> 489\u001b[0;31m             report_delay=report_delay, is_corpus_file_mode=False)\n\u001b[0m\u001b[1;32m    490\u001b[0m \u001b[0;34m\u001b[0m\u001b[0m\n\u001b[1;32m    491\u001b[0m         \u001b[0;32mreturn\u001b[0m \u001b[0mtrained_word_count\u001b[0m\u001b[0;34m,\u001b[0m \u001b[0mraw_word_count\u001b[0m\u001b[0;34m,\u001b[0m \u001b[0mjob_tally\u001b[0m\u001b[0;34m\u001b[0m\u001b[0;34m\u001b[0m\u001b[0m\n",
            "\u001b[0;32m/usr/local/lib/python3.7/dist-packages/gensim/models/base_any2vec.py\u001b[0m in \u001b[0;36m_log_epoch_progress\u001b[0;34m(self, progress_queue, job_queue, cur_epoch, total_examples, total_words, report_delay, is_corpus_file_mode)\u001b[0m\n\u001b[1;32m    344\u001b[0m \u001b[0;34m\u001b[0m\u001b[0m\n\u001b[1;32m    345\u001b[0m         \u001b[0;32mwhile\u001b[0m \u001b[0munfinished_worker_count\u001b[0m \u001b[0;34m>\u001b[0m \u001b[0;36m0\u001b[0m\u001b[0;34m:\u001b[0m\u001b[0;34m\u001b[0m\u001b[0;34m\u001b[0m\u001b[0m\n\u001b[0;32m--> 346\u001b[0;31m             \u001b[0mreport\u001b[0m \u001b[0;34m=\u001b[0m \u001b[0mprogress_queue\u001b[0m\u001b[0;34m.\u001b[0m\u001b[0mget\u001b[0m\u001b[0;34m(\u001b[0m\u001b[0;34m)\u001b[0m  \u001b[0;31m# blocks if workers too slow\u001b[0m\u001b[0;34m\u001b[0m\u001b[0;34m\u001b[0m\u001b[0m\n\u001b[0m\u001b[1;32m    347\u001b[0m             \u001b[0;32mif\u001b[0m \u001b[0mreport\u001b[0m \u001b[0;32mis\u001b[0m \u001b[0;32mNone\u001b[0m\u001b[0;34m:\u001b[0m  \u001b[0;31m# a thread reporting that it finished\u001b[0m\u001b[0;34m\u001b[0m\u001b[0;34m\u001b[0m\u001b[0m\n\u001b[1;32m    348\u001b[0m                 \u001b[0munfinished_worker_count\u001b[0m \u001b[0;34m-=\u001b[0m \u001b[0;36m1\u001b[0m\u001b[0;34m\u001b[0m\u001b[0;34m\u001b[0m\u001b[0m\n",
            "\u001b[0;32m/usr/lib/python3.7/queue.py\u001b[0m in \u001b[0;36mget\u001b[0;34m(self, block, timeout)\u001b[0m\n\u001b[1;32m    168\u001b[0m             \u001b[0;32melif\u001b[0m \u001b[0mtimeout\u001b[0m \u001b[0;32mis\u001b[0m \u001b[0;32mNone\u001b[0m\u001b[0;34m:\u001b[0m\u001b[0;34m\u001b[0m\u001b[0;34m\u001b[0m\u001b[0m\n\u001b[1;32m    169\u001b[0m                 \u001b[0;32mwhile\u001b[0m \u001b[0;32mnot\u001b[0m \u001b[0mself\u001b[0m\u001b[0;34m.\u001b[0m\u001b[0m_qsize\u001b[0m\u001b[0;34m(\u001b[0m\u001b[0;34m)\u001b[0m\u001b[0;34m:\u001b[0m\u001b[0;34m\u001b[0m\u001b[0;34m\u001b[0m\u001b[0m\n\u001b[0;32m--> 170\u001b[0;31m                     \u001b[0mself\u001b[0m\u001b[0;34m.\u001b[0m\u001b[0mnot_empty\u001b[0m\u001b[0;34m.\u001b[0m\u001b[0mwait\u001b[0m\u001b[0;34m(\u001b[0m\u001b[0;34m)\u001b[0m\u001b[0;34m\u001b[0m\u001b[0;34m\u001b[0m\u001b[0m\n\u001b[0m\u001b[1;32m    171\u001b[0m             \u001b[0;32melif\u001b[0m \u001b[0mtimeout\u001b[0m \u001b[0;34m<\u001b[0m \u001b[0;36m0\u001b[0m\u001b[0;34m:\u001b[0m\u001b[0;34m\u001b[0m\u001b[0;34m\u001b[0m\u001b[0m\n\u001b[1;32m    172\u001b[0m                 \u001b[0;32mraise\u001b[0m \u001b[0mValueError\u001b[0m\u001b[0;34m(\u001b[0m\u001b[0;34m\"'timeout' must be a non-negative number\"\u001b[0m\u001b[0;34m)\u001b[0m\u001b[0;34m\u001b[0m\u001b[0;34m\u001b[0m\u001b[0m\n",
            "\u001b[0;32m/usr/lib/python3.7/threading.py\u001b[0m in \u001b[0;36mwait\u001b[0;34m(self, timeout)\u001b[0m\n\u001b[1;32m    294\u001b[0m         \u001b[0;32mtry\u001b[0m\u001b[0;34m:\u001b[0m    \u001b[0;31m# restore state no matter what (e.g., KeyboardInterrupt)\u001b[0m\u001b[0;34m\u001b[0m\u001b[0;34m\u001b[0m\u001b[0m\n\u001b[1;32m    295\u001b[0m             \u001b[0;32mif\u001b[0m \u001b[0mtimeout\u001b[0m \u001b[0;32mis\u001b[0m \u001b[0;32mNone\u001b[0m\u001b[0;34m:\u001b[0m\u001b[0;34m\u001b[0m\u001b[0;34m\u001b[0m\u001b[0m\n\u001b[0;32m--> 296\u001b[0;31m                 \u001b[0mwaiter\u001b[0m\u001b[0;34m.\u001b[0m\u001b[0macquire\u001b[0m\u001b[0;34m(\u001b[0m\u001b[0;34m)\u001b[0m\u001b[0;34m\u001b[0m\u001b[0;34m\u001b[0m\u001b[0m\n\u001b[0m\u001b[1;32m    297\u001b[0m                 \u001b[0mgotit\u001b[0m \u001b[0;34m=\u001b[0m \u001b[0;32mTrue\u001b[0m\u001b[0;34m\u001b[0m\u001b[0;34m\u001b[0m\u001b[0m\n\u001b[1;32m    298\u001b[0m             \u001b[0;32melse\u001b[0m\u001b[0;34m:\u001b[0m\u001b[0;34m\u001b[0m\u001b[0;34m\u001b[0m\u001b[0m\n",
            "\u001b[0;31mKeyboardInterrupt\u001b[0m: "
          ]
        }
      ]
    },
    {
      "cell_type": "code",
      "metadata": {
        "id": "XaMpZ2uMI3Ma"
      },
      "source": [
        ""
      ],
      "execution_count": null,
      "outputs": []
    }
  ]
}